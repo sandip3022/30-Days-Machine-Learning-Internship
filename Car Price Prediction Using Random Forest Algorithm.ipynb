{
 "cells": [
  {
   "cell_type": "markdown",
   "id": "46455e73",
   "metadata": {},
   "source": [
    "# Problem Statement:\n",
    "There is techinical details provided in dataset, on that basic, we have to build model to predict car price.\n",
    "Details include:\n",
    "1. ID\n",
    "2. Levy\n",
    "3. Manufacturer\n",
    "4. Model\n",
    "5. Prod. year\n",
    "6. Category\n",
    "7. Leather interior\n",
    "8. Fuel type\n",
    "9. Engine volume\n",
    "10. Mileage\n",
    "11. Cylinders\n",
    "12. Gear box type\n",
    "13. Drive wheels\n",
    "14. Doors\n",
    "15. Wheel\n",
    "16. Color\n",
    "17. Airbags\n"
   ]
  },
  {
   "cell_type": "markdown",
   "id": "313439cf",
   "metadata": {},
   "source": [
    "# Importing Libraries"
   ]
  },
  {
   "cell_type": "code",
   "execution_count": 1,
   "id": "29b603dd",
   "metadata": {},
   "outputs": [],
   "source": [
    "import pandas as pd\n",
    "import numpy as np\n",
    "import matplotlib.pyplot as plt\n",
    "import seaborn as sns\n",
    "\n",
    "from sklearn.preprocessing import LabelEncoder,StandardScaler\n",
    "from sklearn.model_selection import train_test_split\n",
    "from sklearn.ensemble import RandomForestRegressor\n",
    "from sklearn.metrics import r2_score,mean_absolute_error, mean_squared_error"
   ]
  },
  {
   "cell_type": "markdown",
   "id": "f71aa22b",
   "metadata": {},
   "source": [
    "# Imporing Data\n",
    "\n",
    "This data I have taken from **Kaggle**"
   ]
  },
  {
   "cell_type": "code",
   "execution_count": 2,
   "id": "848d6b6c",
   "metadata": {},
   "outputs": [
    {
     "data": {
      "text/html": [
       "<div>\n",
       "<style scoped>\n",
       "    .dataframe tbody tr th:only-of-type {\n",
       "        vertical-align: middle;\n",
       "    }\n",
       "\n",
       "    .dataframe tbody tr th {\n",
       "        vertical-align: top;\n",
       "    }\n",
       "\n",
       "    .dataframe thead th {\n",
       "        text-align: right;\n",
       "    }\n",
       "</style>\n",
       "<table border=\"1\" class=\"dataframe\">\n",
       "  <thead>\n",
       "    <tr style=\"text-align: right;\">\n",
       "      <th></th>\n",
       "      <th>ID</th>\n",
       "      <th>Price</th>\n",
       "      <th>Levy</th>\n",
       "      <th>Manufacturer</th>\n",
       "      <th>Model</th>\n",
       "      <th>Prod. year</th>\n",
       "      <th>Category</th>\n",
       "      <th>Leather interior</th>\n",
       "      <th>Fuel type</th>\n",
       "      <th>Engine volume</th>\n",
       "      <th>Mileage</th>\n",
       "      <th>Cylinders</th>\n",
       "      <th>Gear box type</th>\n",
       "      <th>Drive wheels</th>\n",
       "      <th>Doors</th>\n",
       "      <th>Wheel</th>\n",
       "      <th>Color</th>\n",
       "      <th>Airbags</th>\n",
       "    </tr>\n",
       "  </thead>\n",
       "  <tbody>\n",
       "    <tr>\n",
       "      <th>0</th>\n",
       "      <td>45654403</td>\n",
       "      <td>13328</td>\n",
       "      <td>1399</td>\n",
       "      <td>LEXUS</td>\n",
       "      <td>RX 450</td>\n",
       "      <td>2010</td>\n",
       "      <td>Jeep</td>\n",
       "      <td>Yes</td>\n",
       "      <td>Hybrid</td>\n",
       "      <td>3.5</td>\n",
       "      <td>186005 km</td>\n",
       "      <td>6.0</td>\n",
       "      <td>Automatic</td>\n",
       "      <td>4x4</td>\n",
       "      <td>04-May</td>\n",
       "      <td>Left wheel</td>\n",
       "      <td>Silver</td>\n",
       "      <td>12</td>\n",
       "    </tr>\n",
       "    <tr>\n",
       "      <th>1</th>\n",
       "      <td>44731507</td>\n",
       "      <td>16621</td>\n",
       "      <td>1018</td>\n",
       "      <td>CHEVROLET</td>\n",
       "      <td>Equinox</td>\n",
       "      <td>2011</td>\n",
       "      <td>Jeep</td>\n",
       "      <td>No</td>\n",
       "      <td>Petrol</td>\n",
       "      <td>3</td>\n",
       "      <td>192000 km</td>\n",
       "      <td>6.0</td>\n",
       "      <td>Tiptronic</td>\n",
       "      <td>4x4</td>\n",
       "      <td>04-May</td>\n",
       "      <td>Left wheel</td>\n",
       "      <td>Black</td>\n",
       "      <td>8</td>\n",
       "    </tr>\n",
       "    <tr>\n",
       "      <th>2</th>\n",
       "      <td>45774419</td>\n",
       "      <td>8467</td>\n",
       "      <td>-</td>\n",
       "      <td>HONDA</td>\n",
       "      <td>FIT</td>\n",
       "      <td>2006</td>\n",
       "      <td>Hatchback</td>\n",
       "      <td>No</td>\n",
       "      <td>Petrol</td>\n",
       "      <td>1.3</td>\n",
       "      <td>200000 km</td>\n",
       "      <td>4.0</td>\n",
       "      <td>Variator</td>\n",
       "      <td>Front</td>\n",
       "      <td>04-May</td>\n",
       "      <td>Right-hand drive</td>\n",
       "      <td>Black</td>\n",
       "      <td>2</td>\n",
       "    </tr>\n",
       "    <tr>\n",
       "      <th>3</th>\n",
       "      <td>45769185</td>\n",
       "      <td>3607</td>\n",
       "      <td>862</td>\n",
       "      <td>FORD</td>\n",
       "      <td>Escape</td>\n",
       "      <td>2011</td>\n",
       "      <td>Jeep</td>\n",
       "      <td>Yes</td>\n",
       "      <td>Hybrid</td>\n",
       "      <td>2.5</td>\n",
       "      <td>168966 km</td>\n",
       "      <td>4.0</td>\n",
       "      <td>Automatic</td>\n",
       "      <td>4x4</td>\n",
       "      <td>04-May</td>\n",
       "      <td>Left wheel</td>\n",
       "      <td>White</td>\n",
       "      <td>0</td>\n",
       "    </tr>\n",
       "    <tr>\n",
       "      <th>4</th>\n",
       "      <td>45809263</td>\n",
       "      <td>11726</td>\n",
       "      <td>446</td>\n",
       "      <td>HONDA</td>\n",
       "      <td>FIT</td>\n",
       "      <td>2014</td>\n",
       "      <td>Hatchback</td>\n",
       "      <td>Yes</td>\n",
       "      <td>Petrol</td>\n",
       "      <td>1.3</td>\n",
       "      <td>91901 km</td>\n",
       "      <td>4.0</td>\n",
       "      <td>Automatic</td>\n",
       "      <td>Front</td>\n",
       "      <td>04-May</td>\n",
       "      <td>Left wheel</td>\n",
       "      <td>Silver</td>\n",
       "      <td>4</td>\n",
       "    </tr>\n",
       "    <tr>\n",
       "      <th>...</th>\n",
       "      <td>...</td>\n",
       "      <td>...</td>\n",
       "      <td>...</td>\n",
       "      <td>...</td>\n",
       "      <td>...</td>\n",
       "      <td>...</td>\n",
       "      <td>...</td>\n",
       "      <td>...</td>\n",
       "      <td>...</td>\n",
       "      <td>...</td>\n",
       "      <td>...</td>\n",
       "      <td>...</td>\n",
       "      <td>...</td>\n",
       "      <td>...</td>\n",
       "      <td>...</td>\n",
       "      <td>...</td>\n",
       "      <td>...</td>\n",
       "      <td>...</td>\n",
       "    </tr>\n",
       "    <tr>\n",
       "      <th>19232</th>\n",
       "      <td>45798355</td>\n",
       "      <td>8467</td>\n",
       "      <td>-</td>\n",
       "      <td>MERCEDES-BENZ</td>\n",
       "      <td>CLK 200</td>\n",
       "      <td>1999</td>\n",
       "      <td>Coupe</td>\n",
       "      <td>Yes</td>\n",
       "      <td>CNG</td>\n",
       "      <td>2.0 Turbo</td>\n",
       "      <td>300000 km</td>\n",
       "      <td>4.0</td>\n",
       "      <td>Manual</td>\n",
       "      <td>Rear</td>\n",
       "      <td>02-Mar</td>\n",
       "      <td>Left wheel</td>\n",
       "      <td>Silver</td>\n",
       "      <td>5</td>\n",
       "    </tr>\n",
       "    <tr>\n",
       "      <th>19233</th>\n",
       "      <td>45778856</td>\n",
       "      <td>15681</td>\n",
       "      <td>831</td>\n",
       "      <td>HYUNDAI</td>\n",
       "      <td>Sonata</td>\n",
       "      <td>2011</td>\n",
       "      <td>Sedan</td>\n",
       "      <td>Yes</td>\n",
       "      <td>Petrol</td>\n",
       "      <td>2.4</td>\n",
       "      <td>161600 km</td>\n",
       "      <td>4.0</td>\n",
       "      <td>Tiptronic</td>\n",
       "      <td>Front</td>\n",
       "      <td>04-May</td>\n",
       "      <td>Left wheel</td>\n",
       "      <td>Red</td>\n",
       "      <td>8</td>\n",
       "    </tr>\n",
       "    <tr>\n",
       "      <th>19234</th>\n",
       "      <td>45804997</td>\n",
       "      <td>26108</td>\n",
       "      <td>836</td>\n",
       "      <td>HYUNDAI</td>\n",
       "      <td>Tucson</td>\n",
       "      <td>2010</td>\n",
       "      <td>Jeep</td>\n",
       "      <td>Yes</td>\n",
       "      <td>Diesel</td>\n",
       "      <td>2</td>\n",
       "      <td>116365 km</td>\n",
       "      <td>4.0</td>\n",
       "      <td>Automatic</td>\n",
       "      <td>Front</td>\n",
       "      <td>04-May</td>\n",
       "      <td>Left wheel</td>\n",
       "      <td>Grey</td>\n",
       "      <td>4</td>\n",
       "    </tr>\n",
       "    <tr>\n",
       "      <th>19235</th>\n",
       "      <td>45793526</td>\n",
       "      <td>5331</td>\n",
       "      <td>1288</td>\n",
       "      <td>CHEVROLET</td>\n",
       "      <td>Captiva</td>\n",
       "      <td>2007</td>\n",
       "      <td>Jeep</td>\n",
       "      <td>Yes</td>\n",
       "      <td>Diesel</td>\n",
       "      <td>2</td>\n",
       "      <td>51258 km</td>\n",
       "      <td>4.0</td>\n",
       "      <td>Automatic</td>\n",
       "      <td>Front</td>\n",
       "      <td>04-May</td>\n",
       "      <td>Left wheel</td>\n",
       "      <td>Black</td>\n",
       "      <td>4</td>\n",
       "    </tr>\n",
       "    <tr>\n",
       "      <th>19236</th>\n",
       "      <td>45813273</td>\n",
       "      <td>470</td>\n",
       "      <td>753</td>\n",
       "      <td>HYUNDAI</td>\n",
       "      <td>Sonata</td>\n",
       "      <td>2012</td>\n",
       "      <td>Sedan</td>\n",
       "      <td>Yes</td>\n",
       "      <td>Hybrid</td>\n",
       "      <td>2.4</td>\n",
       "      <td>186923 km</td>\n",
       "      <td>4.0</td>\n",
       "      <td>Automatic</td>\n",
       "      <td>Front</td>\n",
       "      <td>04-May</td>\n",
       "      <td>Left wheel</td>\n",
       "      <td>White</td>\n",
       "      <td>12</td>\n",
       "    </tr>\n",
       "  </tbody>\n",
       "</table>\n",
       "<p>19237 rows × 18 columns</p>\n",
       "</div>"
      ],
      "text/plain": [
       "             ID  Price  Levy   Manufacturer    Model  Prod. year   Category  \\\n",
       "0      45654403  13328  1399          LEXUS   RX 450        2010       Jeep   \n",
       "1      44731507  16621  1018      CHEVROLET  Equinox        2011       Jeep   \n",
       "2      45774419   8467     -          HONDA      FIT        2006  Hatchback   \n",
       "3      45769185   3607   862           FORD   Escape        2011       Jeep   \n",
       "4      45809263  11726   446          HONDA      FIT        2014  Hatchback   \n",
       "...         ...    ...   ...            ...      ...         ...        ...   \n",
       "19232  45798355   8467     -  MERCEDES-BENZ  CLK 200        1999      Coupe   \n",
       "19233  45778856  15681   831        HYUNDAI   Sonata        2011      Sedan   \n",
       "19234  45804997  26108   836        HYUNDAI   Tucson        2010       Jeep   \n",
       "19235  45793526   5331  1288      CHEVROLET  Captiva        2007       Jeep   \n",
       "19236  45813273    470   753        HYUNDAI   Sonata        2012      Sedan   \n",
       "\n",
       "      Leather interior Fuel type Engine volume    Mileage  Cylinders  \\\n",
       "0                  Yes    Hybrid           3.5  186005 km        6.0   \n",
       "1                   No    Petrol             3  192000 km        6.0   \n",
       "2                   No    Petrol           1.3  200000 km        4.0   \n",
       "3                  Yes    Hybrid           2.5  168966 km        4.0   \n",
       "4                  Yes    Petrol           1.3   91901 km        4.0   \n",
       "...                ...       ...           ...        ...        ...   \n",
       "19232              Yes       CNG     2.0 Turbo  300000 km        4.0   \n",
       "19233              Yes    Petrol           2.4  161600 km        4.0   \n",
       "19234              Yes    Diesel             2  116365 km        4.0   \n",
       "19235              Yes    Diesel             2   51258 km        4.0   \n",
       "19236              Yes    Hybrid           2.4  186923 km        4.0   \n",
       "\n",
       "      Gear box type Drive wheels   Doors             Wheel   Color  Airbags  \n",
       "0         Automatic          4x4  04-May        Left wheel  Silver       12  \n",
       "1         Tiptronic          4x4  04-May        Left wheel   Black        8  \n",
       "2          Variator        Front  04-May  Right-hand drive   Black        2  \n",
       "3         Automatic          4x4  04-May        Left wheel   White        0  \n",
       "4         Automatic        Front  04-May        Left wheel  Silver        4  \n",
       "...             ...          ...     ...               ...     ...      ...  \n",
       "19232        Manual         Rear  02-Mar        Left wheel  Silver        5  \n",
       "19233     Tiptronic        Front  04-May        Left wheel     Red        8  \n",
       "19234     Automatic        Front  04-May        Left wheel    Grey        4  \n",
       "19235     Automatic        Front  04-May        Left wheel   Black        4  \n",
       "19236     Automatic        Front  04-May        Left wheel   White       12  \n",
       "\n",
       "[19237 rows x 18 columns]"
      ]
     },
     "execution_count": 2,
     "metadata": {},
     "output_type": "execute_result"
    }
   ],
   "source": [
    "data = pd.read_csv(\"car_price_prediction.csv\")\n",
    "data"
   ]
  },
  {
   "cell_type": "markdown",
   "id": "c172c45c",
   "metadata": {},
   "source": [
    "# Data Cleaning"
   ]
  },
  {
   "cell_type": "markdown",
   "id": "98e252ce",
   "metadata": {},
   "source": [
    "### Head"
   ]
  },
  {
   "cell_type": "code",
   "execution_count": 3,
   "id": "dae4905a",
   "metadata": {},
   "outputs": [
    {
     "data": {
      "text/html": [
       "<div>\n",
       "<style scoped>\n",
       "    .dataframe tbody tr th:only-of-type {\n",
       "        vertical-align: middle;\n",
       "    }\n",
       "\n",
       "    .dataframe tbody tr th {\n",
       "        vertical-align: top;\n",
       "    }\n",
       "\n",
       "    .dataframe thead th {\n",
       "        text-align: right;\n",
       "    }\n",
       "</style>\n",
       "<table border=\"1\" class=\"dataframe\">\n",
       "  <thead>\n",
       "    <tr style=\"text-align: right;\">\n",
       "      <th></th>\n",
       "      <th>ID</th>\n",
       "      <th>Price</th>\n",
       "      <th>Levy</th>\n",
       "      <th>Manufacturer</th>\n",
       "      <th>Model</th>\n",
       "      <th>Prod. year</th>\n",
       "      <th>Category</th>\n",
       "      <th>Leather interior</th>\n",
       "      <th>Fuel type</th>\n",
       "      <th>Engine volume</th>\n",
       "      <th>Mileage</th>\n",
       "      <th>Cylinders</th>\n",
       "      <th>Gear box type</th>\n",
       "      <th>Drive wheels</th>\n",
       "      <th>Doors</th>\n",
       "      <th>Wheel</th>\n",
       "      <th>Color</th>\n",
       "      <th>Airbags</th>\n",
       "    </tr>\n",
       "  </thead>\n",
       "  <tbody>\n",
       "    <tr>\n",
       "      <th>0</th>\n",
       "      <td>45654403</td>\n",
       "      <td>13328</td>\n",
       "      <td>1399</td>\n",
       "      <td>LEXUS</td>\n",
       "      <td>RX 450</td>\n",
       "      <td>2010</td>\n",
       "      <td>Jeep</td>\n",
       "      <td>Yes</td>\n",
       "      <td>Hybrid</td>\n",
       "      <td>3.5</td>\n",
       "      <td>186005 km</td>\n",
       "      <td>6.0</td>\n",
       "      <td>Automatic</td>\n",
       "      <td>4x4</td>\n",
       "      <td>04-May</td>\n",
       "      <td>Left wheel</td>\n",
       "      <td>Silver</td>\n",
       "      <td>12</td>\n",
       "    </tr>\n",
       "    <tr>\n",
       "      <th>1</th>\n",
       "      <td>44731507</td>\n",
       "      <td>16621</td>\n",
       "      <td>1018</td>\n",
       "      <td>CHEVROLET</td>\n",
       "      <td>Equinox</td>\n",
       "      <td>2011</td>\n",
       "      <td>Jeep</td>\n",
       "      <td>No</td>\n",
       "      <td>Petrol</td>\n",
       "      <td>3</td>\n",
       "      <td>192000 km</td>\n",
       "      <td>6.0</td>\n",
       "      <td>Tiptronic</td>\n",
       "      <td>4x4</td>\n",
       "      <td>04-May</td>\n",
       "      <td>Left wheel</td>\n",
       "      <td>Black</td>\n",
       "      <td>8</td>\n",
       "    </tr>\n",
       "    <tr>\n",
       "      <th>2</th>\n",
       "      <td>45774419</td>\n",
       "      <td>8467</td>\n",
       "      <td>-</td>\n",
       "      <td>HONDA</td>\n",
       "      <td>FIT</td>\n",
       "      <td>2006</td>\n",
       "      <td>Hatchback</td>\n",
       "      <td>No</td>\n",
       "      <td>Petrol</td>\n",
       "      <td>1.3</td>\n",
       "      <td>200000 km</td>\n",
       "      <td>4.0</td>\n",
       "      <td>Variator</td>\n",
       "      <td>Front</td>\n",
       "      <td>04-May</td>\n",
       "      <td>Right-hand drive</td>\n",
       "      <td>Black</td>\n",
       "      <td>2</td>\n",
       "    </tr>\n",
       "    <tr>\n",
       "      <th>3</th>\n",
       "      <td>45769185</td>\n",
       "      <td>3607</td>\n",
       "      <td>862</td>\n",
       "      <td>FORD</td>\n",
       "      <td>Escape</td>\n",
       "      <td>2011</td>\n",
       "      <td>Jeep</td>\n",
       "      <td>Yes</td>\n",
       "      <td>Hybrid</td>\n",
       "      <td>2.5</td>\n",
       "      <td>168966 km</td>\n",
       "      <td>4.0</td>\n",
       "      <td>Automatic</td>\n",
       "      <td>4x4</td>\n",
       "      <td>04-May</td>\n",
       "      <td>Left wheel</td>\n",
       "      <td>White</td>\n",
       "      <td>0</td>\n",
       "    </tr>\n",
       "    <tr>\n",
       "      <th>4</th>\n",
       "      <td>45809263</td>\n",
       "      <td>11726</td>\n",
       "      <td>446</td>\n",
       "      <td>HONDA</td>\n",
       "      <td>FIT</td>\n",
       "      <td>2014</td>\n",
       "      <td>Hatchback</td>\n",
       "      <td>Yes</td>\n",
       "      <td>Petrol</td>\n",
       "      <td>1.3</td>\n",
       "      <td>91901 km</td>\n",
       "      <td>4.0</td>\n",
       "      <td>Automatic</td>\n",
       "      <td>Front</td>\n",
       "      <td>04-May</td>\n",
       "      <td>Left wheel</td>\n",
       "      <td>Silver</td>\n",
       "      <td>4</td>\n",
       "    </tr>\n",
       "  </tbody>\n",
       "</table>\n",
       "</div>"
      ],
      "text/plain": [
       "         ID  Price  Levy Manufacturer    Model  Prod. year   Category  \\\n",
       "0  45654403  13328  1399        LEXUS   RX 450        2010       Jeep   \n",
       "1  44731507  16621  1018    CHEVROLET  Equinox        2011       Jeep   \n",
       "2  45774419   8467     -        HONDA      FIT        2006  Hatchback   \n",
       "3  45769185   3607   862         FORD   Escape        2011       Jeep   \n",
       "4  45809263  11726   446        HONDA      FIT        2014  Hatchback   \n",
       "\n",
       "  Leather interior Fuel type Engine volume    Mileage  Cylinders  \\\n",
       "0              Yes    Hybrid           3.5  186005 km        6.0   \n",
       "1               No    Petrol             3  192000 km        6.0   \n",
       "2               No    Petrol           1.3  200000 km        4.0   \n",
       "3              Yes    Hybrid           2.5  168966 km        4.0   \n",
       "4              Yes    Petrol           1.3   91901 km        4.0   \n",
       "\n",
       "  Gear box type Drive wheels   Doors             Wheel   Color  Airbags  \n",
       "0     Automatic          4x4  04-May        Left wheel  Silver       12  \n",
       "1     Tiptronic          4x4  04-May        Left wheel   Black        8  \n",
       "2      Variator        Front  04-May  Right-hand drive   Black        2  \n",
       "3     Automatic          4x4  04-May        Left wheel   White        0  \n",
       "4     Automatic        Front  04-May        Left wheel  Silver        4  "
      ]
     },
     "execution_count": 3,
     "metadata": {},
     "output_type": "execute_result"
    }
   ],
   "source": [
    "data.head()"
   ]
  },
  {
   "cell_type": "markdown",
   "id": "7a5abb78",
   "metadata": {},
   "source": [
    "## Shape"
   ]
  },
  {
   "cell_type": "code",
   "execution_count": 4,
   "id": "3806a408",
   "metadata": {},
   "outputs": [
    {
     "data": {
      "text/plain": [
       "(19237, 18)"
      ]
     },
     "execution_count": 4,
     "metadata": {},
     "output_type": "execute_result"
    }
   ],
   "source": [
    "data.shape"
   ]
  },
  {
   "cell_type": "markdown",
   "id": "ca0065ca",
   "metadata": {},
   "source": [
    "We have 19237 rows and 18 columns in our dataset."
   ]
  },
  {
   "cell_type": "markdown",
   "id": "554967ea",
   "metadata": {},
   "source": [
    "## Null Value"
   ]
  },
  {
   "cell_type": "code",
   "execution_count": 5,
   "id": "8140cc91",
   "metadata": {},
   "outputs": [
    {
     "data": {
      "text/plain": [
       "ID                  0\n",
       "Price               0\n",
       "Levy                0\n",
       "Manufacturer        0\n",
       "Model               0\n",
       "Prod. year          0\n",
       "Category            0\n",
       "Leather interior    0\n",
       "Fuel type           0\n",
       "Engine volume       0\n",
       "Mileage             0\n",
       "Cylinders           0\n",
       "Gear box type       0\n",
       "Drive wheels        0\n",
       "Doors               0\n",
       "Wheel               0\n",
       "Color               0\n",
       "Airbags             0\n",
       "dtype: int64"
      ]
     },
     "execution_count": 5,
     "metadata": {},
     "output_type": "execute_result"
    }
   ],
   "source": [
    "data.isnull().sum()"
   ]
  },
  {
   "cell_type": "markdown",
   "id": "0a598e1c",
   "metadata": {},
   "source": [
    "We have no null value in our dataset."
   ]
  },
  {
   "cell_type": "code",
   "execution_count": 6,
   "id": "764d6201",
   "metadata": {},
   "outputs": [
    {
     "data": {
      "text/html": [
       "<div>\n",
       "<style scoped>\n",
       "    .dataframe tbody tr th:only-of-type {\n",
       "        vertical-align: middle;\n",
       "    }\n",
       "\n",
       "    .dataframe tbody tr th {\n",
       "        vertical-align: top;\n",
       "    }\n",
       "\n",
       "    .dataframe thead th {\n",
       "        text-align: right;\n",
       "    }\n",
       "</style>\n",
       "<table border=\"1\" class=\"dataframe\">\n",
       "  <thead>\n",
       "    <tr style=\"text-align: right;\">\n",
       "      <th></th>\n",
       "      <th>count</th>\n",
       "      <th>mean</th>\n",
       "      <th>std</th>\n",
       "      <th>min</th>\n",
       "      <th>25%</th>\n",
       "      <th>50%</th>\n",
       "      <th>75%</th>\n",
       "      <th>max</th>\n",
       "    </tr>\n",
       "  </thead>\n",
       "  <tbody>\n",
       "    <tr>\n",
       "      <th>ID</th>\n",
       "      <td>19237.0</td>\n",
       "      <td>4.557654e+07</td>\n",
       "      <td>936591.422799</td>\n",
       "      <td>20746880.0</td>\n",
       "      <td>45698374.0</td>\n",
       "      <td>45772308.0</td>\n",
       "      <td>45802036.0</td>\n",
       "      <td>45816654.0</td>\n",
       "    </tr>\n",
       "    <tr>\n",
       "      <th>Price</th>\n",
       "      <td>19237.0</td>\n",
       "      <td>1.855593e+04</td>\n",
       "      <td>190581.269684</td>\n",
       "      <td>1.0</td>\n",
       "      <td>5331.0</td>\n",
       "      <td>13172.0</td>\n",
       "      <td>22075.0</td>\n",
       "      <td>26307500.0</td>\n",
       "    </tr>\n",
       "    <tr>\n",
       "      <th>Prod. year</th>\n",
       "      <td>19237.0</td>\n",
       "      <td>2.010913e+03</td>\n",
       "      <td>5.668673</td>\n",
       "      <td>1939.0</td>\n",
       "      <td>2009.0</td>\n",
       "      <td>2012.0</td>\n",
       "      <td>2015.0</td>\n",
       "      <td>2020.0</td>\n",
       "    </tr>\n",
       "    <tr>\n",
       "      <th>Cylinders</th>\n",
       "      <td>19237.0</td>\n",
       "      <td>4.582991e+00</td>\n",
       "      <td>1.199933</td>\n",
       "      <td>1.0</td>\n",
       "      <td>4.0</td>\n",
       "      <td>4.0</td>\n",
       "      <td>4.0</td>\n",
       "      <td>16.0</td>\n",
       "    </tr>\n",
       "    <tr>\n",
       "      <th>Airbags</th>\n",
       "      <td>19237.0</td>\n",
       "      <td>6.582627e+00</td>\n",
       "      <td>4.320168</td>\n",
       "      <td>0.0</td>\n",
       "      <td>4.0</td>\n",
       "      <td>6.0</td>\n",
       "      <td>12.0</td>\n",
       "      <td>16.0</td>\n",
       "    </tr>\n",
       "  </tbody>\n",
       "</table>\n",
       "</div>"
      ],
      "text/plain": [
       "              count          mean            std         min         25%  \\\n",
       "ID          19237.0  4.557654e+07  936591.422799  20746880.0  45698374.0   \n",
       "Price       19237.0  1.855593e+04  190581.269684         1.0      5331.0   \n",
       "Prod. year  19237.0  2.010913e+03       5.668673      1939.0      2009.0   \n",
       "Cylinders   19237.0  4.582991e+00       1.199933         1.0         4.0   \n",
       "Airbags     19237.0  6.582627e+00       4.320168         0.0         4.0   \n",
       "\n",
       "                   50%         75%         max  \n",
       "ID          45772308.0  45802036.0  45816654.0  \n",
       "Price          13172.0     22075.0  26307500.0  \n",
       "Prod. year      2012.0      2015.0      2020.0  \n",
       "Cylinders          4.0         4.0        16.0  \n",
       "Airbags            6.0        12.0        16.0  "
      ]
     },
     "execution_count": 6,
     "metadata": {},
     "output_type": "execute_result"
    }
   ],
   "source": [
    "data.describe().T"
   ]
  },
  {
   "cell_type": "markdown",
   "id": "4adb5de3",
   "metadata": {},
   "source": [
    "## Datatypes"
   ]
  },
  {
   "cell_type": "code",
   "execution_count": 7,
   "id": "9643e990",
   "metadata": {},
   "outputs": [
    {
     "data": {
      "text/plain": [
       "ID                    int64\n",
       "Price                 int64\n",
       "Levy                 object\n",
       "Manufacturer         object\n",
       "Model                object\n",
       "Prod. year            int64\n",
       "Category             object\n",
       "Leather interior     object\n",
       "Fuel type            object\n",
       "Engine volume        object\n",
       "Mileage              object\n",
       "Cylinders           float64\n",
       "Gear box type        object\n",
       "Drive wheels         object\n",
       "Doors                object\n",
       "Wheel                object\n",
       "Color                object\n",
       "Airbags               int64\n",
       "dtype: object"
      ]
     },
     "execution_count": 7,
     "metadata": {},
     "output_type": "execute_result"
    }
   ],
   "source": [
    "data.dtypes"
   ]
  },
  {
   "cell_type": "markdown",
   "id": "dfb91f1f",
   "metadata": {},
   "source": [
    "Here I'll approach with two ways:\n",
    "1. If Number value with onject datatypes then use `type conversion`.\n",
    "2. If string value use `Label Encoder`.\n"
   ]
  },
  {
   "cell_type": "markdown",
   "id": "fa164ac8",
   "metadata": {},
   "source": [
    "### 1. Levy"
   ]
  },
  {
   "cell_type": "code",
   "execution_count": 8,
   "id": "25288150",
   "metadata": {},
   "outputs": [
    {
     "data": {
      "text/plain": [
       "559"
      ]
     },
     "execution_count": 8,
     "metadata": {},
     "output_type": "execute_result"
    }
   ],
   "source": [
    "# Unique Value\n",
    "len(data.Levy.unique())"
   ]
  },
  {
   "cell_type": "code",
   "execution_count": 9,
   "id": "a8cbe005",
   "metadata": {},
   "outputs": [
    {
     "data": {
      "text/plain": [
       "-       5819\n",
       "765      486\n",
       "891      461\n",
       "639      410\n",
       "640      405\n",
       "        ... \n",
       "3156       1\n",
       "2908       1\n",
       "1279       1\n",
       "1719       1\n",
       "1901       1\n",
       "Name: Levy, Length: 559, dtype: int64"
      ]
     },
     "execution_count": 9,
     "metadata": {},
     "output_type": "execute_result"
    }
   ],
   "source": [
    "# Value Count\n",
    "data.Levy.value_counts()"
   ]
  },
  {
   "cell_type": "markdown",
   "id": "e1aee27f",
   "metadata": {},
   "source": [
    "We can see that `-` at  5891 places. So I am going to replace it by mean of other values."
   ]
  },
  {
   "cell_type": "code",
   "execution_count": 10,
   "id": "b4c93b51",
   "metadata": {},
   "outputs": [],
   "source": [
    "# lets calculate mean\n",
    "tot = []\n",
    "for i in data.Levy:\n",
    "    if i !=\"-\":\n",
    "        tot.append(int(i))\n",
    "LevyAvg = sum(tot)/len(tot)"
   ]
  },
  {
   "cell_type": "code",
   "execution_count": 11,
   "id": "b2345dec",
   "metadata": {},
   "outputs": [
    {
     "data": {
      "text/plain": [
       "906.8381278879118"
      ]
     },
     "execution_count": 11,
     "metadata": {},
     "output_type": "execute_result"
    }
   ],
   "source": [
    "LevyAvg"
   ]
  },
  {
   "cell_type": "code",
   "execution_count": 12,
   "id": "300f8c4f",
   "metadata": {},
   "outputs": [],
   "source": [
    "# Now I am replacing \"-\" by 906.8381\n",
    "data.Levy = data.Levy.replace(\"-\",LevyAvg)\n",
    "\n",
    "# convert datatype object to float\n",
    "data.Levy = data.Levy.astype(float)"
   ]
  },
  {
   "cell_type": "code",
   "execution_count": 13,
   "id": "6c327621",
   "metadata": {},
   "outputs": [
    {
     "data": {
      "text/plain": [
       "dtype('float64')"
      ]
     },
     "execution_count": 13,
     "metadata": {},
     "output_type": "execute_result"
    }
   ],
   "source": [
    "data.Levy.dtypes"
   ]
  },
  {
   "cell_type": "markdown",
   "id": "6c6d2de1",
   "metadata": {},
   "source": [
    "### 2. Manufacturer"
   ]
  },
  {
   "cell_type": "code",
   "execution_count": 14,
   "id": "593f9344",
   "metadata": {},
   "outputs": [
    {
     "data": {
      "text/plain": [
       "array(['LEXUS', 'CHEVROLET', 'HONDA', 'FORD', 'HYUNDAI', 'TOYOTA',\n",
       "       'MERCEDES-BENZ', 'OPEL', 'PORSCHE', 'BMW', 'JEEP', 'VOLKSWAGEN',\n",
       "       'AUDI', 'RENAULT', 'NISSAN', 'SUBARU', 'DAEWOO', 'KIA',\n",
       "       'MITSUBISHI', 'SSANGYONG', 'MAZDA', 'GMC', 'FIAT', 'INFINITI',\n",
       "       'ALFA ROMEO', 'SUZUKI', 'ACURA', 'LINCOLN', 'VAZ', 'GAZ',\n",
       "       'CITROEN', 'LAND ROVER', 'MINI', 'DODGE', 'CHRYSLER', 'JAGUAR',\n",
       "       'ISUZU', 'SKODA', 'DAIHATSU', 'BUICK', 'TESLA', 'CADILLAC',\n",
       "       'PEUGEOT', 'BENTLEY', 'VOLVO', 'სხვა', 'HAVAL', 'HUMMER', 'SCION',\n",
       "       'UAZ', 'MERCURY', 'ZAZ', 'ROVER', 'SEAT', 'LANCIA', 'MOSKVICH',\n",
       "       'MASERATI', 'FERRARI', 'SAAB', 'LAMBORGHINI', 'ROLLS-ROYCE',\n",
       "       'PONTIAC', 'SATURN', 'ASTON MARTIN', 'GREATWALL'], dtype=object)"
      ]
     },
     "execution_count": 14,
     "metadata": {},
     "output_type": "execute_result"
    }
   ],
   "source": [
    "# Unique Value\n",
    "data.Manufacturer.unique()"
   ]
  },
  {
   "cell_type": "code",
   "execution_count": 15,
   "id": "df59e753",
   "metadata": {},
   "outputs": [
    {
     "data": {
      "text/plain": [
       "HYUNDAI          3769\n",
       "TOYOTA           3662\n",
       "MERCEDES-BENZ    2076\n",
       "FORD             1111\n",
       "CHEVROLET        1069\n",
       "                 ... \n",
       "TESLA               1\n",
       "PONTIAC             1\n",
       "SATURN              1\n",
       "ASTON MARTIN        1\n",
       "GREATWALL           1\n",
       "Name: Manufacturer, Length: 65, dtype: int64"
      ]
     },
     "execution_count": 15,
     "metadata": {},
     "output_type": "execute_result"
    }
   ],
   "source": [
    "# Value Count\n",
    "data.Manufacturer.value_counts()"
   ]
  },
  {
   "cell_type": "code",
   "execution_count": 16,
   "id": "72535247",
   "metadata": {},
   "outputs": [],
   "source": [
    "leManu = LabelEncoder()\n",
    "leManu.fit(data.Manufacturer)\n",
    "data.Manufacturer = leManu.transform(data.Manufacturer)"
   ]
  },
  {
   "cell_type": "code",
   "execution_count": 17,
   "id": "81c3cd42",
   "metadata": {},
   "outputs": [
    {
     "data": {
      "text/plain": [
       "dtype('int32')"
      ]
     },
     "execution_count": 17,
     "metadata": {},
     "output_type": "execute_result"
    }
   ],
   "source": [
    "data.Manufacturer.dtypes"
   ]
  },
  {
   "cell_type": "code",
   "execution_count": 18,
   "id": "fd1ec466",
   "metadata": {},
   "outputs": [
    {
     "data": {
      "text/plain": [
       "0        32\n",
       "1         8\n",
       "2        21\n",
       "3        16\n",
       "4        21\n",
       "         ..\n",
       "19232    36\n",
       "19233    23\n",
       "19234    23\n",
       "19235     8\n",
       "19236    23\n",
       "Name: Manufacturer, Length: 19237, dtype: int32"
      ]
     },
     "execution_count": 18,
     "metadata": {},
     "output_type": "execute_result"
    }
   ],
   "source": [
    "data.Manufacturer"
   ]
  },
  {
   "cell_type": "markdown",
   "id": "6beb25da",
   "metadata": {},
   "source": [
    "### 3. Model"
   ]
  },
  {
   "cell_type": "code",
   "execution_count": 19,
   "id": "bd9b04a9",
   "metadata": {},
   "outputs": [
    {
     "data": {
      "text/plain": [
       "array(['RX 450', 'Equinox', 'FIT', ..., 'E 230 124', 'RX 450 F SPORT',\n",
       "       'Prius C aqua'], dtype=object)"
      ]
     },
     "execution_count": 19,
     "metadata": {},
     "output_type": "execute_result"
    }
   ],
   "source": [
    "data.Model.unique()"
   ]
  },
  {
   "cell_type": "code",
   "execution_count": 20,
   "id": "78dc1aae",
   "metadata": {},
   "outputs": [
    {
     "data": {
      "text/plain": [
       "Prius                    1083\n",
       "Sonata                   1079\n",
       "Camry                     938\n",
       "Elantra                   922\n",
       "E 350                     542\n",
       "                         ... \n",
       "Feroza                      1\n",
       "C-MAX C-MAX                 1\n",
       "X1 4X4                      1\n",
       "Land Cruiser Prado RX       1\n",
       "Prius C aqua                1\n",
       "Name: Model, Length: 1590, dtype: int64"
      ]
     },
     "execution_count": 20,
     "metadata": {},
     "output_type": "execute_result"
    }
   ],
   "source": [
    "data.Model.value_counts()"
   ]
  },
  {
   "cell_type": "code",
   "execution_count": 21,
   "id": "cb756ed7",
   "metadata": {},
   "outputs": [],
   "source": [
    "leModel = LabelEncoder()\n",
    "leModel.fit(data.Model)\n",
    "data.Model = leModel.transform(data.Model)"
   ]
  },
  {
   "cell_type": "code",
   "execution_count": 22,
   "id": "cf953416",
   "metadata": {},
   "outputs": [
    {
     "data": {
      "text/plain": [
       "dtype('int32')"
      ]
     },
     "execution_count": 22,
     "metadata": {},
     "output_type": "execute_result"
    }
   ],
   "source": [
    "data.Model.dtypes"
   ]
  },
  {
   "cell_type": "code",
   "execution_count": 23,
   "id": "625f1f81",
   "metadata": {},
   "outputs": [
    {
     "data": {
      "text/plain": [
       "0        1242\n",
       "1         658\n",
       "2         684\n",
       "3         661\n",
       "4         684\n",
       "         ... \n",
       "19232     385\n",
       "19233    1334\n",
       "19234    1442\n",
       "19235     456\n",
       "19236    1334\n",
       "Name: Model, Length: 19237, dtype: int32"
      ]
     },
     "execution_count": 23,
     "metadata": {},
     "output_type": "execute_result"
    }
   ],
   "source": [
    "data.Model"
   ]
  },
  {
   "cell_type": "markdown",
   "id": "d0e502dd",
   "metadata": {},
   "source": [
    "### 3. Leather Ineterior"
   ]
  },
  {
   "cell_type": "code",
   "execution_count": 24,
   "id": "0ccbd3c3",
   "metadata": {},
   "outputs": [
    {
     "data": {
      "text/plain": [
       "array(['Yes', 'No'], dtype=object)"
      ]
     },
     "execution_count": 24,
     "metadata": {},
     "output_type": "execute_result"
    }
   ],
   "source": [
    "# Unique Value\n",
    "data[\"Leather interior\"].unique()"
   ]
  },
  {
   "cell_type": "code",
   "execution_count": 25,
   "id": "04ec6807",
   "metadata": {},
   "outputs": [
    {
     "data": {
      "text/plain": [
       "Yes    13954\n",
       "No      5283\n",
       "Name: Leather interior, dtype: int64"
      ]
     },
     "execution_count": 25,
     "metadata": {},
     "output_type": "execute_result"
    }
   ],
   "source": [
    "# Value Count\n",
    "data[\"Leather interior\"].value_counts()"
   ]
  },
  {
   "cell_type": "markdown",
   "id": "eb51ebde",
   "metadata": {},
   "source": [
    "Here we have value only **No** and **No**\n",
    "I'm going map:\n",
    "* `Yes` = 1\n",
    "* `No` = 0"
   ]
  },
  {
   "cell_type": "code",
   "execution_count": 26,
   "id": "f7a1405f",
   "metadata": {},
   "outputs": [
    {
     "data": {
      "text/plain": [
       "0        1\n",
       "1        0\n",
       "2        0\n",
       "3        1\n",
       "4        1\n",
       "        ..\n",
       "19232    1\n",
       "19233    1\n",
       "19234    1\n",
       "19235    1\n",
       "19236    1\n",
       "Name: Leather interior, Length: 19237, dtype: int64"
      ]
     },
     "execution_count": 26,
     "metadata": {},
     "output_type": "execute_result"
    }
   ],
   "source": [
    "data[\"Leather interior\"] = data[\"Leather interior\"].map({\"Yes\":1,\"No\":0})\n",
    "data[\"Leather interior\"]"
   ]
  },
  {
   "cell_type": "code",
   "execution_count": 27,
   "id": "c00756ee",
   "metadata": {},
   "outputs": [
    {
     "data": {
      "text/plain": [
       "dtype('int64')"
      ]
     },
     "execution_count": 27,
     "metadata": {},
     "output_type": "execute_result"
    }
   ],
   "source": [
    "data[\"Leather interior\"].dtype"
   ]
  },
  {
   "cell_type": "markdown",
   "id": "e20da3ed",
   "metadata": {},
   "source": [
    "### 4. Mileage"
   ]
  },
  {
   "cell_type": "code",
   "execution_count": 28,
   "id": "9958aabb",
   "metadata": {},
   "outputs": [
    {
     "data": {
      "text/plain": [
       "0        186005 km\n",
       "1        192000 km\n",
       "2        200000 km\n",
       "3        168966 km\n",
       "4         91901 km\n",
       "           ...    \n",
       "19232    300000 km\n",
       "19233    161600 km\n",
       "19234    116365 km\n",
       "19235     51258 km\n",
       "19236    186923 km\n",
       "Name: Mileage, Length: 19237, dtype: object"
      ]
     },
     "execution_count": 28,
     "metadata": {},
     "output_type": "execute_result"
    }
   ],
   "source": [
    "data.Mileage"
   ]
  },
  {
   "cell_type": "markdown",
   "id": "8bd84cb5",
   "metadata": {},
   "source": [
    "Here all values are ends with ` Km` , so here I'll remove ` km` with help of string spliting. each value, and convert datatype to float "
   ]
  },
  {
   "cell_type": "code",
   "execution_count": 29,
   "id": "646a1cbd",
   "metadata": {},
   "outputs": [
    {
     "name": "stdout",
     "output_type": "stream",
     "text": [
      "12000.0\n",
      "<class 'float'>\n"
     ]
    }
   ],
   "source": [
    "# Demo \n",
    "str = \"12000 Km\"\n",
    "str = str[:-3] # String spliting\n",
    "str = float(str) # Type conversion\n",
    "print(str)\n",
    "print(type(str))"
   ]
  },
  {
   "cell_type": "code",
   "execution_count": 30,
   "id": "a7365cab",
   "metadata": {},
   "outputs": [],
   "source": [
    "Mile = []\n",
    "for s in data.Mileage:\n",
    "    s = s[:-3]\n",
    "    s = float(s)\n",
    "    Mile.append(s)\n",
    "data.Mileage = Mile  "
   ]
  },
  {
   "cell_type": "code",
   "execution_count": 31,
   "id": "dd445e16",
   "metadata": {},
   "outputs": [
    {
     "data": {
      "text/plain": [
       "0        186005.0\n",
       "1        192000.0\n",
       "2        200000.0\n",
       "3        168966.0\n",
       "4         91901.0\n",
       "           ...   \n",
       "19232    300000.0\n",
       "19233    161600.0\n",
       "19234    116365.0\n",
       "19235     51258.0\n",
       "19236    186923.0\n",
       "Name: Mileage, Length: 19237, dtype: float64"
      ]
     },
     "execution_count": 31,
     "metadata": {},
     "output_type": "execute_result"
    }
   ],
   "source": [
    "data.Mileage"
   ]
  },
  {
   "cell_type": "markdown",
   "id": "51e3fd49",
   "metadata": {},
   "source": [
    "### 5. Engine volume"
   ]
  },
  {
   "cell_type": "code",
   "execution_count": 32,
   "id": "1b6c4354",
   "metadata": {},
   "outputs": [
    {
     "name": "stdout",
     "output_type": "stream",
     "text": [
      "['3.5', '3', '1.3', '2.5', '1.3', '2', '1.8', '2.4', '2.5', '3.5', '3.5', '4', '1.6', '3.5', '2', '2', '1.8', '1.8', '3.3', '3.5', '1.6', '1.8', '2.5', '2.0 Turbo', '1.8', '2.2 Turbo', '4.7', '1.5', '1.6', '3.3', '2.0 Turbo', '3', '4.4', '3.3', '3.0 Turbo', '2', '2', '1.3', '1.6', '3.5', '2.4', '2.5', '1.4 Turbo', '2.4', '3.6', '4', '1.5', '2', '1.5', '2.3']\n"
     ]
    }
   ],
   "source": [
    "print(list(data[\"Engine volume\"][:50]))"
   ]
  },
  {
   "cell_type": "markdown",
   "id": "0378eeba",
   "metadata": {},
   "source": [
    "In Engine volume almost all value are in numeric but there it problem. That is in some cases ` Turbo` suffix added.\n",
    "I'm going to handle this:\n",
    "* Case 1: Value with No `Turbo` suffix I will convert datatypes.\n",
    "* Case 2: Value with Turbe suffix I will remove `Turbo`, then convert datatypes.\n"
   ]
  },
  {
   "cell_type": "code",
   "execution_count": 33,
   "id": "c935c731",
   "metadata": {},
   "outputs": [],
   "source": [
    "Eng = []\n",
    "for s in data[\"Engine volume\"]:\n",
    "    if \"Turbo\" in s:\n",
    "        string = s[:3]\n",
    "        Eng.append(float(string))\n",
    "    else:\n",
    "        Eng.append(float(s))\n",
    "        \n",
    "data[\"Engine volume\"] = Eng"
   ]
  },
  {
   "cell_type": "code",
   "execution_count": 34,
   "id": "821d73e5",
   "metadata": {},
   "outputs": [
    {
     "data": {
      "text/plain": [
       "dtype('float64')"
      ]
     },
     "execution_count": 34,
     "metadata": {},
     "output_type": "execute_result"
    }
   ],
   "source": [
    "data[\"Engine volume\"].dtypes"
   ]
  },
  {
   "cell_type": "code",
   "execution_count": null,
   "id": "387e2fe5",
   "metadata": {},
   "outputs": [],
   "source": []
  },
  {
   "cell_type": "markdown",
   "id": "1df52818",
   "metadata": {},
   "source": [
    "### \"Fuel type\",\"Gear box type\",\"Drive wheels\",\"Doors\",\"Wheel\",\"Color\""
   ]
  },
  {
   "cell_type": "code",
   "execution_count": 35,
   "id": "75e89c05",
   "metadata": {},
   "outputs": [],
   "source": [
    "# Label Encoding using for loop\n",
    "objDtypes = [\"Fuel type\",\"Gear box type\",\"Drive wheels\",\"Doors\",\"Wheel\",\"Color\",\"Category\"]"
   ]
  },
  {
   "cell_type": "code",
   "execution_count": 36,
   "id": "63572c61",
   "metadata": {},
   "outputs": [
    {
     "data": {
      "text/plain": [
       "{'Fuel type': array(['Hybrid', 'Petrol', 'Diesel', 'CNG', 'Plug-in Hybrid', 'LPG',\n",
       "        'Hydrogen'], dtype=object),\n",
       " 'Gear box type': array(['Automatic', 'Tiptronic', 'Variator', 'Manual'], dtype=object),\n",
       " 'Drive wheels': array(['4x4', 'Front', 'Rear'], dtype=object),\n",
       " 'Doors': array(['04-May', '02-Mar', '>5'], dtype=object),\n",
       " 'Wheel': array(['Left wheel', 'Right-hand drive'], dtype=object),\n",
       " 'Color': array(['Silver', 'Black', 'White', 'Grey', 'Blue', 'Green', 'Red',\n",
       "        'Sky blue', 'Orange', 'Yellow', 'Brown', 'Golden', 'Beige',\n",
       "        'Carnelian red', 'Purple', 'Pink'], dtype=object),\n",
       " 'Category': array(['Jeep', 'Hatchback', 'Sedan', 'Microbus', 'Goods wagon',\n",
       "        'Universal', 'Coupe', 'Minivan', 'Cabriolet', 'Limousine',\n",
       "        'Pickup'], dtype=object)}"
      ]
     },
     "execution_count": 36,
     "metadata": {},
     "output_type": "execute_result"
    }
   ],
   "source": [
    "uni = {}\n",
    "for i in objDtypes:\n",
    "    val = data[i].unique()\n",
    "    uni[i] = val\n",
    "uni"
   ]
  },
  {
   "cell_type": "markdown",
   "id": "89a14a64",
   "metadata": {},
   "source": [
    "So **\"Fuel type\",\"Gear box type\",\"Drive wheels\",\"Doors\",\"Wheel\",\"Color\",\"Category\"** these are columns with `string value`, I will apply `LabelEncoding` with for loop"
   ]
  },
  {
   "cell_type": "code",
   "execution_count": 37,
   "id": "4488c64c",
   "metadata": {},
   "outputs": [],
   "source": [
    "for i in objDtypes:\n",
    "    le = LabelEncoder()\n",
    "    le.fit(data[i])\n",
    "    data[i] = le.transform(data[i])"
   ]
  },
  {
   "cell_type": "code",
   "execution_count": 38,
   "id": "babab60d",
   "metadata": {},
   "outputs": [
    {
     "data": {
      "text/plain": [
       "ID                    int64\n",
       "Price                 int64\n",
       "Levy                float64\n",
       "Manufacturer          int32\n",
       "Model                 int32\n",
       "Prod. year            int64\n",
       "Category              int32\n",
       "Leather interior      int64\n",
       "Fuel type             int32\n",
       "Engine volume       float64\n",
       "Mileage             float64\n",
       "Cylinders           float64\n",
       "Gear box type         int32\n",
       "Drive wheels          int32\n",
       "Doors                 int32\n",
       "Wheel                 int32\n",
       "Color                 int32\n",
       "Airbags               int64\n",
       "dtype: object"
      ]
     },
     "execution_count": 38,
     "metadata": {},
     "output_type": "execute_result"
    }
   ],
   "source": [
    "data.dtypes"
   ]
  },
  {
   "cell_type": "code",
   "execution_count": 39,
   "id": "b9f62030",
   "metadata": {},
   "outputs": [
    {
     "data": {
      "text/html": [
       "<div>\n",
       "<style scoped>\n",
       "    .dataframe tbody tr th:only-of-type {\n",
       "        vertical-align: middle;\n",
       "    }\n",
       "\n",
       "    .dataframe tbody tr th {\n",
       "        vertical-align: top;\n",
       "    }\n",
       "\n",
       "    .dataframe thead th {\n",
       "        text-align: right;\n",
       "    }\n",
       "</style>\n",
       "<table border=\"1\" class=\"dataframe\">\n",
       "  <thead>\n",
       "    <tr style=\"text-align: right;\">\n",
       "      <th></th>\n",
       "      <th>ID</th>\n",
       "      <th>Price</th>\n",
       "      <th>Levy</th>\n",
       "      <th>Manufacturer</th>\n",
       "      <th>Model</th>\n",
       "      <th>Prod. year</th>\n",
       "      <th>Category</th>\n",
       "      <th>Leather interior</th>\n",
       "      <th>Fuel type</th>\n",
       "      <th>Engine volume</th>\n",
       "      <th>Mileage</th>\n",
       "      <th>Cylinders</th>\n",
       "      <th>Gear box type</th>\n",
       "      <th>Drive wheels</th>\n",
       "      <th>Doors</th>\n",
       "      <th>Wheel</th>\n",
       "      <th>Color</th>\n",
       "      <th>Airbags</th>\n",
       "    </tr>\n",
       "  </thead>\n",
       "  <tbody>\n",
       "    <tr>\n",
       "      <th>0</th>\n",
       "      <td>45654403</td>\n",
       "      <td>13328</td>\n",
       "      <td>1399.000000</td>\n",
       "      <td>32</td>\n",
       "      <td>1242</td>\n",
       "      <td>2010</td>\n",
       "      <td>4</td>\n",
       "      <td>1</td>\n",
       "      <td>2</td>\n",
       "      <td>3.5</td>\n",
       "      <td>186005.0</td>\n",
       "      <td>6.0</td>\n",
       "      <td>0</td>\n",
       "      <td>0</td>\n",
       "      <td>1</td>\n",
       "      <td>0</td>\n",
       "      <td>12</td>\n",
       "      <td>12</td>\n",
       "    </tr>\n",
       "    <tr>\n",
       "      <th>1</th>\n",
       "      <td>44731507</td>\n",
       "      <td>16621</td>\n",
       "      <td>1018.000000</td>\n",
       "      <td>8</td>\n",
       "      <td>658</td>\n",
       "      <td>2011</td>\n",
       "      <td>4</td>\n",
       "      <td>0</td>\n",
       "      <td>5</td>\n",
       "      <td>3.0</td>\n",
       "      <td>192000.0</td>\n",
       "      <td>6.0</td>\n",
       "      <td>2</td>\n",
       "      <td>0</td>\n",
       "      <td>1</td>\n",
       "      <td>0</td>\n",
       "      <td>1</td>\n",
       "      <td>8</td>\n",
       "    </tr>\n",
       "    <tr>\n",
       "      <th>2</th>\n",
       "      <td>45774419</td>\n",
       "      <td>8467</td>\n",
       "      <td>906.838128</td>\n",
       "      <td>21</td>\n",
       "      <td>684</td>\n",
       "      <td>2006</td>\n",
       "      <td>3</td>\n",
       "      <td>0</td>\n",
       "      <td>5</td>\n",
       "      <td>1.3</td>\n",
       "      <td>200000.0</td>\n",
       "      <td>4.0</td>\n",
       "      <td>3</td>\n",
       "      <td>1</td>\n",
       "      <td>1</td>\n",
       "      <td>1</td>\n",
       "      <td>1</td>\n",
       "      <td>2</td>\n",
       "    </tr>\n",
       "    <tr>\n",
       "      <th>3</th>\n",
       "      <td>45769185</td>\n",
       "      <td>3607</td>\n",
       "      <td>862.000000</td>\n",
       "      <td>16</td>\n",
       "      <td>661</td>\n",
       "      <td>2011</td>\n",
       "      <td>4</td>\n",
       "      <td>1</td>\n",
       "      <td>2</td>\n",
       "      <td>2.5</td>\n",
       "      <td>168966.0</td>\n",
       "      <td>4.0</td>\n",
       "      <td>0</td>\n",
       "      <td>0</td>\n",
       "      <td>1</td>\n",
       "      <td>0</td>\n",
       "      <td>14</td>\n",
       "      <td>0</td>\n",
       "    </tr>\n",
       "    <tr>\n",
       "      <th>4</th>\n",
       "      <td>45809263</td>\n",
       "      <td>11726</td>\n",
       "      <td>446.000000</td>\n",
       "      <td>21</td>\n",
       "      <td>684</td>\n",
       "      <td>2014</td>\n",
       "      <td>3</td>\n",
       "      <td>1</td>\n",
       "      <td>5</td>\n",
       "      <td>1.3</td>\n",
       "      <td>91901.0</td>\n",
       "      <td>4.0</td>\n",
       "      <td>0</td>\n",
       "      <td>1</td>\n",
       "      <td>1</td>\n",
       "      <td>0</td>\n",
       "      <td>12</td>\n",
       "      <td>4</td>\n",
       "    </tr>\n",
       "  </tbody>\n",
       "</table>\n",
       "</div>"
      ],
      "text/plain": [
       "         ID  Price         Levy  Manufacturer  Model  Prod. year  Category  \\\n",
       "0  45654403  13328  1399.000000            32   1242        2010         4   \n",
       "1  44731507  16621  1018.000000             8    658        2011         4   \n",
       "2  45774419   8467   906.838128            21    684        2006         3   \n",
       "3  45769185   3607   862.000000            16    661        2011         4   \n",
       "4  45809263  11726   446.000000            21    684        2014         3   \n",
       "\n",
       "   Leather interior  Fuel type  Engine volume   Mileage  Cylinders  \\\n",
       "0                 1          2            3.5  186005.0        6.0   \n",
       "1                 0          5            3.0  192000.0        6.0   \n",
       "2                 0          5            1.3  200000.0        4.0   \n",
       "3                 1          2            2.5  168966.0        4.0   \n",
       "4                 1          5            1.3   91901.0        4.0   \n",
       "\n",
       "   Gear box type  Drive wheels  Doors  Wheel  Color  Airbags  \n",
       "0              0             0      1      0     12       12  \n",
       "1              2             0      1      0      1        8  \n",
       "2              3             1      1      1      1        2  \n",
       "3              0             0      1      0     14        0  \n",
       "4              0             1      1      0     12        4  "
      ]
     },
     "execution_count": 39,
     "metadata": {},
     "output_type": "execute_result"
    }
   ],
   "source": [
    "data.head()"
   ]
  },
  {
   "cell_type": "markdown",
   "id": "95d905a5",
   "metadata": {},
   "source": [
    "I have converted all data to numveric type."
   ]
  },
  {
   "cell_type": "code",
   "execution_count": 40,
   "id": "0f8eab70",
   "metadata": {},
   "outputs": [
    {
     "data": {
      "text/html": [
       "<div>\n",
       "<style scoped>\n",
       "    .dataframe tbody tr th:only-of-type {\n",
       "        vertical-align: middle;\n",
       "    }\n",
       "\n",
       "    .dataframe tbody tr th {\n",
       "        vertical-align: top;\n",
       "    }\n",
       "\n",
       "    .dataframe thead th {\n",
       "        text-align: right;\n",
       "    }\n",
       "</style>\n",
       "<table border=\"1\" class=\"dataframe\">\n",
       "  <thead>\n",
       "    <tr style=\"text-align: right;\">\n",
       "      <th></th>\n",
       "      <th>Price</th>\n",
       "      <th>Levy</th>\n",
       "      <th>Manufacturer</th>\n",
       "      <th>Model</th>\n",
       "      <th>Prod. year</th>\n",
       "      <th>Category</th>\n",
       "      <th>Leather interior</th>\n",
       "      <th>Fuel type</th>\n",
       "      <th>Engine volume</th>\n",
       "      <th>Mileage</th>\n",
       "      <th>Cylinders</th>\n",
       "      <th>Gear box type</th>\n",
       "      <th>Drive wheels</th>\n",
       "      <th>Doors</th>\n",
       "      <th>Wheel</th>\n",
       "      <th>Color</th>\n",
       "      <th>Airbags</th>\n",
       "    </tr>\n",
       "  </thead>\n",
       "  <tbody>\n",
       "    <tr>\n",
       "      <th>0</th>\n",
       "      <td>13328</td>\n",
       "      <td>1399.000000</td>\n",
       "      <td>32</td>\n",
       "      <td>1242</td>\n",
       "      <td>2010</td>\n",
       "      <td>4</td>\n",
       "      <td>1</td>\n",
       "      <td>2</td>\n",
       "      <td>3.5</td>\n",
       "      <td>186005.0</td>\n",
       "      <td>6.0</td>\n",
       "      <td>0</td>\n",
       "      <td>0</td>\n",
       "      <td>1</td>\n",
       "      <td>0</td>\n",
       "      <td>12</td>\n",
       "      <td>12</td>\n",
       "    </tr>\n",
       "    <tr>\n",
       "      <th>1</th>\n",
       "      <td>16621</td>\n",
       "      <td>1018.000000</td>\n",
       "      <td>8</td>\n",
       "      <td>658</td>\n",
       "      <td>2011</td>\n",
       "      <td>4</td>\n",
       "      <td>0</td>\n",
       "      <td>5</td>\n",
       "      <td>3.0</td>\n",
       "      <td>192000.0</td>\n",
       "      <td>6.0</td>\n",
       "      <td>2</td>\n",
       "      <td>0</td>\n",
       "      <td>1</td>\n",
       "      <td>0</td>\n",
       "      <td>1</td>\n",
       "      <td>8</td>\n",
       "    </tr>\n",
       "    <tr>\n",
       "      <th>2</th>\n",
       "      <td>8467</td>\n",
       "      <td>906.838128</td>\n",
       "      <td>21</td>\n",
       "      <td>684</td>\n",
       "      <td>2006</td>\n",
       "      <td>3</td>\n",
       "      <td>0</td>\n",
       "      <td>5</td>\n",
       "      <td>1.3</td>\n",
       "      <td>200000.0</td>\n",
       "      <td>4.0</td>\n",
       "      <td>3</td>\n",
       "      <td>1</td>\n",
       "      <td>1</td>\n",
       "      <td>1</td>\n",
       "      <td>1</td>\n",
       "      <td>2</td>\n",
       "    </tr>\n",
       "    <tr>\n",
       "      <th>3</th>\n",
       "      <td>3607</td>\n",
       "      <td>862.000000</td>\n",
       "      <td>16</td>\n",
       "      <td>661</td>\n",
       "      <td>2011</td>\n",
       "      <td>4</td>\n",
       "      <td>1</td>\n",
       "      <td>2</td>\n",
       "      <td>2.5</td>\n",
       "      <td>168966.0</td>\n",
       "      <td>4.0</td>\n",
       "      <td>0</td>\n",
       "      <td>0</td>\n",
       "      <td>1</td>\n",
       "      <td>0</td>\n",
       "      <td>14</td>\n",
       "      <td>0</td>\n",
       "    </tr>\n",
       "    <tr>\n",
       "      <th>4</th>\n",
       "      <td>11726</td>\n",
       "      <td>446.000000</td>\n",
       "      <td>21</td>\n",
       "      <td>684</td>\n",
       "      <td>2014</td>\n",
       "      <td>3</td>\n",
       "      <td>1</td>\n",
       "      <td>5</td>\n",
       "      <td>1.3</td>\n",
       "      <td>91901.0</td>\n",
       "      <td>4.0</td>\n",
       "      <td>0</td>\n",
       "      <td>1</td>\n",
       "      <td>1</td>\n",
       "      <td>0</td>\n",
       "      <td>12</td>\n",
       "      <td>4</td>\n",
       "    </tr>\n",
       "  </tbody>\n",
       "</table>\n",
       "</div>"
      ],
      "text/plain": [
       "   Price         Levy  Manufacturer  Model  Prod. year  Category  \\\n",
       "0  13328  1399.000000            32   1242        2010         4   \n",
       "1  16621  1018.000000             8    658        2011         4   \n",
       "2   8467   906.838128            21    684        2006         3   \n",
       "3   3607   862.000000            16    661        2011         4   \n",
       "4  11726   446.000000            21    684        2014         3   \n",
       "\n",
       "   Leather interior  Fuel type  Engine volume   Mileage  Cylinders  \\\n",
       "0                 1          2            3.5  186005.0        6.0   \n",
       "1                 0          5            3.0  192000.0        6.0   \n",
       "2                 0          5            1.3  200000.0        4.0   \n",
       "3                 1          2            2.5  168966.0        4.0   \n",
       "4                 1          5            1.3   91901.0        4.0   \n",
       "\n",
       "   Gear box type  Drive wheels  Doors  Wheel  Color  Airbags  \n",
       "0              0             0      1      0     12       12  \n",
       "1              2             0      1      0      1        8  \n",
       "2              3             1      1      1      1        2  \n",
       "3              0             0      1      0     14        0  \n",
       "4              0             1      1      0     12        4  "
      ]
     },
     "execution_count": 40,
     "metadata": {},
     "output_type": "execute_result"
    }
   ],
   "source": [
    "## Drop Id columns\n",
    "data = data.drop([\"ID\"],axis=1)\n",
    "data.head()"
   ]
  },
  {
   "cell_type": "markdown",
   "id": "4bee3a42",
   "metadata": {},
   "source": [
    "### Describe"
   ]
  },
  {
   "cell_type": "code",
   "execution_count": 41,
   "id": "990ff01b",
   "metadata": {},
   "outputs": [
    {
     "data": {
      "text/html": [
       "<div>\n",
       "<style scoped>\n",
       "    .dataframe tbody tr th:only-of-type {\n",
       "        vertical-align: middle;\n",
       "    }\n",
       "\n",
       "    .dataframe tbody tr th {\n",
       "        vertical-align: top;\n",
       "    }\n",
       "\n",
       "    .dataframe thead th {\n",
       "        text-align: right;\n",
       "    }\n",
       "</style>\n",
       "<table border=\"1\" class=\"dataframe\">\n",
       "  <thead>\n",
       "    <tr style=\"text-align: right;\">\n",
       "      <th></th>\n",
       "      <th>count</th>\n",
       "      <th>mean</th>\n",
       "      <th>std</th>\n",
       "      <th>min</th>\n",
       "      <th>25%</th>\n",
       "      <th>50%</th>\n",
       "      <th>75%</th>\n",
       "      <th>max</th>\n",
       "    </tr>\n",
       "  </thead>\n",
       "  <tbody>\n",
       "    <tr>\n",
       "      <th>Price</th>\n",
       "      <td>19237.0</td>\n",
       "      <td>1.855593e+04</td>\n",
       "      <td>1.905813e+05</td>\n",
       "      <td>1.0</td>\n",
       "      <td>5331.0</td>\n",
       "      <td>13172.000000</td>\n",
       "      <td>22075.0</td>\n",
       "      <td>2.630750e+07</td>\n",
       "    </tr>\n",
       "    <tr>\n",
       "      <th>Levy</th>\n",
       "      <td>19237.0</td>\n",
       "      <td>9.068381e+02</td>\n",
       "      <td>3.857335e+02</td>\n",
       "      <td>87.0</td>\n",
       "      <td>730.0</td>\n",
       "      <td>906.838128</td>\n",
       "      <td>917.0</td>\n",
       "      <td>1.171400e+04</td>\n",
       "    </tr>\n",
       "    <tr>\n",
       "      <th>Manufacturer</th>\n",
       "      <td>19237.0</td>\n",
       "      <td>3.308068e+01</td>\n",
       "      <td>1.776646e+01</td>\n",
       "      <td>0.0</td>\n",
       "      <td>21.0</td>\n",
       "      <td>32.000000</td>\n",
       "      <td>54.0</td>\n",
       "      <td>6.400000e+01</td>\n",
       "    </tr>\n",
       "    <tr>\n",
       "      <th>Model</th>\n",
       "      <td>19237.0</td>\n",
       "      <td>8.625923e+02</td>\n",
       "      <td>4.108123e+02</td>\n",
       "      <td>0.0</td>\n",
       "      <td>537.0</td>\n",
       "      <td>834.000000</td>\n",
       "      <td>1226.0</td>\n",
       "      <td>1.589000e+03</td>\n",
       "    </tr>\n",
       "    <tr>\n",
       "      <th>Prod. year</th>\n",
       "      <td>19237.0</td>\n",
       "      <td>2.010913e+03</td>\n",
       "      <td>5.668673e+00</td>\n",
       "      <td>1939.0</td>\n",
       "      <td>2009.0</td>\n",
       "      <td>2012.000000</td>\n",
       "      <td>2015.0</td>\n",
       "      <td>2.020000e+03</td>\n",
       "    </tr>\n",
       "    <tr>\n",
       "      <th>Category</th>\n",
       "      <td>19237.0</td>\n",
       "      <td>6.265582e+00</td>\n",
       "      <td>2.790570e+00</td>\n",
       "      <td>0.0</td>\n",
       "      <td>4.0</td>\n",
       "      <td>7.000000</td>\n",
       "      <td>9.0</td>\n",
       "      <td>1.000000e+01</td>\n",
       "    </tr>\n",
       "    <tr>\n",
       "      <th>Leather interior</th>\n",
       "      <td>19237.0</td>\n",
       "      <td>7.253730e-01</td>\n",
       "      <td>4.463377e-01</td>\n",
       "      <td>0.0</td>\n",
       "      <td>0.0</td>\n",
       "      <td>1.000000</td>\n",
       "      <td>1.0</td>\n",
       "      <td>1.000000e+00</td>\n",
       "    </tr>\n",
       "    <tr>\n",
       "      <th>Fuel type</th>\n",
       "      <td>19237.0</td>\n",
       "      <td>3.432396e+00</td>\n",
       "      <td>1.807388e+00</td>\n",
       "      <td>0.0</td>\n",
       "      <td>2.0</td>\n",
       "      <td>5.000000</td>\n",
       "      <td>5.0</td>\n",
       "      <td>6.000000e+00</td>\n",
       "    </tr>\n",
       "    <tr>\n",
       "      <th>Engine volume</th>\n",
       "      <td>19237.0</td>\n",
       "      <td>2.307990e+00</td>\n",
       "      <td>8.778045e-01</td>\n",
       "      <td>0.0</td>\n",
       "      <td>1.8</td>\n",
       "      <td>2.000000</td>\n",
       "      <td>2.5</td>\n",
       "      <td>2.000000e+01</td>\n",
       "    </tr>\n",
       "    <tr>\n",
       "      <th>Mileage</th>\n",
       "      <td>19237.0</td>\n",
       "      <td>1.532236e+06</td>\n",
       "      <td>4.840387e+07</td>\n",
       "      <td>0.0</td>\n",
       "      <td>70139.0</td>\n",
       "      <td>126000.000000</td>\n",
       "      <td>188888.0</td>\n",
       "      <td>2.147484e+09</td>\n",
       "    </tr>\n",
       "    <tr>\n",
       "      <th>Cylinders</th>\n",
       "      <td>19237.0</td>\n",
       "      <td>4.582991e+00</td>\n",
       "      <td>1.199933e+00</td>\n",
       "      <td>1.0</td>\n",
       "      <td>4.0</td>\n",
       "      <td>4.000000</td>\n",
       "      <td>4.0</td>\n",
       "      <td>1.600000e+01</td>\n",
       "    </tr>\n",
       "    <tr>\n",
       "      <th>Gear box type</th>\n",
       "      <td>19237.0</td>\n",
       "      <td>5.363102e-01</td>\n",
       "      <td>8.966066e-01</td>\n",
       "      <td>0.0</td>\n",
       "      <td>0.0</td>\n",
       "      <td>0.000000</td>\n",
       "      <td>1.0</td>\n",
       "      <td>3.000000e+00</td>\n",
       "    </tr>\n",
       "    <tr>\n",
       "      <th>Drive wheels</th>\n",
       "      <td>19237.0</td>\n",
       "      <td>9.088735e-01</td>\n",
       "      <td>5.678746e-01</td>\n",
       "      <td>0.0</td>\n",
       "      <td>1.0</td>\n",
       "      <td>1.000000</td>\n",
       "      <td>1.0</td>\n",
       "      <td>2.000000e+00</td>\n",
       "    </tr>\n",
       "    <tr>\n",
       "      <th>Doors</th>\n",
       "      <td>19237.0</td>\n",
       "      <td>9.662629e-01</td>\n",
       "      <td>2.142637e-01</td>\n",
       "      <td>0.0</td>\n",
       "      <td>1.0</td>\n",
       "      <td>1.000000</td>\n",
       "      <td>1.0</td>\n",
       "      <td>2.000000e+00</td>\n",
       "    </tr>\n",
       "    <tr>\n",
       "      <th>Wheel</th>\n",
       "      <td>19237.0</td>\n",
       "      <td>7.714301e-02</td>\n",
       "      <td>2.668252e-01</td>\n",
       "      <td>0.0</td>\n",
       "      <td>0.0</td>\n",
       "      <td>0.000000</td>\n",
       "      <td>0.0</td>\n",
       "      <td>1.000000e+00</td>\n",
       "    </tr>\n",
       "    <tr>\n",
       "      <th>Color</th>\n",
       "      <td>19237.0</td>\n",
       "      <td>7.776005e+00</td>\n",
       "      <td>5.363884e+00</td>\n",
       "      <td>0.0</td>\n",
       "      <td>1.0</td>\n",
       "      <td>7.000000</td>\n",
       "      <td>12.0</td>\n",
       "      <td>1.500000e+01</td>\n",
       "    </tr>\n",
       "    <tr>\n",
       "      <th>Airbags</th>\n",
       "      <td>19237.0</td>\n",
       "      <td>6.582627e+00</td>\n",
       "      <td>4.320168e+00</td>\n",
       "      <td>0.0</td>\n",
       "      <td>4.0</td>\n",
       "      <td>6.000000</td>\n",
       "      <td>12.0</td>\n",
       "      <td>1.600000e+01</td>\n",
       "    </tr>\n",
       "  </tbody>\n",
       "</table>\n",
       "</div>"
      ],
      "text/plain": [
       "                    count          mean           std     min      25%  \\\n",
       "Price             19237.0  1.855593e+04  1.905813e+05     1.0   5331.0   \n",
       "Levy              19237.0  9.068381e+02  3.857335e+02    87.0    730.0   \n",
       "Manufacturer      19237.0  3.308068e+01  1.776646e+01     0.0     21.0   \n",
       "Model             19237.0  8.625923e+02  4.108123e+02     0.0    537.0   \n",
       "Prod. year        19237.0  2.010913e+03  5.668673e+00  1939.0   2009.0   \n",
       "Category          19237.0  6.265582e+00  2.790570e+00     0.0      4.0   \n",
       "Leather interior  19237.0  7.253730e-01  4.463377e-01     0.0      0.0   \n",
       "Fuel type         19237.0  3.432396e+00  1.807388e+00     0.0      2.0   \n",
       "Engine volume     19237.0  2.307990e+00  8.778045e-01     0.0      1.8   \n",
       "Mileage           19237.0  1.532236e+06  4.840387e+07     0.0  70139.0   \n",
       "Cylinders         19237.0  4.582991e+00  1.199933e+00     1.0      4.0   \n",
       "Gear box type     19237.0  5.363102e-01  8.966066e-01     0.0      0.0   \n",
       "Drive wheels      19237.0  9.088735e-01  5.678746e-01     0.0      1.0   \n",
       "Doors             19237.0  9.662629e-01  2.142637e-01     0.0      1.0   \n",
       "Wheel             19237.0  7.714301e-02  2.668252e-01     0.0      0.0   \n",
       "Color             19237.0  7.776005e+00  5.363884e+00     0.0      1.0   \n",
       "Airbags           19237.0  6.582627e+00  4.320168e+00     0.0      4.0   \n",
       "\n",
       "                            50%       75%           max  \n",
       "Price              13172.000000   22075.0  2.630750e+07  \n",
       "Levy                 906.838128     917.0  1.171400e+04  \n",
       "Manufacturer          32.000000      54.0  6.400000e+01  \n",
       "Model                834.000000    1226.0  1.589000e+03  \n",
       "Prod. year          2012.000000    2015.0  2.020000e+03  \n",
       "Category               7.000000       9.0  1.000000e+01  \n",
       "Leather interior       1.000000       1.0  1.000000e+00  \n",
       "Fuel type              5.000000       5.0  6.000000e+00  \n",
       "Engine volume          2.000000       2.5  2.000000e+01  \n",
       "Mileage           126000.000000  188888.0  2.147484e+09  \n",
       "Cylinders              4.000000       4.0  1.600000e+01  \n",
       "Gear box type          0.000000       1.0  3.000000e+00  \n",
       "Drive wheels           1.000000       1.0  2.000000e+00  \n",
       "Doors                  1.000000       1.0  2.000000e+00  \n",
       "Wheel                  0.000000       0.0  1.000000e+00  \n",
       "Color                  7.000000      12.0  1.500000e+01  \n",
       "Airbags                6.000000      12.0  1.600000e+01  "
      ]
     },
     "execution_count": 41,
     "metadata": {},
     "output_type": "execute_result"
    }
   ],
   "source": [
    "data.describe().T"
   ]
  },
  {
   "cell_type": "markdown",
   "id": "d01ac80b",
   "metadata": {},
   "source": [
    "# Spliting Data Into featues and labels\n",
    "* **Features**: Levy,Manufacturer,Model,Prod. year,Category,Leather interior,Fuel type,Engine volume,Mileage,Cylinders,Gear box type,Drive wheels,Doors,Wheel,Color,Airbags.\n",
    "* **Labels**: Price"
   ]
  },
  {
   "cell_type": "code",
   "execution_count": 42,
   "id": "a59d57fc",
   "metadata": {},
   "outputs": [],
   "source": [
    "x = data.drop([\"Price\"],axis=1)\n",
    "y = data[\"Price\"]"
   ]
  },
  {
   "cell_type": "code",
   "execution_count": 43,
   "id": "f5b366bb",
   "metadata": {},
   "outputs": [
    {
     "data": {
      "text/html": [
       "<div>\n",
       "<style scoped>\n",
       "    .dataframe tbody tr th:only-of-type {\n",
       "        vertical-align: middle;\n",
       "    }\n",
       "\n",
       "    .dataframe tbody tr th {\n",
       "        vertical-align: top;\n",
       "    }\n",
       "\n",
       "    .dataframe thead th {\n",
       "        text-align: right;\n",
       "    }\n",
       "</style>\n",
       "<table border=\"1\" class=\"dataframe\">\n",
       "  <thead>\n",
       "    <tr style=\"text-align: right;\">\n",
       "      <th></th>\n",
       "      <th>Levy</th>\n",
       "      <th>Manufacturer</th>\n",
       "      <th>Model</th>\n",
       "      <th>Prod. year</th>\n",
       "      <th>Category</th>\n",
       "      <th>Leather interior</th>\n",
       "      <th>Fuel type</th>\n",
       "      <th>Engine volume</th>\n",
       "      <th>Mileage</th>\n",
       "      <th>Cylinders</th>\n",
       "      <th>Gear box type</th>\n",
       "      <th>Drive wheels</th>\n",
       "      <th>Doors</th>\n",
       "      <th>Wheel</th>\n",
       "      <th>Color</th>\n",
       "      <th>Airbags</th>\n",
       "    </tr>\n",
       "  </thead>\n",
       "  <tbody>\n",
       "    <tr>\n",
       "      <th>0</th>\n",
       "      <td>1399.000000</td>\n",
       "      <td>32</td>\n",
       "      <td>1242</td>\n",
       "      <td>2010</td>\n",
       "      <td>4</td>\n",
       "      <td>1</td>\n",
       "      <td>2</td>\n",
       "      <td>3.5</td>\n",
       "      <td>186005.0</td>\n",
       "      <td>6.0</td>\n",
       "      <td>0</td>\n",
       "      <td>0</td>\n",
       "      <td>1</td>\n",
       "      <td>0</td>\n",
       "      <td>12</td>\n",
       "      <td>12</td>\n",
       "    </tr>\n",
       "    <tr>\n",
       "      <th>1</th>\n",
       "      <td>1018.000000</td>\n",
       "      <td>8</td>\n",
       "      <td>658</td>\n",
       "      <td>2011</td>\n",
       "      <td>4</td>\n",
       "      <td>0</td>\n",
       "      <td>5</td>\n",
       "      <td>3.0</td>\n",
       "      <td>192000.0</td>\n",
       "      <td>6.0</td>\n",
       "      <td>2</td>\n",
       "      <td>0</td>\n",
       "      <td>1</td>\n",
       "      <td>0</td>\n",
       "      <td>1</td>\n",
       "      <td>8</td>\n",
       "    </tr>\n",
       "    <tr>\n",
       "      <th>2</th>\n",
       "      <td>906.838128</td>\n",
       "      <td>21</td>\n",
       "      <td>684</td>\n",
       "      <td>2006</td>\n",
       "      <td>3</td>\n",
       "      <td>0</td>\n",
       "      <td>5</td>\n",
       "      <td>1.3</td>\n",
       "      <td>200000.0</td>\n",
       "      <td>4.0</td>\n",
       "      <td>3</td>\n",
       "      <td>1</td>\n",
       "      <td>1</td>\n",
       "      <td>1</td>\n",
       "      <td>1</td>\n",
       "      <td>2</td>\n",
       "    </tr>\n",
       "    <tr>\n",
       "      <th>3</th>\n",
       "      <td>862.000000</td>\n",
       "      <td>16</td>\n",
       "      <td>661</td>\n",
       "      <td>2011</td>\n",
       "      <td>4</td>\n",
       "      <td>1</td>\n",
       "      <td>2</td>\n",
       "      <td>2.5</td>\n",
       "      <td>168966.0</td>\n",
       "      <td>4.0</td>\n",
       "      <td>0</td>\n",
       "      <td>0</td>\n",
       "      <td>1</td>\n",
       "      <td>0</td>\n",
       "      <td>14</td>\n",
       "      <td>0</td>\n",
       "    </tr>\n",
       "    <tr>\n",
       "      <th>4</th>\n",
       "      <td>446.000000</td>\n",
       "      <td>21</td>\n",
       "      <td>684</td>\n",
       "      <td>2014</td>\n",
       "      <td>3</td>\n",
       "      <td>1</td>\n",
       "      <td>5</td>\n",
       "      <td>1.3</td>\n",
       "      <td>91901.0</td>\n",
       "      <td>4.0</td>\n",
       "      <td>0</td>\n",
       "      <td>1</td>\n",
       "      <td>1</td>\n",
       "      <td>0</td>\n",
       "      <td>12</td>\n",
       "      <td>4</td>\n",
       "    </tr>\n",
       "  </tbody>\n",
       "</table>\n",
       "</div>"
      ],
      "text/plain": [
       "          Levy  Manufacturer  Model  Prod. year  Category  Leather interior  \\\n",
       "0  1399.000000            32   1242        2010         4                 1   \n",
       "1  1018.000000             8    658        2011         4                 0   \n",
       "2   906.838128            21    684        2006         3                 0   \n",
       "3   862.000000            16    661        2011         4                 1   \n",
       "4   446.000000            21    684        2014         3                 1   \n",
       "\n",
       "   Fuel type  Engine volume   Mileage  Cylinders  Gear box type  Drive wheels  \\\n",
       "0          2            3.5  186005.0        6.0              0             0   \n",
       "1          5            3.0  192000.0        6.0              2             0   \n",
       "2          5            1.3  200000.0        4.0              3             1   \n",
       "3          2            2.5  168966.0        4.0              0             0   \n",
       "4          5            1.3   91901.0        4.0              0             1   \n",
       "\n",
       "   Doors  Wheel  Color  Airbags  \n",
       "0      1      0     12       12  \n",
       "1      1      0      1        8  \n",
       "2      1      1      1        2  \n",
       "3      1      0     14        0  \n",
       "4      1      0     12        4  "
      ]
     },
     "execution_count": 43,
     "metadata": {},
     "output_type": "execute_result"
    }
   ],
   "source": [
    "x.head()"
   ]
  },
  {
   "cell_type": "code",
   "execution_count": 44,
   "id": "9e9cbd52",
   "metadata": {},
   "outputs": [
    {
     "data": {
      "text/plain": [
       "0    13328\n",
       "1    16621\n",
       "2     8467\n",
       "3     3607\n",
       "4    11726\n",
       "Name: Price, dtype: int64"
      ]
     },
     "execution_count": 44,
     "metadata": {},
     "output_type": "execute_result"
    }
   ],
   "source": [
    "y.head()"
   ]
  },
  {
   "cell_type": "markdown",
   "id": "6ded222e",
   "metadata": {},
   "source": [
    "## Spliting data into train and Test set"
   ]
  },
  {
   "cell_type": "code",
   "execution_count": 45,
   "id": "0fbd3905",
   "metadata": {},
   "outputs": [],
   "source": [
    "x_train,x_test,y_train,y_test = train_test_split(x,y,test_size=0.2,random_state=42)"
   ]
  },
  {
   "cell_type": "code",
   "execution_count": 46,
   "id": "27e45884",
   "metadata": {},
   "outputs": [
    {
     "data": {
      "text/plain": [
       "(15389, 3848, 15389, 3848)"
      ]
     },
     "execution_count": 46,
     "metadata": {},
     "output_type": "execute_result"
    }
   ],
   "source": [
    "len(x_train),len(x_test),len(y_train),len(y_test)"
   ]
  },
  {
   "cell_type": "markdown",
   "id": "851bbba6",
   "metadata": {},
   "source": [
    "We are giving 15389 data to train model, and going to evaluate on 3848 data"
   ]
  },
  {
   "cell_type": "markdown",
   "id": "1353e6a0",
   "metadata": {},
   "source": [
    "## Feature Scaling"
   ]
  },
  {
   "cell_type": "code",
   "execution_count": 47,
   "id": "5c5e6388",
   "metadata": {},
   "outputs": [],
   "source": [
    "sc  = StandardScaler()\n",
    "x_train = pd.DataFrame(sc.fit_transform(x_train))\n",
    "x_test = pd.DataFrame(sc.transform(x_test))"
   ]
  },
  {
   "cell_type": "code",
   "execution_count": 48,
   "id": "d3219170",
   "metadata": {},
   "outputs": [
    {
     "data": {
      "text/html": [
       "<div>\n",
       "<style scoped>\n",
       "    .dataframe tbody tr th:only-of-type {\n",
       "        vertical-align: middle;\n",
       "    }\n",
       "\n",
       "    .dataframe tbody tr th {\n",
       "        vertical-align: top;\n",
       "    }\n",
       "\n",
       "    .dataframe thead th {\n",
       "        text-align: right;\n",
       "    }\n",
       "</style>\n",
       "<table border=\"1\" class=\"dataframe\">\n",
       "  <thead>\n",
       "    <tr style=\"text-align: right;\">\n",
       "      <th></th>\n",
       "      <th>0</th>\n",
       "      <th>1</th>\n",
       "      <th>2</th>\n",
       "      <th>3</th>\n",
       "      <th>4</th>\n",
       "      <th>5</th>\n",
       "      <th>6</th>\n",
       "      <th>7</th>\n",
       "      <th>8</th>\n",
       "      <th>9</th>\n",
       "      <th>10</th>\n",
       "      <th>11</th>\n",
       "      <th>12</th>\n",
       "      <th>13</th>\n",
       "      <th>14</th>\n",
       "      <th>15</th>\n",
       "    </tr>\n",
       "  </thead>\n",
       "  <tbody>\n",
       "    <tr>\n",
       "      <th>0</th>\n",
       "      <td>-0.342678</td>\n",
       "      <td>1.405025</td>\n",
       "      <td>-1.039444</td>\n",
       "      <td>0.364707</td>\n",
       "      <td>0.978136</td>\n",
       "      <td>0.612072</td>\n",
       "      <td>-0.785166</td>\n",
       "      <td>0.218100</td>\n",
       "      <td>-0.027271</td>\n",
       "      <td>-0.485097</td>\n",
       "      <td>-0.597371</td>\n",
       "      <td>0.150973</td>\n",
       "      <td>0.150671</td>\n",
       "      <td>-0.286852</td>\n",
       "      <td>1.159130</td>\n",
       "      <td>1.254361</td>\n",
       "    </tr>\n",
       "    <tr>\n",
       "      <th>1</th>\n",
       "      <td>1.022924</td>\n",
       "      <td>-1.411988</td>\n",
       "      <td>-0.988375</td>\n",
       "      <td>-0.699707</td>\n",
       "      <td>-0.814985</td>\n",
       "      <td>0.612072</td>\n",
       "      <td>-1.337428</td>\n",
       "      <td>-0.350077</td>\n",
       "      <td>-0.030280</td>\n",
       "      <td>-0.485097</td>\n",
       "      <td>-0.597371</td>\n",
       "      <td>0.150973</td>\n",
       "      <td>0.150671</td>\n",
       "      <td>-0.286852</td>\n",
       "      <td>0.785523</td>\n",
       "      <td>-0.594687</td>\n",
       "    </tr>\n",
       "    <tr>\n",
       "      <th>2</th>\n",
       "      <td>1.340568</td>\n",
       "      <td>0.165539</td>\n",
       "      <td>-0.635759</td>\n",
       "      <td>-0.167500</td>\n",
       "      <td>0.978136</td>\n",
       "      <td>0.612072</td>\n",
       "      <td>-1.337428</td>\n",
       "      <td>1.354454</td>\n",
       "      <td>-0.027996</td>\n",
       "      <td>1.188704</td>\n",
       "      <td>-0.597371</td>\n",
       "      <td>-1.614469</td>\n",
       "      <td>0.150671</td>\n",
       "      <td>-0.286852</td>\n",
       "      <td>-1.269313</td>\n",
       "      <td>1.254361</td>\n",
       "    </tr>\n",
       "    <tr>\n",
       "      <th>3</th>\n",
       "      <td>-0.714621</td>\n",
       "      <td>-1.411988</td>\n",
       "      <td>0.553408</td>\n",
       "      <td>0.187305</td>\n",
       "      <td>-0.814985</td>\n",
       "      <td>0.612072</td>\n",
       "      <td>-1.337428</td>\n",
       "      <td>-0.350077</td>\n",
       "      <td>-0.027412</td>\n",
       "      <td>-0.485097</td>\n",
       "      <td>-0.597371</td>\n",
       "      <td>0.150973</td>\n",
       "      <td>0.150671</td>\n",
       "      <td>-0.286852</td>\n",
       "      <td>-0.148493</td>\n",
       "      <td>-0.594687</td>\n",
       "    </tr>\n",
       "    <tr>\n",
       "      <th>4</th>\n",
       "      <td>0.004392</td>\n",
       "      <td>-1.581009</td>\n",
       "      <td>1.630711</td>\n",
       "      <td>-1.941523</td>\n",
       "      <td>-0.814985</td>\n",
       "      <td>0.612072</td>\n",
       "      <td>0.319356</td>\n",
       "      <td>0.786277</td>\n",
       "      <td>-0.031312</td>\n",
       "      <td>1.188704</td>\n",
       "      <td>1.633925</td>\n",
       "      <td>-1.614469</td>\n",
       "      <td>0.150671</td>\n",
       "      <td>-0.286852</td>\n",
       "      <td>0.785523</td>\n",
       "      <td>-0.132425</td>\n",
       "    </tr>\n",
       "    <tr>\n",
       "      <th>...</th>\n",
       "      <td>...</td>\n",
       "      <td>...</td>\n",
       "      <td>...</td>\n",
       "      <td>...</td>\n",
       "      <td>...</td>\n",
       "      <td>...</td>\n",
       "      <td>...</td>\n",
       "      <td>...</td>\n",
       "      <td>...</td>\n",
       "      <td>...</td>\n",
       "      <td>...</td>\n",
       "      <td>...</td>\n",
       "      <td>...</td>\n",
       "      <td>...</td>\n",
       "      <td>...</td>\n",
       "      <td>...</td>\n",
       "    </tr>\n",
       "    <tr>\n",
       "      <th>15384</th>\n",
       "      <td>-0.068471</td>\n",
       "      <td>1.179664</td>\n",
       "      <td>-1.494197</td>\n",
       "      <td>1.251718</td>\n",
       "      <td>-0.814985</td>\n",
       "      <td>0.612072</td>\n",
       "      <td>0.871618</td>\n",
       "      <td>-0.804619</td>\n",
       "      <td>-0.031575</td>\n",
       "      <td>-0.485097</td>\n",
       "      <td>-0.597371</td>\n",
       "      <td>0.150973</td>\n",
       "      <td>0.150671</td>\n",
       "      <td>-0.286852</td>\n",
       "      <td>0.598720</td>\n",
       "      <td>-0.594687</td>\n",
       "    </tr>\n",
       "    <tr>\n",
       "      <th>15385</th>\n",
       "      <td>-0.804213</td>\n",
       "      <td>1.405025</td>\n",
       "      <td>-1.039444</td>\n",
       "      <td>1.251718</td>\n",
       "      <td>0.978136</td>\n",
       "      <td>0.612072</td>\n",
       "      <td>-0.785166</td>\n",
       "      <td>0.218100</td>\n",
       "      <td>-0.031109</td>\n",
       "      <td>-0.485097</td>\n",
       "      <td>-0.597371</td>\n",
       "      <td>0.150973</td>\n",
       "      <td>0.150671</td>\n",
       "      <td>-0.286852</td>\n",
       "      <td>1.159130</td>\n",
       "      <td>1.254361</td>\n",
       "    </tr>\n",
       "    <tr>\n",
       "      <th>15386</th>\n",
       "      <td>0.026551</td>\n",
       "      <td>-1.581009</td>\n",
       "      <td>1.630711</td>\n",
       "      <td>0.542109</td>\n",
       "      <td>-0.814985</td>\n",
       "      <td>0.612072</td>\n",
       "      <td>-1.337428</td>\n",
       "      <td>0.786277</td>\n",
       "      <td>-0.029585</td>\n",
       "      <td>1.188704</td>\n",
       "      <td>-0.597371</td>\n",
       "      <td>-1.614469</td>\n",
       "      <td>0.150671</td>\n",
       "      <td>-0.286852</td>\n",
       "      <td>1.159130</td>\n",
       "      <td>-1.519210</td>\n",
       "    </tr>\n",
       "    <tr>\n",
       "      <th>15387</th>\n",
       "      <td>0.004392</td>\n",
       "      <td>-1.581009</td>\n",
       "      <td>-1.885723</td>\n",
       "      <td>-1.054511</td>\n",
       "      <td>0.978136</td>\n",
       "      <td>0.612072</td>\n",
       "      <td>0.871618</td>\n",
       "      <td>0.218100</td>\n",
       "      <td>-0.028551</td>\n",
       "      <td>1.188704</td>\n",
       "      <td>1.633925</td>\n",
       "      <td>1.916414</td>\n",
       "      <td>0.150671</td>\n",
       "      <td>3.486114</td>\n",
       "      <td>1.159130</td>\n",
       "      <td>1.254361</td>\n",
       "    </tr>\n",
       "    <tr>\n",
       "      <th>15388</th>\n",
       "      <td>0.004392</td>\n",
       "      <td>0.165539</td>\n",
       "      <td>-1.309378</td>\n",
       "      <td>-2.828534</td>\n",
       "      <td>0.978136</td>\n",
       "      <td>-1.633796</td>\n",
       "      <td>0.871618</td>\n",
       "      <td>-0.122807</td>\n",
       "      <td>-0.025568</td>\n",
       "      <td>-0.485097</td>\n",
       "      <td>0.518277</td>\n",
       "      <td>1.916414</td>\n",
       "      <td>0.150671</td>\n",
       "      <td>-0.286852</td>\n",
       "      <td>-1.269313</td>\n",
       "      <td>-0.594687</td>\n",
       "    </tr>\n",
       "  </tbody>\n",
       "</table>\n",
       "<p>15389 rows × 16 columns</p>\n",
       "</div>"
      ],
      "text/plain": [
       "             0         1         2         3         4         5         6   \\\n",
       "0     -0.342678  1.405025 -1.039444  0.364707  0.978136  0.612072 -0.785166   \n",
       "1      1.022924 -1.411988 -0.988375 -0.699707 -0.814985  0.612072 -1.337428   \n",
       "2      1.340568  0.165539 -0.635759 -0.167500  0.978136  0.612072 -1.337428   \n",
       "3     -0.714621 -1.411988  0.553408  0.187305 -0.814985  0.612072 -1.337428   \n",
       "4      0.004392 -1.581009  1.630711 -1.941523 -0.814985  0.612072  0.319356   \n",
       "...         ...       ...       ...       ...       ...       ...       ...   \n",
       "15384 -0.068471  1.179664 -1.494197  1.251718 -0.814985  0.612072  0.871618   \n",
       "15385 -0.804213  1.405025 -1.039444  1.251718  0.978136  0.612072 -0.785166   \n",
       "15386  0.026551 -1.581009  1.630711  0.542109 -0.814985  0.612072 -1.337428   \n",
       "15387  0.004392 -1.581009 -1.885723 -1.054511  0.978136  0.612072  0.871618   \n",
       "15388  0.004392  0.165539 -1.309378 -2.828534  0.978136 -1.633796  0.871618   \n",
       "\n",
       "             7         8         9         10        11        12        13  \\\n",
       "0      0.218100 -0.027271 -0.485097 -0.597371  0.150973  0.150671 -0.286852   \n",
       "1     -0.350077 -0.030280 -0.485097 -0.597371  0.150973  0.150671 -0.286852   \n",
       "2      1.354454 -0.027996  1.188704 -0.597371 -1.614469  0.150671 -0.286852   \n",
       "3     -0.350077 -0.027412 -0.485097 -0.597371  0.150973  0.150671 -0.286852   \n",
       "4      0.786277 -0.031312  1.188704  1.633925 -1.614469  0.150671 -0.286852   \n",
       "...         ...       ...       ...       ...       ...       ...       ...   \n",
       "15384 -0.804619 -0.031575 -0.485097 -0.597371  0.150973  0.150671 -0.286852   \n",
       "15385  0.218100 -0.031109 -0.485097 -0.597371  0.150973  0.150671 -0.286852   \n",
       "15386  0.786277 -0.029585  1.188704 -0.597371 -1.614469  0.150671 -0.286852   \n",
       "15387  0.218100 -0.028551  1.188704  1.633925  1.916414  0.150671  3.486114   \n",
       "15388 -0.122807 -0.025568 -0.485097  0.518277  1.916414  0.150671 -0.286852   \n",
       "\n",
       "             14        15  \n",
       "0      1.159130  1.254361  \n",
       "1      0.785523 -0.594687  \n",
       "2     -1.269313  1.254361  \n",
       "3     -0.148493 -0.594687  \n",
       "4      0.785523 -0.132425  \n",
       "...         ...       ...  \n",
       "15384  0.598720 -0.594687  \n",
       "15385  1.159130  1.254361  \n",
       "15386  1.159130 -1.519210  \n",
       "15387  1.159130  1.254361  \n",
       "15388 -1.269313 -0.594687  \n",
       "\n",
       "[15389 rows x 16 columns]"
      ]
     },
     "execution_count": 48,
     "metadata": {},
     "output_type": "execute_result"
    }
   ],
   "source": [
    "x_train"
   ]
  },
  {
   "cell_type": "markdown",
   "id": "6212f21b",
   "metadata": {},
   "source": [
    "# Training Model"
   ]
  },
  {
   "cell_type": "code",
   "execution_count": 49,
   "id": "054df3c9",
   "metadata": {},
   "outputs": [
    {
     "data": {
      "text/plain": [
       "-40.66672304914635"
      ]
     },
     "execution_count": 49,
     "metadata": {},
     "output_type": "execute_result"
    }
   ],
   "source": [
    "model = RandomForestRegressor(random_state=42)\n",
    "model.fit(x_train,y_train)\n",
    "model.score(x_test,y_test)"
   ]
  },
  {
   "cell_type": "code",
   "execution_count": 50,
   "id": "147ccee4",
   "metadata": {},
   "outputs": [
    {
     "data": {
      "text/plain": [
       "array([24718.4 , 11647.14,  5452.78, ...,   314.  , 14506.4 , 14548.75])"
      ]
     },
     "execution_count": 50,
     "metadata": {},
     "output_type": "execute_result"
    }
   ],
   "source": [
    "ypred = model.predict(x_test)\n",
    "ypred"
   ]
  },
  {
   "cell_type": "markdown",
   "id": "a866a5fe",
   "metadata": {},
   "source": [
    "####  Evaluate model "
   ]
  },
  {
   "cell_type": "code",
   "execution_count": 51,
   "id": "c0d07cae",
   "metadata": {},
   "outputs": [
    {
     "data": {
      "text/plain": [
       "-40.66672304914635"
      ]
     },
     "execution_count": 51,
     "metadata": {},
     "output_type": "execute_result"
    }
   ],
   "source": [
    "# r2_score\n",
    "r2_score(y_test,ypred)"
   ]
  },
  {
   "cell_type": "markdown",
   "id": "eb4d04b2",
   "metadata": {},
   "source": [
    "# Hyperparameters Tunning"
   ]
  },
  {
   "cell_type": "code",
   "execution_count": 52,
   "id": "538c80ec",
   "metadata": {},
   "outputs": [
    {
     "name": "stdout",
     "output_type": "stream",
     "text": [
      "The score of model is -45.51915441606863 with n_estimators 5 \n",
      "The score of model is -22.446789176327055 with n_estimators 10 \n",
      "The score of model is -55.901900426393155 with n_estimators 20 \n",
      "The score of model is -62.27838281709403 with n_estimators 30 \n",
      "The score of model is -14.547236286240263 with n_estimators 40 \n",
      "The score of model is -46.02025469653213 with n_estimators 50 \n",
      "The score of model is -28.70197325118746 with n_estimators 60 \n",
      "The score of model is -47.35458939223819 with n_estimators 70 \n",
      "The score of model is -39.4984567111281 with n_estimators 80 \n",
      "The score of model is -55.466874954358765 with n_estimators 90 \n",
      "The score of model is -34.854815498196444 with n_estimators 100 \n"
     ]
    }
   ],
   "source": [
    "n_estimators = [5,10,20,30,40,50,60,70,80,90,100]\n",
    "for i in n_estimators:\n",
    "    mdl = RandomForestRegressor(n_estimators=i)\n",
    "    mdl.fit(x_train,y_train)\n",
    "    s = mdl.score(x_test,y_test)\n",
    "    print(f\"The score of model is {s} with n_estimators {i} \")"
   ]
  },
  {
   "cell_type": "markdown",
   "id": "225e06c8",
   "metadata": {},
   "source": [
    "we have got best score for  `n_estimators=40`"
   ]
  },
  {
   "cell_type": "code",
   "execution_count": 53,
   "id": "6ff548dc",
   "metadata": {},
   "outputs": [
    {
     "name": "stdout",
     "output_type": "stream",
     "text": [
      "The score of model is -37.025687683264906 with max_depth 5 \n",
      "The score of model is -59.175252601043645 with max_depth 7 \n",
      "The score of model is -50.720553843127966 with max_depth 10 \n",
      "The score of model is -50.24543257425519 with max_depth 13 \n",
      "The score of model is -32.555904681536994 with max_depth 15 \n",
      "The score of model is -26.131729911366264 with max_depth 17 \n",
      "The score of model is -29.749662599914213 with max_depth 20 \n",
      "The score of model is -93.94035954008953 with max_depth 22 \n",
      "The score of model is -82.38076804387703 with max_depth 25 \n",
      "The score of model is -39.13531916314249 with max_depth 28 \n",
      "The score of model is -85.20011923643989 with max_depth 30 \n",
      "The score of model is -58.94812527527128 with max_depth 40 \n",
      "The score of model is -42.22169218024597 with max_depth 50 \n"
     ]
    }
   ],
   "source": [
    "max_depth = [5,7,10,13,15,17,20,22,25,28,30,40,50]\n",
    "for i in max_depth:\n",
    "    mdl = RandomForestRegressor(n_estimators=40,max_depth=i)\n",
    "    mdl.fit(x_train,y_train)\n",
    "    s = mdl.score(x_test,y_test)\n",
    "    print(f\"The score of model is {s} with max_depth {i} \")"
   ]
  },
  {
   "cell_type": "markdown",
   "id": "893ce09e",
   "metadata": {},
   "source": [
    "We have got best score for  `max_depth=17`"
   ]
  },
  {
   "cell_type": "code",
   "execution_count": 55,
   "id": "60c781d7",
   "metadata": {},
   "outputs": [
    {
     "name": "stdout",
     "output_type": "stream",
     "text": [
      "The score of model is -4.415848549112867 with max feature 0.1. \n",
      "The score of model is -8.751005024744742 with max feature 0.2. \n",
      "The score of model is -6.550410115830636 with max feature 0.3. \n",
      "The score of model is -13.0242987731656 with max feature 0.4. \n",
      "The score of model is -7.230678010727013 with max feature 0.5. \n",
      "The score of model is -9.077466397174275 with max feature 0.6. \n",
      "The score of model is -13.52471598952811 with max feature 0.7. \n",
      "The score of model is -20.350246814770784 with max feature 0.8. \n",
      "The score of model is -65.75803927601396 with max feature 0.9. \n",
      "The score of model is -116.86267509404281 with max feature 1.0. \n"
     ]
    }
   ],
   "source": [
    "max_feature = [0.1,0.2,0.3,0.4,0.5,0.6,0.7,0.8,0.9,1.0]\n",
    "for i in max_feature:\n",
    "    mdl = RandomForestRegressor(n_estimators=40,max_depth=17,max_features=i)\n",
    "    mdl.fit(x_train,y_train)\n",
    "    s = mdl.score(x_test,y_test)\n",
    "    print(f\"The score of model is {s} with max feature {i}. \")"
   ]
  },
  {
   "cell_type": "markdown",
   "id": "81650783",
   "metadata": {},
   "source": [
    "We have got best score for  `max_depth=0.1`"
   ]
  },
  {
   "cell_type": "code",
   "execution_count": 56,
   "id": "fe580759",
   "metadata": {},
   "outputs": [
    {
     "name": "stdout",
     "output_type": "stream",
     "text": [
      "The score of model is 0.12135839026223727 with min feature 0.1. \n",
      "The score of model is 0.07754326366533748 with min feature 0.2. \n",
      "The score of model is 0.08343388383701533 with min feature 0.3. \n",
      "The score of model is 0.057263183649814864 with min feature 0.4. \n",
      "The score of model is 0.051211494409765246 with min feature 0.5. \n",
      "The score of model is 0.0032440834231227678 with min feature 0.6. \n",
      "The score of model is -0.008379728090617267 with min feature 0.7. \n",
      "The score of model is -0.016682297330984808 with min feature 0.8. \n",
      "The score of model is -0.016886795109537722 with min feature 0.9. \n",
      "The score of model is -0.009703403823108303 with min feature 1.0. \n"
     ]
    }
   ],
   "source": [
    "min_samples_split = [0.1,0.2,0.3,0.4,0.5,0.6,0.7,0.8,0.9,1.0]\n",
    "for i in min_samples_split:\n",
    "    mdl = RandomForestRegressor(n_estimators=40,max_depth=17,max_features=0.1,min_samples_split=i)\n",
    "    mdl.fit(x_train,y_train)\n",
    "    s = mdl.score(x_test,y_test)\n",
    "    print(f\"The score of model is {s} with min feature {i}. \")"
   ]
  },
  {
   "cell_type": "markdown",
   "id": "8021c92a",
   "metadata": {},
   "source": [
    "We have got best score for `min_samples_split=0.7`"
   ]
  },
  {
   "cell_type": "code",
   "execution_count": 57,
   "id": "c667c213",
   "metadata": {},
   "outputs": [
    {
     "data": {
      "text/plain": [
       "-0.00837507862086384"
      ]
     },
     "execution_count": 57,
     "metadata": {},
     "output_type": "execute_result"
    }
   ],
   "source": [
    "# Model with best hyperparameters\n",
    "best_model = RandomForestRegressor(n_estimators=40,max_depth=17,max_features=0.1,min_samples_split=0.7,random_state=42)\n",
    "best_model.fit(x_train,y_train)\n",
    "best_model.score(x_test,y_test)"
   ]
  },
  {
   "cell_type": "code",
   "execution_count": 58,
   "id": "1b3fdac6",
   "metadata": {},
   "outputs": [
    {
     "data": {
      "text/plain": [
       "array([18604.69174248, 18604.69174248, 18604.69174248, ...,\n",
       "       18604.69174248, 18604.69174248, 18604.69174248])"
      ]
     },
     "execution_count": 58,
     "metadata": {},
     "output_type": "execute_result"
    }
   ],
   "source": [
    "ypredBest = best_model.predict(x_test)\n",
    "ypredBest"
   ]
  },
  {
   "cell_type": "markdown",
   "id": "48dcfd34",
   "metadata": {},
   "source": [
    "## Evaluation of best model"
   ]
  },
  {
   "cell_type": "code",
   "execution_count": 59,
   "id": "98eb84c1",
   "metadata": {},
   "outputs": [
    {
     "data": {
      "text/plain": [
       "-0.00837507862086384"
      ]
     },
     "execution_count": 59,
     "metadata": {},
     "output_type": "execute_result"
    }
   ],
   "source": [
    "# r2_score\n",
    "r2_score(y_test,ypredBest)"
   ]
  },
  {
   "cell_type": "code",
   "execution_count": 60,
   "id": "46cd0619",
   "metadata": {},
   "outputs": [
    {
     "data": {
      "text/plain": [
       "12405.453764390833"
      ]
     },
     "execution_count": 60,
     "metadata": {},
     "output_type": "execute_result"
    }
   ],
   "source": [
    "# mean_absolute_error\n",
    "mean_absolute_error(y_test,ypredBest)"
   ]
  },
  {
   "cell_type": "code",
   "execution_count": 61,
   "id": "4774a671",
   "metadata": {},
   "outputs": [
    {
     "data": {
      "text/plain": [
       "314206260.8281274"
      ]
     },
     "execution_count": 61,
     "metadata": {},
     "output_type": "execute_result"
    }
   ],
   "source": [
    "# mean_squared_error\n",
    "mean_squared_error(y_test,ypredBest)"
   ]
  },
  {
   "cell_type": "markdown",
   "id": "6715eb9b",
   "metadata": {},
   "source": [
    "# Conclusion"
   ]
  },
  {
   "cell_type": "markdown",
   "id": "4c372cc6",
   "metadata": {},
   "source": [
    "We have build Random Forest Regressor model to predict car price."
   ]
  },
  {
   "cell_type": "markdown",
   "id": "b9dbade1",
   "metadata": {},
   "source": [
    "### Thank you reading...."
   ]
  }
 ],
 "metadata": {
  "kernelspec": {
   "display_name": "Python 3 (ipykernel)",
   "language": "python",
   "name": "python3"
  },
  "language_info": {
   "codemirror_mode": {
    "name": "ipython",
    "version": 3
   },
   "file_extension": ".py",
   "mimetype": "text/x-python",
   "name": "python",
   "nbconvert_exporter": "python",
   "pygments_lexer": "ipython3",
   "version": "3.10.8"
  }
 },
 "nbformat": 4,
 "nbformat_minor": 5
}
