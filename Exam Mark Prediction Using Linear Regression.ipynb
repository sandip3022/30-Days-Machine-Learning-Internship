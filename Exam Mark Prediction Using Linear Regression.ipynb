{
 "cells": [
  {
   "cell_type": "markdown",
   "id": "020e24bc",
   "metadata": {},
   "source": [
    "# Exam Mark Prediction \n",
    "\n",
    "**Problem Statement:**\n",
    "We have provided  amount of study student are doing everyday in `hours`  , `age` of student and Availablity of `Internet`. with help of this we have to predict student `marks` ? \n",
    "\n"
   ]
  },
  {
   "cell_type": "markdown",
   "id": "b4c7085d",
   "metadata": {},
   "source": [
    "# Importing required libraries"
   ]
  },
  {
   "cell_type": "code",
   "execution_count": 1,
   "id": "c9baf2a3",
   "metadata": {},
   "outputs": [],
   "source": [
    "import pandas as pd\n",
    "import numpy as np\n",
    "import matplotlib.pyplot as plt\n",
    "import seaborn as sns\n",
    "\n",
    "from sklearn.model_selection import train_test_split\n",
    "from sklearn.preprocessing import StandardScaler\n",
    "from sklearn.linear_model import LinearRegression"
   ]
  },
  {
   "cell_type": "markdown",
   "id": "e0e9f7c6",
   "metadata": {},
   "source": [
    "# Collect Data"
   ]
  },
  {
   "cell_type": "code",
   "execution_count": 2,
   "id": "34173530",
   "metadata": {},
   "outputs": [
    {
     "data": {
      "text/html": [
       "<div>\n",
       "<style scoped>\n",
       "    .dataframe tbody tr th:only-of-type {\n",
       "        vertical-align: middle;\n",
       "    }\n",
       "\n",
       "    .dataframe tbody tr th {\n",
       "        vertical-align: top;\n",
       "    }\n",
       "\n",
       "    .dataframe thead th {\n",
       "        text-align: right;\n",
       "    }\n",
       "</style>\n",
       "<table border=\"1\" class=\"dataframe\">\n",
       "  <thead>\n",
       "    <tr style=\"text-align: right;\">\n",
       "      <th></th>\n",
       "      <th>hours</th>\n",
       "      <th>age</th>\n",
       "      <th>internet</th>\n",
       "      <th>marks</th>\n",
       "    </tr>\n",
       "  </thead>\n",
       "  <tbody>\n",
       "    <tr>\n",
       "      <th>0</th>\n",
       "      <td>6.83</td>\n",
       "      <td>15</td>\n",
       "      <td>1</td>\n",
       "      <td>78.50</td>\n",
       "    </tr>\n",
       "    <tr>\n",
       "      <th>1</th>\n",
       "      <td>6.56</td>\n",
       "      <td>16</td>\n",
       "      <td>0</td>\n",
       "      <td>76.74</td>\n",
       "    </tr>\n",
       "    <tr>\n",
       "      <th>2</th>\n",
       "      <td>NaN</td>\n",
       "      <td>17</td>\n",
       "      <td>1</td>\n",
       "      <td>78.68</td>\n",
       "    </tr>\n",
       "    <tr>\n",
       "      <th>3</th>\n",
       "      <td>5.67</td>\n",
       "      <td>18</td>\n",
       "      <td>0</td>\n",
       "      <td>71.82</td>\n",
       "    </tr>\n",
       "    <tr>\n",
       "      <th>4</th>\n",
       "      <td>8.67</td>\n",
       "      <td>19</td>\n",
       "      <td>1</td>\n",
       "      <td>84.19</td>\n",
       "    </tr>\n",
       "  </tbody>\n",
       "</table>\n",
       "</div>"
      ],
      "text/plain": [
       "   hours  age  internet  marks\n",
       "0   6.83   15         1  78.50\n",
       "1   6.56   16         0  76.74\n",
       "2    NaN   17         1  78.68\n",
       "3   5.67   18         0  71.82\n",
       "4   8.67   19         1  84.19"
      ]
     },
     "execution_count": 2,
     "metadata": {},
     "output_type": "execute_result"
    }
   ],
   "source": [
    "data = pd.read_csv(\"Dataset.csv\")\n",
    "data.head()"
   ]
  },
  {
   "cell_type": "markdown",
   "id": "8f286ae8",
   "metadata": {},
   "source": [
    "# Data Preprocessing\n"
   ]
  },
  {
   "cell_type": "code",
   "execution_count": 3,
   "id": "2b1a4e6f",
   "metadata": {},
   "outputs": [
    {
     "name": "stdout",
     "output_type": "stream",
     "text": [
      "<class 'pandas.core.frame.DataFrame'>\n",
      "RangeIndex: 201 entries, 0 to 200\n",
      "Data columns (total 4 columns):\n",
      " #   Column    Non-Null Count  Dtype  \n",
      "---  ------    --------------  -----  \n",
      " 0   hours     196 non-null    float64\n",
      " 1   age       201 non-null    int64  \n",
      " 2   internet  201 non-null    int64  \n",
      " 3   marks     201 non-null    float64\n",
      "dtypes: float64(2), int64(2)\n",
      "memory usage: 6.4 KB\n"
     ]
    }
   ],
   "source": [
    "# Check info\n",
    "data.info()"
   ]
  },
  {
   "cell_type": "code",
   "execution_count": 4,
   "id": "0c445b3c",
   "metadata": {},
   "outputs": [
    {
     "data": {
      "text/html": [
       "<div>\n",
       "<style scoped>\n",
       "    .dataframe tbody tr th:only-of-type {\n",
       "        vertical-align: middle;\n",
       "    }\n",
       "\n",
       "    .dataframe tbody tr th {\n",
       "        vertical-align: top;\n",
       "    }\n",
       "\n",
       "    .dataframe thead th {\n",
       "        text-align: right;\n",
       "    }\n",
       "</style>\n",
       "<table border=\"1\" class=\"dataframe\">\n",
       "  <thead>\n",
       "    <tr style=\"text-align: right;\">\n",
       "      <th></th>\n",
       "      <th>count</th>\n",
       "      <th>mean</th>\n",
       "      <th>std</th>\n",
       "      <th>min</th>\n",
       "      <th>25%</th>\n",
       "      <th>50%</th>\n",
       "      <th>75%</th>\n",
       "      <th>max</th>\n",
       "    </tr>\n",
       "  </thead>\n",
       "  <tbody>\n",
       "    <tr>\n",
       "      <th>hours</th>\n",
       "      <td>196.0</td>\n",
       "      <td>6.981429</td>\n",
       "      <td>1.266266</td>\n",
       "      <td>4.15</td>\n",
       "      <td>5.7575</td>\n",
       "      <td>7.11</td>\n",
       "      <td>8.0825</td>\n",
       "      <td>8.99</td>\n",
       "    </tr>\n",
       "    <tr>\n",
       "      <th>age</th>\n",
       "      <td>201.0</td>\n",
       "      <td>17.467662</td>\n",
       "      <td>1.720523</td>\n",
       "      <td>15.00</td>\n",
       "      <td>16.0000</td>\n",
       "      <td>17.00</td>\n",
       "      <td>19.0000</td>\n",
       "      <td>20.00</td>\n",
       "    </tr>\n",
       "    <tr>\n",
       "      <th>internet</th>\n",
       "      <td>201.0</td>\n",
       "      <td>0.552239</td>\n",
       "      <td>0.498505</td>\n",
       "      <td>0.00</td>\n",
       "      <td>0.0000</td>\n",
       "      <td>1.00</td>\n",
       "      <td>1.0000</td>\n",
       "      <td>1.00</td>\n",
       "    </tr>\n",
       "    <tr>\n",
       "      <th>marks</th>\n",
       "      <td>201.0</td>\n",
       "      <td>77.951244</td>\n",
       "      <td>4.919626</td>\n",
       "      <td>68.57</td>\n",
       "      <td>73.4000</td>\n",
       "      <td>77.77</td>\n",
       "      <td>82.3000</td>\n",
       "      <td>86.99</td>\n",
       "    </tr>\n",
       "  </tbody>\n",
       "</table>\n",
       "</div>"
      ],
      "text/plain": [
       "          count       mean       std    min      25%    50%      75%    max\n",
       "hours     196.0   6.981429  1.266266   4.15   5.7575   7.11   8.0825   8.99\n",
       "age       201.0  17.467662  1.720523  15.00  16.0000  17.00  19.0000  20.00\n",
       "internet  201.0   0.552239  0.498505   0.00   0.0000   1.00   1.0000   1.00\n",
       "marks     201.0  77.951244  4.919626  68.57  73.4000  77.77  82.3000  86.99"
      ]
     },
     "execution_count": 4,
     "metadata": {},
     "output_type": "execute_result"
    }
   ],
   "source": [
    "# Describe Data\n",
    "data.describe().T"
   ]
  },
  {
   "cell_type": "code",
   "execution_count": 5,
   "id": "c7989d71",
   "metadata": {},
   "outputs": [
    {
     "data": {
      "text/plain": [
       "(201, 4)"
      ]
     },
     "execution_count": 5,
     "metadata": {},
     "output_type": "execute_result"
    }
   ],
   "source": [
    "# Checking Shape\n",
    "data.shape"
   ]
  },
  {
   "cell_type": "markdown",
   "id": "0575d108",
   "metadata": {},
   "source": [
    "We have 201 rows and 4 columns"
   ]
  },
  {
   "cell_type": "code",
   "execution_count": 6,
   "id": "b861eaf4",
   "metadata": {},
   "outputs": [
    {
     "data": {
      "text/plain": [
       "hours       float64\n",
       "age           int64\n",
       "internet      int64\n",
       "marks       float64\n",
       "dtype: object"
      ]
     },
     "execution_count": 6,
     "metadata": {},
     "output_type": "execute_result"
    }
   ],
   "source": [
    "# Checks for datatypes\n",
    "data.dtypes"
   ]
  },
  {
   "cell_type": "markdown",
   "id": "5ac4437c",
   "metadata": {},
   "source": [
    "All data in Numeric format so there is no need to datatype conversion"
   ]
  },
  {
   "cell_type": "code",
   "execution_count": 7,
   "id": "6d2d679f",
   "metadata": {},
   "outputs": [
    {
     "data": {
      "text/plain": [
       "hours       5\n",
       "age         0\n",
       "internet    0\n",
       "marks       0\n",
       "dtype: int64"
      ]
     },
     "execution_count": 7,
     "metadata": {},
     "output_type": "execute_result"
    }
   ],
   "source": [
    "# Check for missing value\n",
    "data.isna().sum()"
   ]
  },
  {
   "cell_type": "code",
   "execution_count": 8,
   "id": "c5d20724",
   "metadata": {},
   "outputs": [
    {
     "data": {
      "text/plain": [
       "hours       0\n",
       "age         0\n",
       "internet    0\n",
       "marks       0\n",
       "dtype: int64"
      ]
     },
     "execution_count": 8,
     "metadata": {},
     "output_type": "execute_result"
    }
   ],
   "source": [
    "# Fill missing value for Hours with median of hours data\n",
    "data[\"hours\"].fillna(np.mean(data.hours),inplace=True)\n",
    "data.isna().sum()"
   ]
  },
  {
   "cell_type": "code",
   "execution_count": 9,
   "id": "b1931f0d",
   "metadata": {},
   "outputs": [
    {
     "data": {
      "text/plain": [
       "Text(0, 0.5, 'Marks')"
      ]
     },
     "execution_count": 9,
     "metadata": {},
     "output_type": "execute_result"
    },
    {
     "data": {
      "image/png": "[encoded data removed]",
      "text/plain": [
       "<Figure size 640x480 with 1 Axes>"
      ]
     },
     "metadata": {},
     "output_type": "display_data"
    }
   ],
   "source": [
    "plt.scatter(data.hours,data.marks)\n",
    "plt.title(\"Hours vs Marks\")\n",
    "plt.xlabel(\"Hours\")\n",
    "plt.ylabel(\"Marks\")\n"
   ]
  },
  {
   "cell_type": "markdown",
   "id": "2360e4d7",
   "metadata": {},
   "source": [
    "From this plot we can notice that as `hours` increase `marks` increase, This means hours and mark directly proportional to each other. "
   ]
  },
  {
   "cell_type": "code",
   "execution_count": 10,
   "id": "90023222",
   "metadata": {},
   "outputs": [
    {
     "data": {
      "text/plain": [
       "15    35\n",
       "16    34\n",
       "17    33\n",
       "18    33\n",
       "19    33\n",
       "20    33\n",
       "Name: age, dtype: int64"
      ]
     },
     "execution_count": 10,
     "metadata": {},
     "output_type": "execute_result"
    }
   ],
   "source": [
    "data.age.value_counts()"
   ]
  },
  {
   "cell_type": "code",
   "execution_count": 11,
   "id": "3bfb1dbf",
   "metadata": {},
   "outputs": [
    {
     "data": {
      "text/plain": [
       "1    111\n",
       "0     90\n",
       "Name: internet, dtype: int64"
      ]
     },
     "execution_count": 11,
     "metadata": {},
     "output_type": "execute_result"
    }
   ],
   "source": [
    "data.internet.value_counts()"
   ]
  },
  {
   "cell_type": "code",
   "execution_count": 12,
   "id": "48bab5c5",
   "metadata": {},
   "outputs": [
    {
     "data": {
      "text/html": [
       "<div>\n",
       "<style scoped>\n",
       "    .dataframe tbody tr th:only-of-type {\n",
       "        vertical-align: middle;\n",
       "    }\n",
       "\n",
       "    .dataframe tbody tr th {\n",
       "        vertical-align: top;\n",
       "    }\n",
       "\n",
       "    .dataframe thead th {\n",
       "        text-align: right;\n",
       "    }\n",
       "</style>\n",
       "<table border=\"1\" class=\"dataframe\">\n",
       "  <thead>\n",
       "    <tr style=\"text-align: right;\">\n",
       "      <th></th>\n",
       "      <th>hours</th>\n",
       "      <th>age</th>\n",
       "      <th>internet</th>\n",
       "      <th>marks</th>\n",
       "    </tr>\n",
       "  </thead>\n",
       "  <tbody>\n",
       "    <tr>\n",
       "      <th>hours</th>\n",
       "      <td>1.000000</td>\n",
       "      <td>-0.055314</td>\n",
       "      <td>0.009683</td>\n",
       "      <td>0.956744</td>\n",
       "    </tr>\n",
       "    <tr>\n",
       "      <th>age</th>\n",
       "      <td>-0.055314</td>\n",
       "      <td>1.000000</td>\n",
       "      <td>-0.028626</td>\n",
       "      <td>-0.060712</td>\n",
       "    </tr>\n",
       "    <tr>\n",
       "      <th>internet</th>\n",
       "      <td>0.009683</td>\n",
       "      <td>-0.028626</td>\n",
       "      <td>1.000000</td>\n",
       "      <td>0.005080</td>\n",
       "    </tr>\n",
       "    <tr>\n",
       "      <th>marks</th>\n",
       "      <td>0.956744</td>\n",
       "      <td>-0.060712</td>\n",
       "      <td>0.005080</td>\n",
       "      <td>1.000000</td>\n",
       "    </tr>\n",
       "  </tbody>\n",
       "</table>\n",
       "</div>"
      ],
      "text/plain": [
       "             hours       age  internet     marks\n",
       "hours     1.000000 -0.055314  0.009683  0.956744\n",
       "age      -0.055314  1.000000 -0.028626 -0.060712\n",
       "internet  0.009683 -0.028626  1.000000  0.005080\n",
       "marks     0.956744 -0.060712  0.005080  1.000000"
      ]
     },
     "execution_count": 12,
     "metadata": {},
     "output_type": "execute_result"
    }
   ],
   "source": [
    "data.corr()"
   ]
  },
  {
   "cell_type": "code",
   "execution_count": 13,
   "id": "48f30c72",
   "metadata": {},
   "outputs": [
    {
     "data": {
      "text/plain": [
       "<AxesSubplot:>"
      ]
     },
     "execution_count": 13,
     "metadata": {},
     "output_type": "execute_result"
    },
    {
     "data": {
      "image/png": "[encoded data removed]",
      "text/plain": [
       "<Figure size 640x480 with 2 Axes>"
      ]
     },
     "metadata": {},
     "output_type": "display_data"
    }
   ],
   "source": [
    "sns.heatmap(data.corr(),cmap=\"ocean\")"
   ]
  },
  {
   "cell_type": "markdown",
   "id": "f13adcde",
   "metadata": {},
   "source": [
    "# Split data into x and y"
   ]
  },
  {
   "cell_type": "code",
   "execution_count": 14,
   "id": "60403d6b",
   "metadata": {},
   "outputs": [
    {
     "data": {
      "text/html": [
       "<div>\n",
       "<style scoped>\n",
       "    .dataframe tbody tr th:only-of-type {\n",
       "        vertical-align: middle;\n",
       "    }\n",
       "\n",
       "    .dataframe tbody tr th {\n",
       "        vertical-align: top;\n",
       "    }\n",
       "\n",
       "    .dataframe thead th {\n",
       "        text-align: right;\n",
       "    }\n",
       "</style>\n",
       "<table border=\"1\" class=\"dataframe\">\n",
       "  <thead>\n",
       "    <tr style=\"text-align: right;\">\n",
       "      <th></th>\n",
       "      <th>hours</th>\n",
       "      <th>age</th>\n",
       "      <th>internet</th>\n",
       "    </tr>\n",
       "  </thead>\n",
       "  <tbody>\n",
       "    <tr>\n",
       "      <th>0</th>\n",
       "      <td>6.830000</td>\n",
       "      <td>15</td>\n",
       "      <td>1</td>\n",
       "    </tr>\n",
       "    <tr>\n",
       "      <th>1</th>\n",
       "      <td>6.560000</td>\n",
       "      <td>16</td>\n",
       "      <td>0</td>\n",
       "    </tr>\n",
       "    <tr>\n",
       "      <th>2</th>\n",
       "      <td>6.981429</td>\n",
       "      <td>17</td>\n",
       "      <td>1</td>\n",
       "    </tr>\n",
       "    <tr>\n",
       "      <th>3</th>\n",
       "      <td>5.670000</td>\n",
       "      <td>18</td>\n",
       "      <td>0</td>\n",
       "    </tr>\n",
       "    <tr>\n",
       "      <th>4</th>\n",
       "      <td>8.670000</td>\n",
       "      <td>19</td>\n",
       "      <td>1</td>\n",
       "    </tr>\n",
       "    <tr>\n",
       "      <th>...</th>\n",
       "      <td>...</td>\n",
       "      <td>...</td>\n",
       "      <td>...</td>\n",
       "    </tr>\n",
       "    <tr>\n",
       "      <th>196</th>\n",
       "      <td>8.560000</td>\n",
       "      <td>19</td>\n",
       "      <td>1</td>\n",
       "    </tr>\n",
       "    <tr>\n",
       "      <th>197</th>\n",
       "      <td>8.940000</td>\n",
       "      <td>20</td>\n",
       "      <td>1</td>\n",
       "    </tr>\n",
       "    <tr>\n",
       "      <th>198</th>\n",
       "      <td>6.600000</td>\n",
       "      <td>15</td>\n",
       "      <td>1</td>\n",
       "    </tr>\n",
       "    <tr>\n",
       "      <th>199</th>\n",
       "      <td>8.350000</td>\n",
       "      <td>16</td>\n",
       "      <td>1</td>\n",
       "    </tr>\n",
       "    <tr>\n",
       "      <th>200</th>\n",
       "      <td>4.150000</td>\n",
       "      <td>15</td>\n",
       "      <td>0</td>\n",
       "    </tr>\n",
       "  </tbody>\n",
       "</table>\n",
       "<p>201 rows × 3 columns</p>\n",
       "</div>"
      ],
      "text/plain": [
       "        hours  age  internet\n",
       "0    6.830000   15         1\n",
       "1    6.560000   16         0\n",
       "2    6.981429   17         1\n",
       "3    5.670000   18         0\n",
       "4    8.670000   19         1\n",
       "..        ...  ...       ...\n",
       "196  8.560000   19         1\n",
       "197  8.940000   20         1\n",
       "198  6.600000   15         1\n",
       "199  8.350000   16         1\n",
       "200  4.150000   15         0\n",
       "\n",
       "[201 rows x 3 columns]"
      ]
     },
     "execution_count": 14,
     "metadata": {},
     "output_type": "execute_result"
    }
   ],
   "source": [
    "x = data.drop(\"marks\",axis=1)\n",
    "x"
   ]
  },
  {
   "cell_type": "code",
   "execution_count": 15,
   "id": "583d4246",
   "metadata": {},
   "outputs": [
    {
     "data": {
      "text/plain": [
       "0      78.50\n",
       "1      76.74\n",
       "2      78.68\n",
       "3      71.82\n",
       "4      84.19\n",
       "       ...  \n",
       "196    84.68\n",
       "197    86.75\n",
       "198    78.05\n",
       "199    83.50\n",
       "200    81.45\n",
       "Name: marks, Length: 201, dtype: float64"
      ]
     },
     "execution_count": 15,
     "metadata": {},
     "output_type": "execute_result"
    }
   ],
   "source": [
    "y = data[\"marks\"]\n",
    "y"
   ]
  },
  {
   "cell_type": "markdown",
   "id": "77b5d823",
   "metadata": {},
   "source": [
    "## Splitting data into train and test set"
   ]
  },
  {
   "cell_type": "code",
   "execution_count": 16,
   "id": "e2e60a0a",
   "metadata": {},
   "outputs": [],
   "source": [
    "x_train,x_test,y_train,y_test = train_test_split(x,y,test_size=0.2)"
   ]
  },
  {
   "cell_type": "code",
   "execution_count": 17,
   "id": "e63d2eab",
   "metadata": {},
   "outputs": [
    {
     "data": {
      "text/plain": [
       "((160, 3), (41, 3), (160,), (41,))"
      ]
     },
     "execution_count": 17,
     "metadata": {},
     "output_type": "execute_result"
    }
   ],
   "source": [
    "x_train.shape,x_test.shape,y_train.shape,y_test.shape"
   ]
  },
  {
   "cell_type": "markdown",
   "id": "49db102f",
   "metadata": {},
   "source": [
    "We are giving 160 data to training set and 41 data to test our model"
   ]
  },
  {
   "cell_type": "markdown",
   "id": "45738ed4",
   "metadata": {},
   "source": [
    "Here I'm going training two model:\n",
    "* model1 = without feature scaling\n",
    "* model2 = with feature scaling\n",
    "at last I'll compare this two."
   ]
  },
  {
   "cell_type": "code",
   "execution_count": 18,
   "id": "c2d35808",
   "metadata": {},
   "outputs": [
    {
     "data": {
      "text/plain": [
       "0.96455830372766"
      ]
     },
     "execution_count": 18,
     "metadata": {},
     "output_type": "execute_result"
    }
   ],
   "source": [
    "model1 = LinearRegression()\n",
    "model1.fit(x_train,y_train)\n",
    "model1.score(x_test,y_test)"
   ]
  },
  {
   "cell_type": "code",
   "execution_count": 19,
   "id": "0d554f9d",
   "metadata": {},
   "outputs": [
    {
     "data": {
      "text/html": [
       "<div>\n",
       "<style scoped>\n",
       "    .dataframe tbody tr th:only-of-type {\n",
       "        vertical-align: middle;\n",
       "    }\n",
       "\n",
       "    .dataframe tbody tr th {\n",
       "        vertical-align: top;\n",
       "    }\n",
       "\n",
       "    .dataframe thead th {\n",
       "        text-align: right;\n",
       "    }\n",
       "</style>\n",
       "<table border=\"1\" class=\"dataframe\">\n",
       "  <thead>\n",
       "    <tr style=\"text-align: right;\">\n",
       "      <th></th>\n",
       "      <th>hours</th>\n",
       "      <th>age</th>\n",
       "      <th>internet</th>\n",
       "    </tr>\n",
       "  </thead>\n",
       "  <tbody>\n",
       "    <tr>\n",
       "      <th>53</th>\n",
       "      <td>5.52</td>\n",
       "      <td>20</td>\n",
       "      <td>1</td>\n",
       "    </tr>\n",
       "    <tr>\n",
       "      <th>124</th>\n",
       "      <td>8.69</td>\n",
       "      <td>19</td>\n",
       "      <td>1</td>\n",
       "    </tr>\n",
       "    <tr>\n",
       "      <th>196</th>\n",
       "      <td>8.56</td>\n",
       "      <td>19</td>\n",
       "      <td>1</td>\n",
       "    </tr>\n",
       "    <tr>\n",
       "      <th>58</th>\n",
       "      <td>5.39</td>\n",
       "      <td>19</td>\n",
       "      <td>1</td>\n",
       "    </tr>\n",
       "    <tr>\n",
       "      <th>156</th>\n",
       "      <td>8.39</td>\n",
       "      <td>15</td>\n",
       "      <td>1</td>\n",
       "    </tr>\n",
       "  </tbody>\n",
       "</table>\n",
       "</div>"
      ],
      "text/plain": [
       "     hours  age  internet\n",
       "53    5.52   20         1\n",
       "124   8.69   19         1\n",
       "196   8.56   19         1\n",
       "58    5.39   19         1\n",
       "156   8.39   15         1"
      ]
     },
     "execution_count": 19,
     "metadata": {},
     "output_type": "execute_result"
    }
   ],
   "source": [
    "x_train.head()"
   ]
  },
  {
   "cell_type": "markdown",
   "id": "ce55d148",
   "metadata": {},
   "source": [
    "# Feature Scaling\n"
   ]
  },
  {
   "cell_type": "code",
   "execution_count": 20,
   "id": "74d8d57a",
   "metadata": {},
   "outputs": [],
   "source": [
    "sc = StandardScaler()\n",
    "x_train = pd.DataFrame(sc.fit_transform(x_train))\n",
    "x_test = pd.DataFrame(sc.transform(x_test))"
   ]
  },
  {
   "cell_type": "code",
   "execution_count": 21,
   "id": "ca574f2a",
   "metadata": {},
   "outputs": [
    {
     "data": {
      "text/html": [
       "<div>\n",
       "<style scoped>\n",
       "    .dataframe tbody tr th:only-of-type {\n",
       "        vertical-align: middle;\n",
       "    }\n",
       "\n",
       "    .dataframe tbody tr th {\n",
       "        vertical-align: top;\n",
       "    }\n",
       "\n",
       "    .dataframe thead th {\n",
       "        text-align: right;\n",
       "    }\n",
       "</style>\n",
       "<table border=\"1\" class=\"dataframe\">\n",
       "  <thead>\n",
       "    <tr style=\"text-align: right;\">\n",
       "      <th></th>\n",
       "      <th>0</th>\n",
       "      <th>1</th>\n",
       "      <th>2</th>\n",
       "    </tr>\n",
       "  </thead>\n",
       "  <tbody>\n",
       "    <tr>\n",
       "      <th>0</th>\n",
       "      <td>-1.192430</td>\n",
       "      <td>1.542837</td>\n",
       "      <td>0.848782</td>\n",
       "    </tr>\n",
       "    <tr>\n",
       "      <th>1</th>\n",
       "      <td>1.446694</td>\n",
       "      <td>0.940754</td>\n",
       "      <td>0.848782</td>\n",
       "    </tr>\n",
       "    <tr>\n",
       "      <th>2</th>\n",
       "      <td>1.338465</td>\n",
       "      <td>0.940754</td>\n",
       "      <td>0.848782</td>\n",
       "    </tr>\n",
       "    <tr>\n",
       "      <th>3</th>\n",
       "      <td>-1.300659</td>\n",
       "      <td>0.940754</td>\n",
       "      <td>0.848782</td>\n",
       "    </tr>\n",
       "    <tr>\n",
       "      <th>4</th>\n",
       "      <td>1.196935</td>\n",
       "      <td>-1.467577</td>\n",
       "      <td>0.848782</td>\n",
       "    </tr>\n",
       "  </tbody>\n",
       "</table>\n",
       "</div>"
      ],
      "text/plain": [
       "          0         1         2\n",
       "0 -1.192430  1.542837  0.848782\n",
       "1  1.446694  0.940754  0.848782\n",
       "2  1.338465  0.940754  0.848782\n",
       "3 -1.300659  0.940754  0.848782\n",
       "4  1.196935 -1.467577  0.848782"
      ]
     },
     "execution_count": 21,
     "metadata": {},
     "output_type": "execute_result"
    }
   ],
   "source": [
    "x_train.head()"
   ]
  },
  {
   "cell_type": "code",
   "execution_count": 22,
   "id": "565cd786",
   "metadata": {},
   "outputs": [
    {
     "data": {
      "text/html": [
       "<div>\n",
       "<style scoped>\n",
       "    .dataframe tbody tr th:only-of-type {\n",
       "        vertical-align: middle;\n",
       "    }\n",
       "\n",
       "    .dataframe tbody tr th {\n",
       "        vertical-align: top;\n",
       "    }\n",
       "\n",
       "    .dataframe thead th {\n",
       "        text-align: right;\n",
       "    }\n",
       "</style>\n",
       "<table border=\"1\" class=\"dataframe\">\n",
       "  <thead>\n",
       "    <tr style=\"text-align: right;\">\n",
       "      <th></th>\n",
       "      <th>0</th>\n",
       "      <th>1</th>\n",
       "      <th>2</th>\n",
       "    </tr>\n",
       "  </thead>\n",
       "  <tbody>\n",
       "    <tr>\n",
       "      <th>0</th>\n",
       "      <td>0.830621</td>\n",
       "      <td>1.542837</td>\n",
       "      <td>-1.178159</td>\n",
       "    </tr>\n",
       "    <tr>\n",
       "      <th>1</th>\n",
       "      <td>-0.168417</td>\n",
       "      <td>0.338672</td>\n",
       "      <td>-1.178159</td>\n",
       "    </tr>\n",
       "    <tr>\n",
       "      <th>2</th>\n",
       "      <td>0.597512</td>\n",
       "      <td>-0.865494</td>\n",
       "      <td>0.848782</td>\n",
       "    </tr>\n",
       "    <tr>\n",
       "      <th>3</th>\n",
       "      <td>1.504971</td>\n",
       "      <td>-1.467577</td>\n",
       "      <td>-1.178159</td>\n",
       "    </tr>\n",
       "    <tr>\n",
       "      <th>4</th>\n",
       "      <td>1.471670</td>\n",
       "      <td>0.940754</td>\n",
       "      <td>0.848782</td>\n",
       "    </tr>\n",
       "  </tbody>\n",
       "</table>\n",
       "</div>"
      ],
      "text/plain": [
       "          0         1         2\n",
       "0  0.830621  1.542837 -1.178159\n",
       "1 -0.168417  0.338672 -1.178159\n",
       "2  0.597512 -0.865494  0.848782\n",
       "3  1.504971 -1.467577 -1.178159\n",
       "4  1.471670  0.940754  0.848782"
      ]
     },
     "execution_count": 22,
     "metadata": {},
     "output_type": "execute_result"
    }
   ],
   "source": [
    "x_test.head()"
   ]
  },
  {
   "cell_type": "code",
   "execution_count": 23,
   "id": "86d37d67",
   "metadata": {},
   "outputs": [
    {
     "data": {
      "text/plain": [
       "0.9645583037276599"
      ]
     },
     "execution_count": 23,
     "metadata": {},
     "output_type": "execute_result"
    }
   ],
   "source": [
    "np.random.seed(42)\n",
    "model2 = LinearRegression()\n",
    "model2.fit(x_train,y_train)\n",
    "model2.score(x_test,y_test)"
   ]
  },
  {
   "cell_type": "code",
   "execution_count": 24,
   "id": "9a436b7b",
   "metadata": {},
   "outputs": [
    {
     "name": "stderr",
     "output_type": "stream",
     "text": [
      "C:\\Users\\SANDIP\\Documents\\sample_project_1\\env\\lib\\site-packages\\sklearn\\base.py:450: UserWarning: X does not have valid feature names, but LinearRegression was fitted with feature names\n",
      "  warnings.warn(\n"
     ]
    }
   ],
   "source": [
    "ypreds1 = model1.predict(x_test)\n",
    "ypreds2 = model2.predict(x_test)"
   ]
  },
  {
   "cell_type": "code",
   "execution_count": 25,
   "id": "a6a58aa3",
   "metadata": {},
   "outputs": [
    {
     "data": {
      "text/plain": [
       "24.525643037103798"
      ]
     },
     "execution_count": 25,
     "metadata": {},
     "output_type": "execute_result"
    }
   ],
   "source": [
    "from sklearn.metrics import mean_absolute_error\n",
    "mean_absolute_error(y_test,ypreds1)"
   ]
  },
  {
   "cell_type": "code",
   "execution_count": 26,
   "id": "4da295e8",
   "metadata": {},
   "outputs": [
    {
     "data": {
      "text/plain": [
       "0.8378278275694877"
      ]
     },
     "execution_count": 26,
     "metadata": {},
     "output_type": "execute_result"
    }
   ],
   "source": [
    "mean_absolute_error(y_test,ypreds2)"
   ]
  },
  {
   "cell_type": "code",
   "execution_count": 27,
   "id": "df9ec479",
   "metadata": {},
   "outputs": [
    {
     "data": {
      "text/plain": [
       "-18.77874534172554"
      ]
     },
     "execution_count": 27,
     "metadata": {},
     "output_type": "execute_result"
    }
   ],
   "source": [
    "from sklearn.metrics import r2_score\n",
    "r2_score(y_test,ypreds1)"
   ]
  },
  {
   "cell_type": "code",
   "execution_count": 28,
   "id": "7a644fb1",
   "metadata": {},
   "outputs": [
    {
     "data": {
      "text/plain": [
       "0.9645583037276599"
      ]
     },
     "execution_count": 28,
     "metadata": {},
     "output_type": "execute_result"
    }
   ],
   "source": [
    "r2_score(y_test,ypreds2)"
   ]
  },
  {
   "cell_type": "code",
   "execution_count": 29,
   "id": "73cd706f",
   "metadata": {},
   "outputs": [
    {
     "data": {
      "text/plain": [
       "array([56.41791044, 52.78255697, 55.49412051, 59.15410096, 58.61947863,\n",
       "       47.415617  , 53.3660875 , 59.08278941, 48.88130815, 49.79895168,\n",
       "       52.22613931, 48.92799272, 57.68618616, 48.69509438, 51.67451465,\n",
       "       51.52770655, 55.91100898, 56.47579668, 48.22254332, 49.44831949,\n",
       "       47.7570089 , 47.69689903, 47.69689903, 54.28791605, 48.40457207,\n",
       "       56.90414907, 50.16436257, 54.56501306, 47.98545996, 59.82345946,\n",
       "       59.58354448, 56.96622032, 58.65975455, 59.25780151, 57.43790114,\n",
       "       57.37164487, 59.02490318, 47.71254797, 58.99892282, 53.26570171,\n",
       "       59.19573026])"
      ]
     },
     "execution_count": 29,
     "metadata": {},
     "output_type": "execute_result"
    }
   ],
   "source": [
    "ypreds1"
   ]
  },
  {
   "cell_type": "code",
   "execution_count": 30,
   "id": "ac9d8883",
   "metadata": {},
   "outputs": [
    {
     "data": {
      "text/plain": [
       "array([81.4597924 , 77.13404643, 80.59659948, 84.84858813, 84.28932067,\n",
       "       70.83173275, 78.06094013, 84.70160972, 72.50935932, 73.59115184,\n",
       "       76.60992147, 72.73009505, 83.02407106, 72.2856875 , 75.86443664,\n",
       "       75.60633436, 81.11778835, 81.57020422, 71.80097731, 73.10866569,\n",
       "       71.24179775, 70.98449543, 70.98449543, 79.10687809, 72.06050368,\n",
       "       82.31070473, 74.11296484, 79.29549533, 71.39242431, 85.63215155,\n",
       "       85.26221337, 82.38526201, 84.39902044, 85.03560545, 82.72584197,\n",
       "       82.68713924, 84.5911979 , 71.16795253, 84.66219495, 77.69393803,\n",
       "       84.96104818])"
      ]
     },
     "execution_count": 30,
     "metadata": {},
     "output_type": "execute_result"
    }
   ],
   "source": [
    "ypreds2"
   ]
  },
  {
   "cell_type": "code",
   "execution_count": 31,
   "id": "b9f6d8f7",
   "metadata": {},
   "outputs": [
    {
     "data": {
      "text/plain": [
       "array([82.03, 77.82, 80.58, 82.21, 83.08, 72.08, 77.19, 84.35, 70.96,\n",
       "       72.46, 76.63, 72.38, 83.48, 71.87, 74.97, 76.04, 79.17, 82.93,\n",
       "       71.8 , 73.61, 71.5 , 71.22, 70.2 , 77.77, 71.1 , 83.82, 75.36,\n",
       "       77.59, 71.18, 85.46, 86.12, 82.27, 85.48, 86.75, 82.79, 82.1 ,\n",
       "       84.6 , 70.4 , 85.98, 76.38, 86.41])"
      ]
     },
     "execution_count": 31,
     "metadata": {},
     "output_type": "execute_result"
    }
   ],
   "source": [
    "np.array(y_test)"
   ]
  },
  {
   "cell_type": "code",
   "execution_count": 32,
   "id": "63d63b5d",
   "metadata": {},
   "outputs": [
    {
     "data": {
      "text/html": [
       "<div>\n",
       "<style scoped>\n",
       "    .dataframe tbody tr th:only-of-type {\n",
       "        vertical-align: middle;\n",
       "    }\n",
       "\n",
       "    .dataframe tbody tr th {\n",
       "        vertical-align: top;\n",
       "    }\n",
       "\n",
       "    .dataframe thead th {\n",
       "        text-align: right;\n",
       "    }\n",
       "</style>\n",
       "<table border=\"1\" class=\"dataframe\">\n",
       "  <thead>\n",
       "    <tr style=\"text-align: right;\">\n",
       "      <th></th>\n",
       "      <th>0</th>\n",
       "      <th>1</th>\n",
       "      <th>2</th>\n",
       "    </tr>\n",
       "  </thead>\n",
       "  <tbody>\n",
       "    <tr>\n",
       "      <th>0</th>\n",
       "      <td>82.03</td>\n",
       "      <td>56.417910</td>\n",
       "      <td>81.459792</td>\n",
       "    </tr>\n",
       "    <tr>\n",
       "      <th>1</th>\n",
       "      <td>77.82</td>\n",
       "      <td>52.782557</td>\n",
       "      <td>77.134046</td>\n",
       "    </tr>\n",
       "    <tr>\n",
       "      <th>2</th>\n",
       "      <td>80.58</td>\n",
       "      <td>55.494121</td>\n",
       "      <td>80.596599</td>\n",
       "    </tr>\n",
       "    <tr>\n",
       "      <th>3</th>\n",
       "      <td>82.21</td>\n",
       "      <td>59.154101</td>\n",
       "      <td>84.848588</td>\n",
       "    </tr>\n",
       "    <tr>\n",
       "      <th>4</th>\n",
       "      <td>83.08</td>\n",
       "      <td>58.619479</td>\n",
       "      <td>84.289321</td>\n",
       "    </tr>\n",
       "    <tr>\n",
       "      <th>5</th>\n",
       "      <td>72.08</td>\n",
       "      <td>47.415617</td>\n",
       "      <td>70.831733</td>\n",
       "    </tr>\n",
       "    <tr>\n",
       "      <th>6</th>\n",
       "      <td>77.19</td>\n",
       "      <td>53.366087</td>\n",
       "      <td>78.060940</td>\n",
       "    </tr>\n",
       "    <tr>\n",
       "      <th>7</th>\n",
       "      <td>84.35</td>\n",
       "      <td>59.082789</td>\n",
       "      <td>84.701610</td>\n",
       "    </tr>\n",
       "    <tr>\n",
       "      <th>8</th>\n",
       "      <td>70.96</td>\n",
       "      <td>48.881308</td>\n",
       "      <td>72.509359</td>\n",
       "    </tr>\n",
       "    <tr>\n",
       "      <th>9</th>\n",
       "      <td>72.46</td>\n",
       "      <td>49.798952</td>\n",
       "      <td>73.591152</td>\n",
       "    </tr>\n",
       "    <tr>\n",
       "      <th>10</th>\n",
       "      <td>76.63</td>\n",
       "      <td>52.226139</td>\n",
       "      <td>76.609921</td>\n",
       "    </tr>\n",
       "    <tr>\n",
       "      <th>11</th>\n",
       "      <td>72.38</td>\n",
       "      <td>48.927993</td>\n",
       "      <td>72.730095</td>\n",
       "    </tr>\n",
       "    <tr>\n",
       "      <th>12</th>\n",
       "      <td>83.48</td>\n",
       "      <td>57.686186</td>\n",
       "      <td>83.024071</td>\n",
       "    </tr>\n",
       "    <tr>\n",
       "      <th>13</th>\n",
       "      <td>71.87</td>\n",
       "      <td>48.695094</td>\n",
       "      <td>72.285688</td>\n",
       "    </tr>\n",
       "    <tr>\n",
       "      <th>14</th>\n",
       "      <td>74.97</td>\n",
       "      <td>51.674515</td>\n",
       "      <td>75.864437</td>\n",
       "    </tr>\n",
       "    <tr>\n",
       "      <th>15</th>\n",
       "      <td>76.04</td>\n",
       "      <td>51.527707</td>\n",
       "      <td>75.606334</td>\n",
       "    </tr>\n",
       "    <tr>\n",
       "      <th>16</th>\n",
       "      <td>79.17</td>\n",
       "      <td>55.911009</td>\n",
       "      <td>81.117788</td>\n",
       "    </tr>\n",
       "    <tr>\n",
       "      <th>17</th>\n",
       "      <td>82.93</td>\n",
       "      <td>56.475797</td>\n",
       "      <td>81.570204</td>\n",
       "    </tr>\n",
       "    <tr>\n",
       "      <th>18</th>\n",
       "      <td>71.80</td>\n",
       "      <td>48.222543</td>\n",
       "      <td>71.800977</td>\n",
       "    </tr>\n",
       "    <tr>\n",
       "      <th>19</th>\n",
       "      <td>73.61</td>\n",
       "      <td>49.448319</td>\n",
       "      <td>73.108666</td>\n",
       "    </tr>\n",
       "    <tr>\n",
       "      <th>20</th>\n",
       "      <td>71.50</td>\n",
       "      <td>47.757009</td>\n",
       "      <td>71.241798</td>\n",
       "    </tr>\n",
       "    <tr>\n",
       "      <th>21</th>\n",
       "      <td>71.22</td>\n",
       "      <td>47.696899</td>\n",
       "      <td>70.984495</td>\n",
       "    </tr>\n",
       "    <tr>\n",
       "      <th>22</th>\n",
       "      <td>70.20</td>\n",
       "      <td>47.696899</td>\n",
       "      <td>70.984495</td>\n",
       "    </tr>\n",
       "    <tr>\n",
       "      <th>23</th>\n",
       "      <td>77.77</td>\n",
       "      <td>54.287916</td>\n",
       "      <td>79.106878</td>\n",
       "    </tr>\n",
       "    <tr>\n",
       "      <th>24</th>\n",
       "      <td>71.10</td>\n",
       "      <td>48.404572</td>\n",
       "      <td>72.060504</td>\n",
       "    </tr>\n",
       "    <tr>\n",
       "      <th>25</th>\n",
       "      <td>83.82</td>\n",
       "      <td>56.904149</td>\n",
       "      <td>82.310705</td>\n",
       "    </tr>\n",
       "    <tr>\n",
       "      <th>26</th>\n",
       "      <td>75.36</td>\n",
       "      <td>50.164363</td>\n",
       "      <td>74.112965</td>\n",
       "    </tr>\n",
       "    <tr>\n",
       "      <th>27</th>\n",
       "      <td>77.59</td>\n",
       "      <td>54.565013</td>\n",
       "      <td>79.295495</td>\n",
       "    </tr>\n",
       "    <tr>\n",
       "      <th>28</th>\n",
       "      <td>71.18</td>\n",
       "      <td>47.985460</td>\n",
       "      <td>71.392424</td>\n",
       "    </tr>\n",
       "    <tr>\n",
       "      <th>29</th>\n",
       "      <td>85.46</td>\n",
       "      <td>59.823459</td>\n",
       "      <td>85.632152</td>\n",
       "    </tr>\n",
       "    <tr>\n",
       "      <th>30</th>\n",
       "      <td>86.12</td>\n",
       "      <td>59.583544</td>\n",
       "      <td>85.262213</td>\n",
       "    </tr>\n",
       "    <tr>\n",
       "      <th>31</th>\n",
       "      <td>82.27</td>\n",
       "      <td>56.966220</td>\n",
       "      <td>82.385262</td>\n",
       "    </tr>\n",
       "    <tr>\n",
       "      <th>32</th>\n",
       "      <td>85.48</td>\n",
       "      <td>58.659755</td>\n",
       "      <td>84.399020</td>\n",
       "    </tr>\n",
       "    <tr>\n",
       "      <th>33</th>\n",
       "      <td>86.75</td>\n",
       "      <td>59.257802</td>\n",
       "      <td>85.035605</td>\n",
       "    </tr>\n",
       "    <tr>\n",
       "      <th>34</th>\n",
       "      <td>82.79</td>\n",
       "      <td>57.437901</td>\n",
       "      <td>82.725842</td>\n",
       "    </tr>\n",
       "    <tr>\n",
       "      <th>35</th>\n",
       "      <td>82.10</td>\n",
       "      <td>57.371645</td>\n",
       "      <td>82.687139</td>\n",
       "    </tr>\n",
       "    <tr>\n",
       "      <th>36</th>\n",
       "      <td>84.60</td>\n",
       "      <td>59.024903</td>\n",
       "      <td>84.591198</td>\n",
       "    </tr>\n",
       "    <tr>\n",
       "      <th>37</th>\n",
       "      <td>70.40</td>\n",
       "      <td>47.712548</td>\n",
       "      <td>71.167953</td>\n",
       "    </tr>\n",
       "    <tr>\n",
       "      <th>38</th>\n",
       "      <td>85.98</td>\n",
       "      <td>58.998923</td>\n",
       "      <td>84.662195</td>\n",
       "    </tr>\n",
       "    <tr>\n",
       "      <th>39</th>\n",
       "      <td>76.38</td>\n",
       "      <td>53.265702</td>\n",
       "      <td>77.693938</td>\n",
       "    </tr>\n",
       "    <tr>\n",
       "      <th>40</th>\n",
       "      <td>86.41</td>\n",
       "      <td>59.195730</td>\n",
       "      <td>84.961048</td>\n",
       "    </tr>\n",
       "  </tbody>\n",
       "</table>\n",
       "</div>"
      ],
      "text/plain": [
       "        0          1          2\n",
       "0   82.03  56.417910  81.459792\n",
       "1   77.82  52.782557  77.134046\n",
       "2   80.58  55.494121  80.596599\n",
       "3   82.21  59.154101  84.848588\n",
       "4   83.08  58.619479  84.289321\n",
       "5   72.08  47.415617  70.831733\n",
       "6   77.19  53.366087  78.060940\n",
       "7   84.35  59.082789  84.701610\n",
       "8   70.96  48.881308  72.509359\n",
       "9   72.46  49.798952  73.591152\n",
       "10  76.63  52.226139  76.609921\n",
       "11  72.38  48.927993  72.730095\n",
       "12  83.48  57.686186  83.024071\n",
       "13  71.87  48.695094  72.285688\n",
       "14  74.97  51.674515  75.864437\n",
       "15  76.04  51.527707  75.606334\n",
       "16  79.17  55.911009  81.117788\n",
       "17  82.93  56.475797  81.570204\n",
       "18  71.80  48.222543  71.800977\n",
       "19  73.61  49.448319  73.108666\n",
       "20  71.50  47.757009  71.241798\n",
       "21  71.22  47.696899  70.984495\n",
       "22  70.20  47.696899  70.984495\n",
       "23  77.77  54.287916  79.106878\n",
       "24  71.10  48.404572  72.060504\n",
       "25  83.82  56.904149  82.310705\n",
       "26  75.36  50.164363  74.112965\n",
       "27  77.59  54.565013  79.295495\n",
       "28  71.18  47.985460  71.392424\n",
       "29  85.46  59.823459  85.632152\n",
       "30  86.12  59.583544  85.262213\n",
       "31  82.27  56.966220  82.385262\n",
       "32  85.48  58.659755  84.399020\n",
       "33  86.75  59.257802  85.035605\n",
       "34  82.79  57.437901  82.725842\n",
       "35  82.10  57.371645  82.687139\n",
       "36  84.60  59.024903  84.591198\n",
       "37  70.40  47.712548  71.167953\n",
       "38  85.98  58.998923  84.662195\n",
       "39  76.38  53.265702  77.693938\n",
       "40  86.41  59.195730  84.961048"
      ]
     },
     "execution_count": 32,
     "metadata": {},
     "output_type": "execute_result"
    }
   ],
   "source": [
    "PredMark = pd.DataFrame([np.array(y_test),ypreds1,ypreds2]).T\n",
    "PredMark"
   ]
  },
  {
   "cell_type": "code",
   "execution_count": 33,
   "id": "b7d4f27c",
   "metadata": {},
   "outputs": [
    {
     "data": {
      "text/plain": [
       "<AxesSubplot:>"
      ]
     },
     "execution_count": 33,
     "metadata": {},
     "output_type": "execute_result"
    },
    {
     "data": {
      "image/png": "[encoded data removed]",
      "text/plain": [
       "<Figure size 640x480 with 1 Axes>"
      ]
     },
     "metadata": {},
     "output_type": "display_data"
    }
   ],
   "source": [
    "PredMark.plot()"
   ]
  },
  {
   "cell_type": "markdown",
   "id": "3a0f7300",
   "metadata": {},
   "source": [
    "## From Above we notice that, model2 predictiong accurate result.\n",
    "This mean Feature scaling important step before training model."
   ]
  },
  {
   "cell_type": "markdown",
   "id": "306649e6",
   "metadata": {},
   "source": [
    "# Making predction on own data"
   ]
  },
  {
   "cell_type": "code",
   "execution_count": 34,
   "id": "d99277e0",
   "metadata": {},
   "outputs": [
    {
     "name": "stdout",
     "output_type": "stream",
     "text": [
      "The student who is 15 year old, studing 4 hours with Internet will get [93.87761838].\n"
     ]
    }
   ],
   "source": [
    "# let considet\n",
    "hours = 4\n",
    "age = 15\n",
    "internet = 1\n",
    "mark = model2.predict([[hours,age,internet]])\n",
    "print(f\"The student who is {age} year old, studing {hours} hours with Internet will get {mark}.\")\n"
   ]
  },
  {
   "cell_type": "markdown",
   "id": "426922aa",
   "metadata": {},
   "source": [
    "### Thanks for reading."
   ]
  }
 ],
 "metadata": {
  "kernelspec": {
   "display_name": "Python 3 (ipykernel)",
   "language": "python",
   "name": "python3"
  },
  "language_info": {
   "codemirror_mode": {
    "name": "ipython",
    "version": 3
   },
   "file_extension": ".py",
   "mimetype": "text/x-python",
   "name": "python",
   "nbconvert_exporter": "python",
   "pygments_lexer": "ipython3",
   "version": "3.10.8"
  }
 },
 "nbformat": 4,
 "nbformat_minor": 5
}
