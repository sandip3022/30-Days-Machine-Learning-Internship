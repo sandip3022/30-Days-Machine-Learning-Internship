{
 "cells": [
  {
   "cell_type": "markdown",
   "id": "80cc1b08",
   "metadata": {},
   "source": [
    "## Problem Statement\n",
    "We have to predict Height of person help of Weight.\n",
    "\n",
    "## Gathering Data\n",
    "I have taken Dataset from http://socr.ucla.edu/docs/resources/SOCR_Data/SOCR_Data_Dinov_020108_HeightsWeights.html\n",
    "This is a simple dataset to start with. It contains only the height (inches) and weights (pounds) of 25,000 different humans of 18 years of age. This dataset can be used to build a model that can predict the heights or weights of a human."
   ]
  },
  {
   "cell_type": "markdown",
   "id": "200cae29",
   "metadata": {},
   "source": [
    "## Importing Libraries"
   ]
  },
  {
   "cell_type": "code",
   "execution_count": 1,
   "id": "433a90b4",
   "metadata": {},
   "outputs": [],
   "source": [
    "import pandas as pd\n",
    "import numpy as np\n",
    "import matplotlib.pyplot as plt\n",
    "import seaborn as sns\n",
    "\n",
    "from sklearn.model_selection import train_test_split\n",
    "from sklearn.preprocessing import StandardScaler\n",
    "\n",
    "from sklearn.tree import DecisionTreeRegressor\n",
    "\n",
    "import math\n",
    "from sklearn.metrics import r2_score\n",
    "from sklearn.metrics import mean_absolute_error\n",
    "from sklearn.metrics import mean_squared_error\n",
    "\n",
    "from sklearn.model_selection import GridSearchCV"
   ]
  },
  {
   "cell_type": "markdown",
   "id": "1eb0601a",
   "metadata": {},
   "source": [
    "## Import Data"
   ]
  },
  {
   "cell_type": "code",
   "execution_count": 2,
   "id": "7a39a38b",
   "metadata": {},
   "outputs": [
    {
     "data": {
      "text/html": [
       "<div>\n",
       "<style scoped>\n",
       "    .dataframe tbody tr th:only-of-type {\n",
       "        vertical-align: middle;\n",
       "    }\n",
       "\n",
       "    .dataframe tbody tr th {\n",
       "        vertical-align: top;\n",
       "    }\n",
       "\n",
       "    .dataframe thead th {\n",
       "        text-align: right;\n",
       "    }\n",
       "</style>\n",
       "<table border=\"1\" class=\"dataframe\">\n",
       "  <thead>\n",
       "    <tr style=\"text-align: right;\">\n",
       "      <th></th>\n",
       "      <th>Index</th>\n",
       "      <th>Height(Inches)</th>\n",
       "      <th>Weight(Pounds)</th>\n",
       "    </tr>\n",
       "  </thead>\n",
       "  <tbody>\n",
       "    <tr>\n",
       "      <th>0</th>\n",
       "      <td>1</td>\n",
       "      <td>65.78331</td>\n",
       "      <td>112.9925</td>\n",
       "    </tr>\n",
       "    <tr>\n",
       "      <th>1</th>\n",
       "      <td>2</td>\n",
       "      <td>71.51521</td>\n",
       "      <td>136.4873</td>\n",
       "    </tr>\n",
       "    <tr>\n",
       "      <th>2</th>\n",
       "      <td>3</td>\n",
       "      <td>69.39874</td>\n",
       "      <td>153.0269</td>\n",
       "    </tr>\n",
       "    <tr>\n",
       "      <th>3</th>\n",
       "      <td>4</td>\n",
       "      <td>68.21660</td>\n",
       "      <td>142.3354</td>\n",
       "    </tr>\n",
       "    <tr>\n",
       "      <th>4</th>\n",
       "      <td>5</td>\n",
       "      <td>67.78781</td>\n",
       "      <td>144.2971</td>\n",
       "    </tr>\n",
       "    <tr>\n",
       "      <th>...</th>\n",
       "      <td>...</td>\n",
       "      <td>...</td>\n",
       "      <td>...</td>\n",
       "    </tr>\n",
       "    <tr>\n",
       "      <th>24995</th>\n",
       "      <td>24996</td>\n",
       "      <td>69.50215</td>\n",
       "      <td>118.0312</td>\n",
       "    </tr>\n",
       "    <tr>\n",
       "      <th>24996</th>\n",
       "      <td>24997</td>\n",
       "      <td>64.54826</td>\n",
       "      <td>120.1932</td>\n",
       "    </tr>\n",
       "    <tr>\n",
       "      <th>24997</th>\n",
       "      <td>24998</td>\n",
       "      <td>64.69855</td>\n",
       "      <td>118.2655</td>\n",
       "    </tr>\n",
       "    <tr>\n",
       "      <th>24998</th>\n",
       "      <td>24999</td>\n",
       "      <td>67.52918</td>\n",
       "      <td>132.2682</td>\n",
       "    </tr>\n",
       "    <tr>\n",
       "      <th>24999</th>\n",
       "      <td>25000</td>\n",
       "      <td>68.87761</td>\n",
       "      <td>124.8742</td>\n",
       "    </tr>\n",
       "  </tbody>\n",
       "</table>\n",
       "<p>25000 rows × 3 columns</p>\n",
       "</div>"
      ],
      "text/plain": [
       "       Index  Height(Inches)  Weight(Pounds)\n",
       "0          1        65.78331        112.9925\n",
       "1          2        71.51521        136.4873\n",
       "2          3        69.39874        153.0269\n",
       "3          4        68.21660        142.3354\n",
       "4          5        67.78781        144.2971\n",
       "...      ...             ...             ...\n",
       "24995  24996        69.50215        118.0312\n",
       "24996  24997        64.54826        120.1932\n",
       "24997  24998        64.69855        118.2655\n",
       "24998  24999        67.52918        132.2682\n",
       "24999  25000        68.87761        124.8742\n",
       "\n",
       "[25000 rows x 3 columns]"
      ]
     },
     "execution_count": 2,
     "metadata": {},
     "output_type": "execute_result"
    }
   ],
   "source": [
    "data = pd.read_csv(\"HeightWeight.csv\")\n",
    "data"
   ]
  },
  {
   "cell_type": "markdown",
   "id": "5690cc69",
   "metadata": {},
   "source": [
    "## Data Analysis"
   ]
  },
  {
   "cell_type": "code",
   "execution_count": 3,
   "id": "16230acd",
   "metadata": {},
   "outputs": [
    {
     "data": {
      "text/html": [
       "<div>\n",
       "<style scoped>\n",
       "    .dataframe tbody tr th:only-of-type {\n",
       "        vertical-align: middle;\n",
       "    }\n",
       "\n",
       "    .dataframe tbody tr th {\n",
       "        vertical-align: top;\n",
       "    }\n",
       "\n",
       "    .dataframe thead th {\n",
       "        text-align: right;\n",
       "    }\n",
       "</style>\n",
       "<table border=\"1\" class=\"dataframe\">\n",
       "  <thead>\n",
       "    <tr style=\"text-align: right;\">\n",
       "      <th></th>\n",
       "      <th>Index</th>\n",
       "      <th>Height(Inches)</th>\n",
       "      <th>Weight(Pounds)</th>\n",
       "    </tr>\n",
       "  </thead>\n",
       "  <tbody>\n",
       "    <tr>\n",
       "      <th>0</th>\n",
       "      <td>1</td>\n",
       "      <td>65.78331</td>\n",
       "      <td>112.9925</td>\n",
       "    </tr>\n",
       "    <tr>\n",
       "      <th>1</th>\n",
       "      <td>2</td>\n",
       "      <td>71.51521</td>\n",
       "      <td>136.4873</td>\n",
       "    </tr>\n",
       "    <tr>\n",
       "      <th>2</th>\n",
       "      <td>3</td>\n",
       "      <td>69.39874</td>\n",
       "      <td>153.0269</td>\n",
       "    </tr>\n",
       "    <tr>\n",
       "      <th>3</th>\n",
       "      <td>4</td>\n",
       "      <td>68.21660</td>\n",
       "      <td>142.3354</td>\n",
       "    </tr>\n",
       "    <tr>\n",
       "      <th>4</th>\n",
       "      <td>5</td>\n",
       "      <td>67.78781</td>\n",
       "      <td>144.2971</td>\n",
       "    </tr>\n",
       "  </tbody>\n",
       "</table>\n",
       "</div>"
      ],
      "text/plain": [
       "   Index  Height(Inches)  Weight(Pounds)\n",
       "0      1        65.78331        112.9925\n",
       "1      2        71.51521        136.4873\n",
       "2      3        69.39874        153.0269\n",
       "3      4        68.21660        142.3354\n",
       "4      5        67.78781        144.2971"
      ]
     },
     "execution_count": 3,
     "metadata": {},
     "output_type": "execute_result"
    }
   ],
   "source": [
    "data.head()"
   ]
  },
  {
   "cell_type": "code",
   "execution_count": 4,
   "id": "c8513100",
   "metadata": {},
   "outputs": [
    {
     "data": {
      "text/plain": [
       "(25000, 3)"
      ]
     },
     "execution_count": 4,
     "metadata": {},
     "output_type": "execute_result"
    }
   ],
   "source": [
    "data.shape"
   ]
  },
  {
   "cell_type": "markdown",
   "id": "0a61859d",
   "metadata": {},
   "source": [
    "####  In our data, `Index` columns is unnecessary, so let's drop it."
   ]
  },
  {
   "cell_type": "code",
   "execution_count": 5,
   "id": "d6142902",
   "metadata": {},
   "outputs": [
    {
     "data": {
      "text/html": [
       "<div>\n",
       "<style scoped>\n",
       "    .dataframe tbody tr th:only-of-type {\n",
       "        vertical-align: middle;\n",
       "    }\n",
       "\n",
       "    .dataframe tbody tr th {\n",
       "        vertical-align: top;\n",
       "    }\n",
       "\n",
       "    .dataframe thead th {\n",
       "        text-align: right;\n",
       "    }\n",
       "</style>\n",
       "<table border=\"1\" class=\"dataframe\">\n",
       "  <thead>\n",
       "    <tr style=\"text-align: right;\">\n",
       "      <th></th>\n",
       "      <th>Height(Inches)</th>\n",
       "      <th>Weight(Pounds)</th>\n",
       "    </tr>\n",
       "  </thead>\n",
       "  <tbody>\n",
       "    <tr>\n",
       "      <th>0</th>\n",
       "      <td>65.78331</td>\n",
       "      <td>112.9925</td>\n",
       "    </tr>\n",
       "    <tr>\n",
       "      <th>1</th>\n",
       "      <td>71.51521</td>\n",
       "      <td>136.4873</td>\n",
       "    </tr>\n",
       "    <tr>\n",
       "      <th>2</th>\n",
       "      <td>69.39874</td>\n",
       "      <td>153.0269</td>\n",
       "    </tr>\n",
       "    <tr>\n",
       "      <th>3</th>\n",
       "      <td>68.21660</td>\n",
       "      <td>142.3354</td>\n",
       "    </tr>\n",
       "    <tr>\n",
       "      <th>4</th>\n",
       "      <td>67.78781</td>\n",
       "      <td>144.2971</td>\n",
       "    </tr>\n",
       "    <tr>\n",
       "      <th>...</th>\n",
       "      <td>...</td>\n",
       "      <td>...</td>\n",
       "    </tr>\n",
       "    <tr>\n",
       "      <th>24995</th>\n",
       "      <td>69.50215</td>\n",
       "      <td>118.0312</td>\n",
       "    </tr>\n",
       "    <tr>\n",
       "      <th>24996</th>\n",
       "      <td>64.54826</td>\n",
       "      <td>120.1932</td>\n",
       "    </tr>\n",
       "    <tr>\n",
       "      <th>24997</th>\n",
       "      <td>64.69855</td>\n",
       "      <td>118.2655</td>\n",
       "    </tr>\n",
       "    <tr>\n",
       "      <th>24998</th>\n",
       "      <td>67.52918</td>\n",
       "      <td>132.2682</td>\n",
       "    </tr>\n",
       "    <tr>\n",
       "      <th>24999</th>\n",
       "      <td>68.87761</td>\n",
       "      <td>124.8742</td>\n",
       "    </tr>\n",
       "  </tbody>\n",
       "</table>\n",
       "<p>25000 rows × 2 columns</p>\n",
       "</div>"
      ],
      "text/plain": [
       "       Height(Inches)  Weight(Pounds)\n",
       "0            65.78331        112.9925\n",
       "1            71.51521        136.4873\n",
       "2            69.39874        153.0269\n",
       "3            68.21660        142.3354\n",
       "4            67.78781        144.2971\n",
       "...               ...             ...\n",
       "24995        69.50215        118.0312\n",
       "24996        64.54826        120.1932\n",
       "24997        64.69855        118.2655\n",
       "24998        67.52918        132.2682\n",
       "24999        68.87761        124.8742\n",
       "\n",
       "[25000 rows x 2 columns]"
      ]
     },
     "execution_count": 5,
     "metadata": {},
     "output_type": "execute_result"
    }
   ],
   "source": [
    "data = data.drop(\"Index\",axis=1)\n",
    "data"
   ]
  },
  {
   "cell_type": "code",
   "execution_count": 6,
   "id": "80df94f3",
   "metadata": {},
   "outputs": [
    {
     "data": {
      "text/html": [
       "<div>\n",
       "<style scoped>\n",
       "    .dataframe tbody tr th:only-of-type {\n",
       "        vertical-align: middle;\n",
       "    }\n",
       "\n",
       "    .dataframe tbody tr th {\n",
       "        vertical-align: top;\n",
       "    }\n",
       "\n",
       "    .dataframe thead th {\n",
       "        text-align: right;\n",
       "    }\n",
       "</style>\n",
       "<table border=\"1\" class=\"dataframe\">\n",
       "  <thead>\n",
       "    <tr style=\"text-align: right;\">\n",
       "      <th></th>\n",
       "      <th>Height(Inches)</th>\n",
       "      <th>Weight(Pounds)</th>\n",
       "    </tr>\n",
       "  </thead>\n",
       "  <tbody>\n",
       "    <tr>\n",
       "      <th>count</th>\n",
       "      <td>25000.000000</td>\n",
       "      <td>25000.000000</td>\n",
       "    </tr>\n",
       "    <tr>\n",
       "      <th>mean</th>\n",
       "      <td>67.993114</td>\n",
       "      <td>127.079421</td>\n",
       "    </tr>\n",
       "    <tr>\n",
       "      <th>std</th>\n",
       "      <td>1.901679</td>\n",
       "      <td>11.660898</td>\n",
       "    </tr>\n",
       "    <tr>\n",
       "      <th>min</th>\n",
       "      <td>60.278360</td>\n",
       "      <td>78.014760</td>\n",
       "    </tr>\n",
       "    <tr>\n",
       "      <th>25%</th>\n",
       "      <td>66.704397</td>\n",
       "      <td>119.308675</td>\n",
       "    </tr>\n",
       "    <tr>\n",
       "      <th>50%</th>\n",
       "      <td>67.995700</td>\n",
       "      <td>127.157750</td>\n",
       "    </tr>\n",
       "    <tr>\n",
       "      <th>75%</th>\n",
       "      <td>69.272958</td>\n",
       "      <td>134.892850</td>\n",
       "    </tr>\n",
       "    <tr>\n",
       "      <th>max</th>\n",
       "      <td>75.152800</td>\n",
       "      <td>170.924000</td>\n",
       "    </tr>\n",
       "  </tbody>\n",
       "</table>\n",
       "</div>"
      ],
      "text/plain": [
       "       Height(Inches)  Weight(Pounds)\n",
       "count    25000.000000    25000.000000\n",
       "mean        67.993114      127.079421\n",
       "std          1.901679       11.660898\n",
       "min         60.278360       78.014760\n",
       "25%         66.704397      119.308675\n",
       "50%         67.995700      127.157750\n",
       "75%         69.272958      134.892850\n",
       "max         75.152800      170.924000"
      ]
     },
     "execution_count": 6,
     "metadata": {},
     "output_type": "execute_result"
    }
   ],
   "source": [
    "data.describe()"
   ]
  },
  {
   "cell_type": "markdown",
   "id": "58d39b13",
   "metadata": {},
   "source": [
    "####  I will convert Height from `inches` to  `centimeters` and and weight from `pounds` to `kg`. and store it in **convertedDF**\n",
    "* `Height(Inches)` => `Height`  in cm\n",
    "* `Weight(Pounds)` => `Weight`  in kg\n",
    "\n",
    "In our data Height given into `Inches` I will convert it `centimeters` and and weight from `pounds` to `kg` "
   ]
  },
  {
   "cell_type": "code",
   "execution_count": 7,
   "id": "8713c685",
   "metadata": {},
   "outputs": [
    {
     "data": {
      "text/html": [
       "<div>\n",
       "<style scoped>\n",
       "    .dataframe tbody tr th:only-of-type {\n",
       "        vertical-align: middle;\n",
       "    }\n",
       "\n",
       "    .dataframe tbody tr th {\n",
       "        vertical-align: top;\n",
       "    }\n",
       "\n",
       "    .dataframe thead th {\n",
       "        text-align: right;\n",
       "    }\n",
       "</style>\n",
       "<table border=\"1\" class=\"dataframe\">\n",
       "  <thead>\n",
       "    <tr style=\"text-align: right;\">\n",
       "      <th></th>\n",
       "      <th>Weight</th>\n",
       "      <th>Height</th>\n",
       "    </tr>\n",
       "  </thead>\n",
       "  <tbody>\n",
       "    <tr>\n",
       "      <th>0</th>\n",
       "      <td>51.253398</td>\n",
       "      <td>167.089607</td>\n",
       "    </tr>\n",
       "    <tr>\n",
       "      <th>1</th>\n",
       "      <td>61.910639</td>\n",
       "      <td>181.648633</td>\n",
       "    </tr>\n",
       "    <tr>\n",
       "      <th>2</th>\n",
       "      <td>69.413002</td>\n",
       "      <td>176.272800</td>\n",
       "    </tr>\n",
       "    <tr>\n",
       "      <th>3</th>\n",
       "      <td>64.563337</td>\n",
       "      <td>173.270164</td>\n",
       "    </tr>\n",
       "    <tr>\n",
       "      <th>4</th>\n",
       "      <td>65.453165</td>\n",
       "      <td>172.181037</td>\n",
       "    </tr>\n",
       "    <tr>\n",
       "      <th>...</th>\n",
       "      <td>...</td>\n",
       "      <td>...</td>\n",
       "    </tr>\n",
       "    <tr>\n",
       "      <th>24995</th>\n",
       "      <td>53.538952</td>\n",
       "      <td>176.535461</td>\n",
       "    </tr>\n",
       "    <tr>\n",
       "      <th>24996</th>\n",
       "      <td>54.519636</td>\n",
       "      <td>163.952580</td>\n",
       "    </tr>\n",
       "    <tr>\n",
       "      <th>24997</th>\n",
       "      <td>53.645231</td>\n",
       "      <td>164.334317</td>\n",
       "    </tr>\n",
       "    <tr>\n",
       "      <th>24998</th>\n",
       "      <td>59.996856</td>\n",
       "      <td>171.524117</td>\n",
       "    </tr>\n",
       "    <tr>\n",
       "      <th>24999</th>\n",
       "      <td>56.642937</td>\n",
       "      <td>174.949129</td>\n",
       "    </tr>\n",
       "  </tbody>\n",
       "</table>\n",
       "<p>25000 rows × 2 columns</p>\n",
       "</div>"
      ],
      "text/plain": [
       "          Weight      Height\n",
       "0      51.253398  167.089607\n",
       "1      61.910639  181.648633\n",
       "2      69.413002  176.272800\n",
       "3      64.563337  173.270164\n",
       "4      65.453165  172.181037\n",
       "...          ...         ...\n",
       "24995  53.538952  176.535461\n",
       "24996  54.519636  163.952580\n",
       "24997  53.645231  164.334317\n",
       "24998  59.996856  171.524117\n",
       "24999  56.642937  174.949129\n",
       "\n",
       "[25000 rows x 2 columns]"
      ]
     },
     "execution_count": 7,
     "metadata": {},
     "output_type": "execute_result"
    }
   ],
   "source": [
    "convertedDF = pd.DataFrame()\n",
    "convertedDF[\"Weight\"] = data[\"Weight(Pounds)\"]*0.4536\n",
    "convertedDF[\"Height\"] = data[\"Height(Inches)\"]*2.54\n",
    "convertedDF"
   ]
  },
  {
   "cell_type": "code",
   "execution_count": 8,
   "id": "27e59ccf",
   "metadata": {},
   "outputs": [
    {
     "name": "stdout",
     "output_type": "stream",
     "text": [
      "<class 'pandas.core.frame.DataFrame'>\n",
      "RangeIndex: 25000 entries, 0 to 24999\n",
      "Data columns (total 2 columns):\n",
      " #   Column  Non-Null Count  Dtype  \n",
      "---  ------  --------------  -----  \n",
      " 0   Weight  25000 non-null  float64\n",
      " 1   Height  25000 non-null  float64\n",
      "dtypes: float64(2)\n",
      "memory usage: 390.8 KB\n"
     ]
    }
   ],
   "source": [
    "convertedDF.info()"
   ]
  },
  {
   "cell_type": "markdown",
   "id": "df8a4ed0",
   "metadata": {},
   "source": [
    "#### In our there is no missing value, and all value in numeric, so there is no need to change datatypes, and filling missing value."
   ]
  },
  {
   "cell_type": "code",
   "execution_count": 9,
   "id": "1a363be8",
   "metadata": {},
   "outputs": [
    {
     "data": {
      "text/plain": [
       "<AxesSubplot:ylabel='Density'>"
      ]
     },
     "execution_count": 9,
     "metadata": {},
     "output_type": "execute_result"
    },
    {
     "data": {
      "image/png": "[encoded data removed]",
      "text/plain": [
       "<Figure size 640x480 with 1 Axes>"
      ]
     },
     "metadata": {},
     "output_type": "display_data"
    }
   ],
   "source": [
    "convertedDF.plot(kind=\"density\")"
   ]
  },
  {
   "cell_type": "code",
   "execution_count": 10,
   "id": "473629be",
   "metadata": {},
   "outputs": [
    {
     "data": {
      "text/plain": [
       "(array([  13.,  112.,  759., 2949., 6397., 7677., 4986., 1714.,  360.,\n",
       "          33.]),\n",
       " array([35.38749514, 39.60185826, 43.81622139, 48.03058452, 52.24494764,\n",
       "        56.45931077, 60.67367389, 64.88803702, 69.10240015, 73.31676327,\n",
       "        77.5311264 ]),\n",
       " <BarContainer object of 10 artists>)"
      ]
     },
     "execution_count": 10,
     "metadata": {},
     "output_type": "execute_result"
    },
    {
     "data": {
      "image/png": "[encoded data removed]",
      "text/plain": [
       "<Figure size 640x480 with 1 Axes>"
      ]
     },
     "metadata": {},
     "output_type": "display_data"
    }
   ],
   "source": [
    "plt.hist(convertedDF.Weight)"
   ]
  },
  {
   "cell_type": "code",
   "execution_count": 11,
   "id": "2c1c26fe",
   "metadata": {},
   "outputs": [
    {
     "data": {
      "text/plain": [
       "(array([   9.,  136., 1003., 3248., 6644., 7406., 4548., 1681.,  291.,\n",
       "          34.]),\n",
       " array([153.1070344 , 156.88514216, 160.66324992, 164.44135768,\n",
       "        168.21946544, 171.9975732 , 175.77568096, 179.55378872,\n",
       "        183.33189648, 187.11000424, 190.888112  ]),\n",
       " <BarContainer object of 10 artists>)"
      ]
     },
     "execution_count": 11,
     "metadata": {},
     "output_type": "execute_result"
    },
    {
     "data": {
      "image/png": "[encoded data removed]",
      "text/plain": [
       "<Figure size 640x480 with 1 Axes>"
      ]
     },
     "metadata": {},
     "output_type": "display_data"
    }
   ],
   "source": [
    "plt.hist(convertedDF.Height)"
   ]
  },
  {
   "cell_type": "code",
   "execution_count": 12,
   "id": "ecf826a9",
   "metadata": {},
   "outputs": [
    {
     "data": {
      "text/plain": [
       "<seaborn.axisgrid.PairGrid at 0x1b140e73d00>"
      ]
     },
     "execution_count": 12,
     "metadata": {},
     "output_type": "execute_result"
    },
    {
     "data": {
      "image/png": "[encoded data removed]",
      "text/plain": [
       "<Figure size 500x500 with 6 Axes>"
      ]
     },
     "metadata": {},
     "output_type": "display_data"
    }
   ],
   "source": [
    "sns.pairplot(convertedDF)"
   ]
  },
  {
   "cell_type": "code",
   "execution_count": 13,
   "id": "a7501207",
   "metadata": {},
   "outputs": [
    {
     "data": {
      "text/html": [
       "<div>\n",
       "<style scoped>\n",
       "    .dataframe tbody tr th:only-of-type {\n",
       "        vertical-align: middle;\n",
       "    }\n",
       "\n",
       "    .dataframe tbody tr th {\n",
       "        vertical-align: top;\n",
       "    }\n",
       "\n",
       "    .dataframe thead th {\n",
       "        text-align: right;\n",
       "    }\n",
       "</style>\n",
       "<table border=\"1\" class=\"dataframe\">\n",
       "  <thead>\n",
       "    <tr style=\"text-align: right;\">\n",
       "      <th></th>\n",
       "      <th>Weight</th>\n",
       "      <th>Height</th>\n",
       "    </tr>\n",
       "  </thead>\n",
       "  <tbody>\n",
       "    <tr>\n",
       "      <th>Weight</th>\n",
       "      <td>1.000000</td>\n",
       "      <td>0.502859</td>\n",
       "    </tr>\n",
       "    <tr>\n",
       "      <th>Height</th>\n",
       "      <td>0.502859</td>\n",
       "      <td>1.000000</td>\n",
       "    </tr>\n",
       "  </tbody>\n",
       "</table>\n",
       "</div>"
      ],
      "text/plain": [
       "          Weight    Height\n",
       "Weight  1.000000  0.502859\n",
       "Height  0.502859  1.000000"
      ]
     },
     "execution_count": 13,
     "metadata": {},
     "output_type": "execute_result"
    }
   ],
   "source": [
    "# Correlation matrix\n",
    "convertedDF.corr()"
   ]
  },
  {
   "cell_type": "markdown",
   "id": "aaf7777a",
   "metadata": {},
   "source": [
    "## Spliting our data into features and labels"
   ]
  },
  {
   "cell_type": "code",
   "execution_count": 15,
   "id": "e1bfe111",
   "metadata": {},
   "outputs": [
    {
     "data": {
      "text/plain": [
       "(0        51.253398\n",
       " 1        61.910639\n",
       " 2        69.413002\n",
       " 3        64.563337\n",
       " 4        65.453165\n",
       "            ...    \n",
       " 24995    53.538952\n",
       " 24996    54.519636\n",
       " 24997    53.645231\n",
       " 24998    59.996856\n",
       " 24999    56.642937\n",
       " Name: Weight, Length: 25000, dtype: float64,\n",
       " 0        167.089607\n",
       " 1        181.648633\n",
       " 2        176.272800\n",
       " 3        173.270164\n",
       " 4        172.181037\n",
       "             ...    \n",
       " 24995    176.535461\n",
       " 24996    163.952580\n",
       " 24997    164.334317\n",
       " 24998    171.524117\n",
       " 24999    174.949129\n",
       " Name: Height, Length: 25000, dtype: float64)"
      ]
     },
     "execution_count": 15,
     "metadata": {},
     "output_type": "execute_result"
    }
   ],
   "source": [
    "x = convertedDF[\"Weight\"]\n",
    "y = convertedDF[\"Height\"]\n",
    "x,y"
   ]
  },
  {
   "cell_type": "markdown",
   "id": "3f5a03de",
   "metadata": {},
   "source": [
    "## Split our data into Training and Test Dataset"
   ]
  },
  {
   "cell_type": "code",
   "execution_count": 16,
   "id": "9b84402d",
   "metadata": {},
   "outputs": [
    {
     "data": {
      "text/plain": [
       "((20000,), (5000,), (20000,), (20000,))"
      ]
     },
     "execution_count": 16,
     "metadata": {},
     "output_type": "execute_result"
    }
   ],
   "source": [
    "x_train,x_test,y_train,y_test = train_test_split(x,y,test_size=0.2)\n",
    "x_train.shape,x_test.shape,y_train.shape,y_train.shape"
   ]
  },
  {
   "cell_type": "markdown",
   "id": "7fa39d53",
   "metadata": {},
   "source": [
    "## Feature Scaling"
   ]
  },
  {
   "cell_type": "code",
   "execution_count": 17,
   "id": "b450ab7a",
   "metadata": {},
   "outputs": [],
   "source": [
    "sc = StandardScaler()\n",
    "\n",
    "# I'm converting 1D array to Dataframe, for feature scaling and futher training\n",
    "x_train = pd.DataFrame(x_train)\n",
    "x_test = pd.DataFrame(x_test)\n",
    "x_train = pd.DataFrame(sc.fit_transform(x_train))\n",
    "x_test = pd.DataFrame(sc.transform(x_test))"
   ]
  },
  {
   "cell_type": "code",
   "execution_count": 18,
   "id": "b521f23b",
   "metadata": {},
   "outputs": [
    {
     "data": {
      "text/html": [
       "<div>\n",
       "<style scoped>\n",
       "    .dataframe tbody tr th:only-of-type {\n",
       "        vertical-align: middle;\n",
       "    }\n",
       "\n",
       "    .dataframe tbody tr th {\n",
       "        vertical-align: top;\n",
       "    }\n",
       "\n",
       "    .dataframe thead th {\n",
       "        text-align: right;\n",
       "    }\n",
       "</style>\n",
       "<table border=\"1\" class=\"dataframe\">\n",
       "  <thead>\n",
       "    <tr style=\"text-align: right;\">\n",
       "      <th></th>\n",
       "      <th>0</th>\n",
       "    </tr>\n",
       "  </thead>\n",
       "  <tbody>\n",
       "    <tr>\n",
       "      <th>0</th>\n",
       "      <td>-0.152594</td>\n",
       "    </tr>\n",
       "    <tr>\n",
       "      <th>1</th>\n",
       "      <td>0.535439</td>\n",
       "    </tr>\n",
       "    <tr>\n",
       "      <th>2</th>\n",
       "      <td>0.236870</td>\n",
       "    </tr>\n",
       "    <tr>\n",
       "      <th>3</th>\n",
       "      <td>0.087264</td>\n",
       "    </tr>\n",
       "    <tr>\n",
       "      <th>4</th>\n",
       "      <td>-1.526560</td>\n",
       "    </tr>\n",
       "    <tr>\n",
       "      <th>...</th>\n",
       "      <td>...</td>\n",
       "    </tr>\n",
       "    <tr>\n",
       "      <th>19995</th>\n",
       "      <td>2.067190</td>\n",
       "    </tr>\n",
       "    <tr>\n",
       "      <th>19996</th>\n",
       "      <td>-1.691229</td>\n",
       "    </tr>\n",
       "    <tr>\n",
       "      <th>19997</th>\n",
       "      <td>-0.366861</td>\n",
       "    </tr>\n",
       "    <tr>\n",
       "      <th>19998</th>\n",
       "      <td>1.148155</td>\n",
       "    </tr>\n",
       "    <tr>\n",
       "      <th>19999</th>\n",
       "      <td>-0.672503</td>\n",
       "    </tr>\n",
       "  </tbody>\n",
       "</table>\n",
       "<p>20000 rows × 1 columns</p>\n",
       "</div>"
      ],
      "text/plain": [
       "              0\n",
       "0     -0.152594\n",
       "1      0.535439\n",
       "2      0.236870\n",
       "3      0.087264\n",
       "4     -1.526560\n",
       "...         ...\n",
       "19995  2.067190\n",
       "19996 -1.691229\n",
       "19997 -0.366861\n",
       "19998  1.148155\n",
       "19999 -0.672503\n",
       "\n",
       "[20000 rows x 1 columns]"
      ]
     },
     "execution_count": 18,
     "metadata": {},
     "output_type": "execute_result"
    }
   ],
   "source": [
    "x_train"
   ]
  },
  {
   "cell_type": "markdown",
   "id": "173aa840",
   "metadata": {},
   "source": [
    "## Training Model"
   ]
  },
  {
   "cell_type": "code",
   "execution_count": 19,
   "id": "28d053e7",
   "metadata": {},
   "outputs": [
    {
     "data": {
      "text/plain": [
       "DecisionTreeRegressor(random_state=42)"
      ]
     },
     "execution_count": 19,
     "metadata": {},
     "output_type": "execute_result"
    }
   ],
   "source": [
    "Basemodel = DecisionTreeRegressor(random_state=42)\n",
    "Basemodel.fit(x_train,y_train)"
   ]
  },
  {
   "cell_type": "code",
   "execution_count": 20,
   "id": "9ebca6d2",
   "metadata": {},
   "outputs": [
    {
     "data": {
      "text/plain": [
       "-0.49143741567125554"
      ]
     },
     "execution_count": 20,
     "metadata": {},
     "output_type": "execute_result"
    }
   ],
   "source": [
    "Basemodel.score(x_test,y_test)"
   ]
  },
  {
   "cell_type": "code",
   "execution_count": 21,
   "id": "98c26e27",
   "metadata": {},
   "outputs": [
    {
     "data": {
      "text/plain": [
       "array([176.7296186, 174.2978988, 172.669962 , ..., 177.4077732,\n",
       "       177.2155206, 174.395257 ])"
      ]
     },
     "execution_count": 21,
     "metadata": {},
     "output_type": "execute_result"
    }
   ],
   "source": [
    "y_preds = Basemodel.predict(x_test)\n",
    "y_preds"
   ]
  },
  {
   "cell_type": "markdown",
   "id": "40913474",
   "metadata": {},
   "source": [
    "## Evaluting Our model"
   ]
  },
  {
   "cell_type": "code",
   "execution_count": 22,
   "id": "b39b1366",
   "metadata": {},
   "outputs": [],
   "source": [
    "score = {}"
   ]
  },
  {
   "cell_type": "code",
   "execution_count": 23,
   "id": "ab15090c",
   "metadata": {},
   "outputs": [],
   "source": [
    "# Create function to evaluate model\n",
    "\n",
    "def evaluate_model(model,y_test,y_preds):\n",
    "    r2 = r2_score(y_test,y_preds)\n",
    "    mae = mean_absolute_error(y_test,y_preds)\n",
    "    mse = mean_squared_error(y_test,y_preds)\n",
    "    rmse = math.sqrt(mean_squared_error(y_test,y_preds))\n",
    "    \n",
    "    \n",
    "    print(f\"The r2 score of model is {r2:.4f}.\")\n",
    "    print(f\"The mean absolute error of model is {mae:.4f}.\")\n",
    "    print(f\"The mean sqaured error of model is {mse:.4f}.\")\n",
    "    print(f\"The root mean sqaured error of model is {rmse:.4f}.\")\n",
    "    \n",
    "    score[model] = [r2,mae,mse,rmse]\n",
    "    "
   ]
  },
  {
   "cell_type": "code",
   "execution_count": 24,
   "id": "db2a79ae",
   "metadata": {},
   "outputs": [
    {
     "name": "stdout",
     "output_type": "stream",
     "text": [
      "The r2 score of model is -0.4914.\n",
      "The mean absolute error of model is 4.7590.\n",
      "The mean sqaured error of model is 35.4800.\n",
      "The root mean sqaured error of model is 5.9565.\n"
     ]
    }
   ],
   "source": [
    "evaluate_model(\"Basemodel\",y_test,y_preds)"
   ]
  },
  {
   "cell_type": "markdown",
   "id": "f81dd851",
   "metadata": {},
   "source": [
    "## Hyperparameter Tunning\n"
   ]
  },
  {
   "cell_type": "code",
   "execution_count": 25,
   "id": "62359a73",
   "metadata": {},
   "outputs": [],
   "source": [
    "gs_grid = {\n",
    "    \"splitter\": [\"best\",\"random\"],\n",
    "    \"max_depth\": [None,5,10,20,50,100],\n",
    "    \"min_samples_split\": [2,5,10],\n",
    "    \"max_features\":[\"auto\",\"sqrt\",\"log2\"],\n",
    "    \"max_leaf_nodes\":[None,10,20,50,100]\n",
    "}"
   ]
  },
  {
   "cell_type": "code",
   "execution_count": 26,
   "id": "62c8a6aa",
   "metadata": {},
   "outputs": [
    {
     "data": {
      "text/plain": [
       "GridSearchCV(cv=5, estimator=DecisionTreeRegressor(),\n",
       "             param_grid={'max_depth': [None, 5, 10, 20, 50, 100],\n",
       "                         'max_features': ['auto', 'sqrt', 'log2'],\n",
       "                         'max_leaf_nodes': [None, 10, 20, 50, 100],\n",
       "                         'min_samples_split': [2, 5, 10],\n",
       "                         'splitter': ['best', 'random']})"
      ]
     },
     "execution_count": 26,
     "metadata": {},
     "output_type": "execute_result"
    }
   ],
   "source": [
    "gs_model = GridSearchCV(estimator=DecisionTreeRegressor(),\n",
    "                        param_grid=gs_grid,\n",
    "                        cv=5)\n",
    "gs_model.fit(x_train,y_train)"
   ]
  },
  {
   "cell_type": "code",
   "execution_count": 27,
   "id": "eed9819a",
   "metadata": {},
   "outputs": [
    {
     "data": {
      "text/plain": [
       "{'max_depth': 20,\n",
       " 'max_features': 'log2',\n",
       " 'max_leaf_nodes': 50,\n",
       " 'min_samples_split': 10,\n",
       " 'splitter': 'random'}"
      ]
     },
     "execution_count": 27,
     "metadata": {},
     "output_type": "execute_result"
    }
   ],
   "source": [
    "gs_model.best_params_"
   ]
  },
  {
   "cell_type": "code",
   "execution_count": 28,
   "id": "be10e6d2",
   "metadata": {},
   "outputs": [],
   "source": [
    "ypredGS = gs_model.predict(x_test)"
   ]
  },
  {
   "cell_type": "code",
   "execution_count": 29,
   "id": "8160c160",
   "metadata": {},
   "outputs": [
    {
     "name": "stdout",
     "output_type": "stream",
     "text": [
      "The r2 score of model is 0.2421.\n",
      "The mean absolute error of model is 3.3875.\n",
      "The mean sqaured error of model is 18.0295.\n",
      "The root mean sqaured error of model is 4.2461.\n"
     ]
    }
   ],
   "source": [
    "evaluate_model(\"gs_model\",y_test,ypredGS)"
   ]
  },
  {
   "cell_type": "code",
   "execution_count": 30,
   "id": "287d5b8e",
   "metadata": {},
   "outputs": [
    {
     "data": {
      "text/html": [
       "<div>\n",
       "<style scoped>\n",
       "    .dataframe tbody tr th:only-of-type {\n",
       "        vertical-align: middle;\n",
       "    }\n",
       "\n",
       "    .dataframe tbody tr th {\n",
       "        vertical-align: top;\n",
       "    }\n",
       "\n",
       "    .dataframe thead th {\n",
       "        text-align: right;\n",
       "    }\n",
       "</style>\n",
       "<table border=\"1\" class=\"dataframe\">\n",
       "  <thead>\n",
       "    <tr style=\"text-align: right;\">\n",
       "      <th></th>\n",
       "      <th>Basemodel</th>\n",
       "      <th>gs_model</th>\n",
       "    </tr>\n",
       "  </thead>\n",
       "  <tbody>\n",
       "    <tr>\n",
       "      <th>r2</th>\n",
       "      <td>-0.491437</td>\n",
       "      <td>0.242112</td>\n",
       "    </tr>\n",
       "    <tr>\n",
       "      <th>mae</th>\n",
       "      <td>4.758964</td>\n",
       "      <td>3.387479</td>\n",
       "    </tr>\n",
       "    <tr>\n",
       "      <th>mse</th>\n",
       "      <td>35.479960</td>\n",
       "      <td>18.029474</td>\n",
       "    </tr>\n",
       "    <tr>\n",
       "      <th>rmse</th>\n",
       "      <td>5.956506</td>\n",
       "      <td>4.246113</td>\n",
       "    </tr>\n",
       "  </tbody>\n",
       "</table>\n",
       "</div>"
      ],
      "text/plain": [
       "      Basemodel   gs_model\n",
       "r2    -0.491437   0.242112\n",
       "mae    4.758964   3.387479\n",
       "mse   35.479960  18.029474\n",
       "rmse   5.956506   4.246113"
      ]
     },
     "execution_count": 30,
     "metadata": {},
     "output_type": "execute_result"
    }
   ],
   "source": [
    "scoreDF = pd.DataFrame(score,index=[\"r2\",\"mae\",\"mse\",\"rmse\"])\n",
    "\n",
    "scoreDF"
   ]
  },
  {
   "cell_type": "code",
   "execution_count": 31,
   "id": "8ca835dc",
   "metadata": {},
   "outputs": [
    {
     "data": {
      "text/plain": [
       "<AxesSubplot:>"
      ]
     },
     "execution_count": 31,
     "metadata": {},
     "output_type": "execute_result"
    },
    {
     "data": {
      "image/png": "[encoded data removed]",
      "text/plain": [
       "<Figure size 640x480 with 1 Axes>"
      ]
     },
     "metadata": {},
     "output_type": "display_data"
    }
   ],
   "source": [
    "scoreDF.plot(kind=\"bar\")"
   ]
  },
  {
   "cell_type": "markdown",
   "id": "85516a73",
   "metadata": {},
   "source": [
    "#### So we have achived more accuracy with hypertunned parameter."
   ]
  },
  {
   "cell_type": "markdown",
   "id": "a07a841c",
   "metadata": {},
   "source": [
    "### Thank you for reading...."
   ]
  }
 ],
 "metadata": {
  "kernelspec": {
   "display_name": "Python 3 (ipykernel)",
   "language": "python",
   "name": "python3"
  },
  "language_info": {
   "codemirror_mode": {
    "name": "ipython",
    "version": 3
   },
   "file_extension": ".py",
   "mimetype": "text/x-python",
   "name": "python",
   "nbconvert_exporter": "python",
   "pygments_lexer": "ipython3",
   "version": "3.9.13"
  }
 },
 "nbformat": 4,
 "nbformat_minor": 5
}
